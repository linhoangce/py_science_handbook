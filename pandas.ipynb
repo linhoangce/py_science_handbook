{
 "cells": [
  {
   "metadata": {},
   "cell_type": "markdown",
   "source": "# The Pandas Series Object",
   "id": "8daf803a8d3a2897"
  },
  {
   "metadata": {},
   "cell_type": "markdown",
   "source": "A Pandas `Series` is a one-dimensional arrays of indexed data.",
   "id": "e64958bed363d900"
  },
  {
   "metadata": {
    "ExecuteTime": {
     "end_time": "2025-05-28T05:05:16.490693Z",
     "start_time": "2025-05-28T05:05:16.197830Z"
    }
   },
   "cell_type": "code",
   "source": [
    "import numpy as np\n",
    "import pandas as pd"
   ],
   "id": "58c321b27d40a7fc",
   "outputs": [],
   "execution_count": 1
  },
  {
   "metadata": {
    "ExecuteTime": {
     "end_time": "2025-05-28T05:05:54.859218Z",
     "start_time": "2025-05-28T05:05:54.846331Z"
    }
   },
   "cell_type": "code",
   "source": [
    "data = pd.Series([0.25, 0.5, 0.75, 1.])\n",
    "data"
   ],
   "id": "96b214456f06a41c",
   "outputs": [
    {
     "data": {
      "text/plain": [
       "0    0.25\n",
       "1    0.50\n",
       "2    0.75\n",
       "3    1.00\n",
       "dtype: float64"
      ]
     },
     "execution_count": 2,
     "metadata": {},
     "output_type": "execute_result"
    }
   ],
   "execution_count": 2
  },
  {
   "metadata": {
    "ExecuteTime": {
     "end_time": "2025-05-28T05:06:17.559343Z",
     "start_time": "2025-05-28T05:06:17.554217Z"
    }
   },
   "cell_type": "code",
   "source": "data.values",
   "id": "6c329707fd77ee72",
   "outputs": [
    {
     "data": {
      "text/plain": [
       "array([0.25, 0.5 , 0.75, 1.  ])"
      ]
     },
     "execution_count": 3,
     "metadata": {},
     "output_type": "execute_result"
    }
   ],
   "execution_count": 3
  },
  {
   "metadata": {
    "ExecuteTime": {
     "end_time": "2025-05-28T05:06:30.206634Z",
     "start_time": "2025-05-28T05:06:30.202016Z"
    }
   },
   "cell_type": "code",
   "source": "data.index",
   "id": "3ba6f03381310e05",
   "outputs": [
    {
     "data": {
      "text/plain": [
       "RangeIndex(start=0, stop=4, step=1)"
      ]
     },
     "execution_count": 5,
     "metadata": {},
     "output_type": "execute_result"
    }
   ],
   "execution_count": 5
  },
  {
   "metadata": {
    "ExecuteTime": {
     "end_time": "2025-05-28T05:06:47.091390Z",
     "start_time": "2025-05-28T05:06:47.087274Z"
    }
   },
   "cell_type": "code",
   "source": "data[1]",
   "id": "46c4f457873fae5",
   "outputs": [
    {
     "data": {
      "text/plain": [
       "np.float64(0.5)"
      ]
     },
     "execution_count": 6,
     "metadata": {},
     "output_type": "execute_result"
    }
   ],
   "execution_count": 6
  },
  {
   "metadata": {
    "ExecuteTime": {
     "end_time": "2025-05-28T05:06:54.959997Z",
     "start_time": "2025-05-28T05:06:54.953913Z"
    }
   },
   "cell_type": "code",
   "source": "data[1:3]",
   "id": "f7cc4ef8e6c46b24",
   "outputs": [
    {
     "data": {
      "text/plain": [
       "1    0.50\n",
       "2    0.75\n",
       "dtype: float64"
      ]
     },
     "execution_count": 7,
     "metadata": {},
     "output_type": "execute_result"
    }
   ],
   "execution_count": 7
  },
  {
   "metadata": {},
   "cell_type": "markdown",
   "source": "## `Series` as generalized NumPy array",
   "id": "e86e9456e8dffe9c"
  },
  {
   "metadata": {},
   "cell_type": "markdown",
   "source": [
    "the essential difference between `Series` object and one-dimensional NumPy array is that: while the np array has *implicitly defined* integer index used to access the values, the Pandas `Series` has an *explicitly defined* index associated with the values.\n",
    "\n",
    "This explicit index definition gives the `Series` object additional capabilities."
   ],
   "id": "67338687f6ba2cc0"
  },
  {
   "metadata": {
    "ExecuteTime": {
     "end_time": "2025-05-28T05:10:19.410950Z",
     "start_time": "2025-05-28T05:10:19.405137Z"
    }
   },
   "cell_type": "code",
   "source": [
    "data = pd.Series([0.25, 0.5, 0.75, 1.],\n",
    "                 index=['a', 'b', 'c', 'd'])\n",
    "data"
   ],
   "id": "e3a2e3ce1bbfe45",
   "outputs": [
    {
     "data": {
      "text/plain": [
       "a    0.25\n",
       "b    0.50\n",
       "c    0.75\n",
       "d    1.00\n",
       "dtype: float64"
      ]
     },
     "execution_count": 8,
     "metadata": {},
     "output_type": "execute_result"
    }
   ],
   "execution_count": 8
  },
  {
   "metadata": {
    "ExecuteTime": {
     "end_time": "2025-05-28T05:10:30.639365Z",
     "start_time": "2025-05-28T05:10:30.634204Z"
    }
   },
   "cell_type": "code",
   "source": "data['a']",
   "id": "e71a9c50f1e3405a",
   "outputs": [
    {
     "data": {
      "text/plain": [
       "np.float64(0.25)"
      ]
     },
     "execution_count": 9,
     "metadata": {},
     "output_type": "execute_result"
    }
   ],
   "execution_count": 9
  },
  {
   "metadata": {
    "ExecuteTime": {
     "end_time": "2025-05-28T05:10:33.699975Z",
     "start_time": "2025-05-28T05:10:33.695938Z"
    }
   },
   "cell_type": "code",
   "source": "data['d']",
   "id": "1f9fd63b4cfd7e53",
   "outputs": [
    {
     "data": {
      "text/plain": [
       "np.float64(1.0)"
      ]
     },
     "execution_count": 10,
     "metadata": {},
     "output_type": "execute_result"
    }
   ],
   "execution_count": 10
  },
  {
   "metadata": {
    "ExecuteTime": {
     "end_time": "2025-05-28T05:10:57.419126Z",
     "start_time": "2025-05-28T05:10:57.413740Z"
    }
   },
   "cell_type": "code",
   "source": [
    "data = pd.Series([0.25, 0.5, 0.75, 1.0],\n",
    "                 index=[2, 5, 3, 7])\n",
    "data"
   ],
   "id": "90517ce229fefece",
   "outputs": [
    {
     "data": {
      "text/plain": [
       "2    0.25\n",
       "5    0.50\n",
       "3    0.75\n",
       "7    1.00\n",
       "dtype: float64"
      ]
     },
     "execution_count": 11,
     "metadata": {},
     "output_type": "execute_result"
    }
   ],
   "execution_count": 11
  },
  {
   "metadata": {
    "ExecuteTime": {
     "end_time": "2025-05-28T05:11:02.608842Z",
     "start_time": "2025-05-28T05:11:02.604832Z"
    }
   },
   "cell_type": "code",
   "source": "data[5]",
   "id": "ac40089ec4885fd2",
   "outputs": [
    {
     "data": {
      "text/plain": [
       "np.float64(0.5)"
      ]
     },
     "execution_count": 12,
     "metadata": {},
     "output_type": "execute_result"
    }
   ],
   "execution_count": 12
  },
  {
   "metadata": {},
   "cell_type": "markdown",
   "source": "## Series as specialized dictionary",
   "id": "6ad08d560623c894"
  },
  {
   "metadata": {},
   "cell_type": "markdown",
   "source": [
    "a `Series` is a structure which maps typed keys to a set of typed values. This typing is important: just as the type-specific compiled code behind a NumPy array makes it more efficient than a Python list for certain operations, the type information of a Pandas `Series` makes it much more efficient than Python dictionaries for certain operations.\n",
    "\n",
    "The `Series`-as-dictionary analogy can be made even more clear by constructing a `Series` object directly from a Python dictionary:"
   ],
   "id": "6719885193fd3854"
  },
  {
   "metadata": {
    "ExecuteTime": {
     "end_time": "2025-05-28T05:15:07.712407Z",
     "start_time": "2025-05-28T05:15:07.706702Z"
    }
   },
   "cell_type": "code",
   "source": [
    "population_dict = {'California' : 28342525,\n",
    "                   'Texas' : 1232343,\n",
    "                   'New York' : 19334,\n",
    "                   'Florida' : 1232434,\n",
    "                   'Illinois' : 3432442}\n",
    "population = pd.Series(population_dict)\n",
    "population"
   ],
   "id": "58597882a006dada",
   "outputs": [
    {
     "data": {
      "text/plain": [
       "California    28342525\n",
       "Texas          1232343\n",
       "New York         19334\n",
       "Florida        1232434\n",
       "Illinois       3432442\n",
       "dtype: int64"
      ]
     },
     "execution_count": 13,
     "metadata": {},
     "output_type": "execute_result"
    }
   ],
   "execution_count": 13
  },
  {
   "metadata": {
    "ExecuteTime": {
     "end_time": "2025-05-28T05:15:43.192351Z",
     "start_time": "2025-05-28T05:15:43.187994Z"
    }
   },
   "cell_type": "code",
   "source": "population['New York'].item()",
   "id": "a79341b9a10fea90",
   "outputs": [
    {
     "data": {
      "text/plain": [
       "19334"
      ]
     },
     "execution_count": 15,
     "metadata": {},
     "output_type": "execute_result"
    }
   ],
   "execution_count": 15
  },
  {
   "metadata": {},
   "cell_type": "markdown",
   "source": "Unlike a Python dictionary, the `Series` supports array-style operations such as slicing:",
   "id": "21fa4c2ac7f3065e"
  },
  {
   "metadata": {
    "ExecuteTime": {
     "end_time": "2025-05-28T05:16:34.447814Z",
     "start_time": "2025-05-28T05:16:34.439902Z"
    }
   },
   "cell_type": "code",
   "source": "population['California':'Florida']",
   "id": "9f6e878498b5fc42",
   "outputs": [
    {
     "data": {
      "text/plain": [
       "California    28342525\n",
       "Texas          1232343\n",
       "New York         19334\n",
       "Florida        1232434\n",
       "dtype: int64"
      ]
     },
     "execution_count": 16,
     "metadata": {},
     "output_type": "execute_result"
    }
   ],
   "execution_count": 16
  },
  {
   "metadata": {},
   "cell_type": "markdown",
   "source": "## Constructing Series objects",
   "id": "ff0ff3a47c63f7db"
  },
  {
   "metadata": {
    "ExecuteTime": {
     "end_time": "2025-05-28T05:18:17.534642Z",
     "start_time": "2025-05-28T05:18:17.529401Z"
    }
   },
   "cell_type": "code",
   "source": "pd.Series([2, 3, 4])",
   "id": "c72e7fd19333ae95",
   "outputs": [
    {
     "data": {
      "text/plain": [
       "0    2\n",
       "1    3\n",
       "2    4\n",
       "dtype: int64"
      ]
     },
     "execution_count": 17,
     "metadata": {},
     "output_type": "execute_result"
    }
   ],
   "execution_count": 17
  },
  {
   "metadata": {
    "ExecuteTime": {
     "end_time": "2025-05-28T05:18:56.870254Z",
     "start_time": "2025-05-28T05:18:56.863755Z"
    }
   },
   "cell_type": "code",
   "source": [
    "# data arg can be a scalar\n",
    "pd.Series(3, index=[100, 200, 300])"
   ],
   "id": "2078654cfe60df16",
   "outputs": [
    {
     "data": {
      "text/plain": [
       "100    3\n",
       "200    3\n",
       "300    3\n",
       "dtype: int64"
      ]
     },
     "execution_count": 18,
     "metadata": {},
     "output_type": "execute_result"
    }
   ],
   "execution_count": 18
  },
  {
   "metadata": {
    "ExecuteTime": {
     "end_time": "2025-05-28T05:20:19.096953Z",
     "start_time": "2025-05-28T05:20:19.091364Z"
    }
   },
   "cell_type": "code",
   "source": [
    "# data arg as a dict\n",
    "# populated only with the explicit identified keys\n",
    "pd.Series({2 : 'a', 3 : 'b', 4 : 'c'}, index=[3, 2])"
   ],
   "id": "17a97153607dbaaa",
   "outputs": [
    {
     "data": {
      "text/plain": [
       "3    b\n",
       "2    a\n",
       "dtype: object"
      ]
     },
     "execution_count": 21,
     "metadata": {},
     "output_type": "execute_result"
    }
   ],
   "execution_count": 21
  },
  {
   "metadata": {},
   "cell_type": "markdown",
   "source": "# the Pandas DataFrame Object\n",
   "id": "12f18cfc5688e3aa"
  },
  {
   "metadata": {},
   "cell_type": "markdown",
   "source": "## DataFrame as a generalized NumPy Array",
   "id": "a74fdf3ee101a730"
  },
  {
   "metadata": {},
   "cell_type": "markdown",
   "source": "`DataFrame` is an analog of a two-dimensional array with both flexible row indices and flexible column names. A two-dimensional array can be thought as an ordered sequence of aligned one-dimensional columsn, and DataFrame can be thought as a sequence of aligned `Series` objects. meaning they share the same index.",
   "id": "9c94a0a20cbd4934"
  },
  {
   "metadata": {
    "ExecuteTime": {
     "end_time": "2025-05-28T05:24:59.450575Z",
     "start_time": "2025-05-28T05:24:59.444917Z"
    }
   },
   "cell_type": "code",
   "source": [
    "area_dict = {'California': 423967, 'Texas': 695662, 'New York': 141297,\n",
    "             'Florida': 170312, 'Illinois': 149995}\n",
    "area = pd.Series(area_dict)\n",
    "area"
   ],
   "id": "76b881b84b8b7b41",
   "outputs": [
    {
     "data": {
      "text/plain": [
       "California    423967\n",
       "Texas         695662\n",
       "New York      141297\n",
       "Florida       170312\n",
       "Illinois      149995\n",
       "dtype: int64"
      ]
     },
     "execution_count": 22,
     "metadata": {},
     "output_type": "execute_result"
    }
   ],
   "execution_count": 22
  },
  {
   "metadata": {
    "ExecuteTime": {
     "end_time": "2025-05-28T05:25:52.537727Z",
     "start_time": "2025-05-28T05:25:52.530993Z"
    }
   },
   "cell_type": "code",
   "source": [
    "states = pd.DataFrame({'population' : population,\n",
    "                       'area' : area})\n",
    "states"
   ],
   "id": "c60cd4c099c4ab05",
   "outputs": [
    {
     "data": {
      "text/plain": [
       "            population    area\n",
       "California    28342525  423967\n",
       "Texas          1232343  695662\n",
       "New York         19334  141297\n",
       "Florida        1232434  170312\n",
       "Illinois       3432442  149995"
      ],
      "text/html": [
       "<div>\n",
       "<style scoped>\n",
       "    .dataframe tbody tr th:only-of-type {\n",
       "        vertical-align: middle;\n",
       "    }\n",
       "\n",
       "    .dataframe tbody tr th {\n",
       "        vertical-align: top;\n",
       "    }\n",
       "\n",
       "    .dataframe thead th {\n",
       "        text-align: right;\n",
       "    }\n",
       "</style>\n",
       "<table border=\"1\" class=\"dataframe\">\n",
       "  <thead>\n",
       "    <tr style=\"text-align: right;\">\n",
       "      <th></th>\n",
       "      <th>population</th>\n",
       "      <th>area</th>\n",
       "    </tr>\n",
       "  </thead>\n",
       "  <tbody>\n",
       "    <tr>\n",
       "      <th>California</th>\n",
       "      <td>28342525</td>\n",
       "      <td>423967</td>\n",
       "    </tr>\n",
       "    <tr>\n",
       "      <th>Texas</th>\n",
       "      <td>1232343</td>\n",
       "      <td>695662</td>\n",
       "    </tr>\n",
       "    <tr>\n",
       "      <th>New York</th>\n",
       "      <td>19334</td>\n",
       "      <td>141297</td>\n",
       "    </tr>\n",
       "    <tr>\n",
       "      <th>Florida</th>\n",
       "      <td>1232434</td>\n",
       "      <td>170312</td>\n",
       "    </tr>\n",
       "    <tr>\n",
       "      <th>Illinois</th>\n",
       "      <td>3432442</td>\n",
       "      <td>149995</td>\n",
       "    </tr>\n",
       "  </tbody>\n",
       "</table>\n",
       "</div>"
      ]
     },
     "execution_count": 23,
     "metadata": {},
     "output_type": "execute_result"
    }
   ],
   "execution_count": 23
  },
  {
   "metadata": {
    "ExecuteTime": {
     "end_time": "2025-05-28T05:26:57.357061Z",
     "start_time": "2025-05-28T05:26:57.352637Z"
    }
   },
   "cell_type": "code",
   "source": "states.index",
   "id": "ac58100a0042c300",
   "outputs": [
    {
     "data": {
      "text/plain": [
       "Index(['California', 'Texas', 'New York', 'Florida', 'Illinois'], dtype='object')"
      ]
     },
     "execution_count": 24,
     "metadata": {},
     "output_type": "execute_result"
    }
   ],
   "execution_count": 24
  },
  {
   "metadata": {
    "ExecuteTime": {
     "end_time": "2025-05-28T05:27:33.242782Z",
     "start_time": "2025-05-28T05:27:33.237833Z"
    }
   },
   "cell_type": "code",
   "source": "states['population']",
   "id": "caa2ba80e173d991",
   "outputs": [
    {
     "data": {
      "text/plain": [
       "California    28342525\n",
       "Texas          1232343\n",
       "New York         19334\n",
       "Florida        1232434\n",
       "Illinois       3432442\n",
       "Name: population, dtype: int64"
      ]
     },
     "execution_count": 27,
     "metadata": {},
     "output_type": "execute_result"
    }
   ],
   "execution_count": 27
  },
  {
   "metadata": {
    "ExecuteTime": {
     "end_time": "2025-05-28T05:27:44.187794Z",
     "start_time": "2025-05-28T05:27:44.183701Z"
    }
   },
   "cell_type": "code",
   "source": "states.columns",
   "id": "b0fdc812d208aaac",
   "outputs": [
    {
     "data": {
      "text/plain": [
       "Index(['population', 'area'], dtype='object')"
      ]
     },
     "execution_count": 29,
     "metadata": {},
     "output_type": "execute_result"
    }
   ],
   "execution_count": 29
  },
  {
   "metadata": {},
   "cell_type": "markdown",
   "source": [
    "## DataFrame as specialized dictionary\n",
    "\n",
    "A DataFrame maps a column name to a Series of columns data."
   ],
   "id": "6e05dd9ffb0090b5"
  },
  {
   "metadata": {
    "ExecuteTime": {
     "end_time": "2025-05-28T05:34:55.754432Z",
     "start_time": "2025-05-28T05:34:55.748489Z"
    }
   },
   "cell_type": "code",
   "source": "states['area']",
   "id": "465a6cdef753bdfa",
   "outputs": [
    {
     "data": {
      "text/plain": [
       "California    423967\n",
       "Texas         695662\n",
       "New York      141297\n",
       "Florida       170312\n",
       "Illinois      149995\n",
       "Name: area, dtype: int64"
      ]
     },
     "execution_count": 33,
     "metadata": {},
     "output_type": "execute_result"
    }
   ],
   "execution_count": 33
  },
  {
   "metadata": {},
   "cell_type": "markdown",
   "source": "## Constructing DataFrame objects\n",
   "id": "4ac42afc6c3eadfc"
  },
  {
   "metadata": {},
   "cell_type": "markdown",
   "source": "### From a single Series object",
   "id": "1e1f8e34369efb4a"
  },
  {
   "metadata": {
    "ExecuteTime": {
     "end_time": "2025-05-28T05:36:39.443211Z",
     "start_time": "2025-05-28T05:36:39.437009Z"
    }
   },
   "cell_type": "code",
   "source": "pd.DataFrame(population, columns=['population'])",
   "id": "f6069fda14eb676c",
   "outputs": [
    {
     "data": {
      "text/plain": [
       "            population\n",
       "California    28342525\n",
       "Texas          1232343\n",
       "New York         19334\n",
       "Florida        1232434\n",
       "Illinois       3432442"
      ],
      "text/html": [
       "<div>\n",
       "<style scoped>\n",
       "    .dataframe tbody tr th:only-of-type {\n",
       "        vertical-align: middle;\n",
       "    }\n",
       "\n",
       "    .dataframe tbody tr th {\n",
       "        vertical-align: top;\n",
       "    }\n",
       "\n",
       "    .dataframe thead th {\n",
       "        text-align: right;\n",
       "    }\n",
       "</style>\n",
       "<table border=\"1\" class=\"dataframe\">\n",
       "  <thead>\n",
       "    <tr style=\"text-align: right;\">\n",
       "      <th></th>\n",
       "      <th>population</th>\n",
       "    </tr>\n",
       "  </thead>\n",
       "  <tbody>\n",
       "    <tr>\n",
       "      <th>California</th>\n",
       "      <td>28342525</td>\n",
       "    </tr>\n",
       "    <tr>\n",
       "      <th>Texas</th>\n",
       "      <td>1232343</td>\n",
       "    </tr>\n",
       "    <tr>\n",
       "      <th>New York</th>\n",
       "      <td>19334</td>\n",
       "    </tr>\n",
       "    <tr>\n",
       "      <th>Florida</th>\n",
       "      <td>1232434</td>\n",
       "    </tr>\n",
       "    <tr>\n",
       "      <th>Illinois</th>\n",
       "      <td>3432442</td>\n",
       "    </tr>\n",
       "  </tbody>\n",
       "</table>\n",
       "</div>"
      ]
     },
     "execution_count": 34,
     "metadata": {},
     "output_type": "execute_result"
    }
   ],
   "execution_count": 34
  },
  {
   "metadata": {},
   "cell_type": "markdown",
   "source": "### From a list of dicts",
   "id": "828664b6c6161659"
  },
  {
   "metadata": {
    "ExecuteTime": {
     "end_time": "2025-05-28T05:37:28.445302Z",
     "start_time": "2025-05-28T05:37:28.440995Z"
    }
   },
   "cell_type": "code",
   "source": [
    "data = [{'a': i, 'b': 2 * i}\n",
    "        for i in range(3)]\n",
    "data"
   ],
   "id": "9f0bddbc67c26ef1",
   "outputs": [
    {
     "data": {
      "text/plain": [
       "[{'a': 0, 'b': 0}, {'a': 1, 'b': 2}, {'a': 2, 'b': 4}]"
      ]
     },
     "execution_count": 35,
     "metadata": {},
     "output_type": "execute_result"
    }
   ],
   "execution_count": 35
  },
  {
   "metadata": {
    "ExecuteTime": {
     "end_time": "2025-05-28T05:37:54.505336Z",
     "start_time": "2025-05-28T05:37:54.499446Z"
    }
   },
   "cell_type": "code",
   "source": "pd.DataFrame(data)",
   "id": "87f5a17005c3d576",
   "outputs": [
    {
     "data": {
      "text/plain": [
       "   a  b\n",
       "0  0  0\n",
       "1  1  2\n",
       "2  2  4"
      ],
      "text/html": [
       "<div>\n",
       "<style scoped>\n",
       "    .dataframe tbody tr th:only-of-type {\n",
       "        vertical-align: middle;\n",
       "    }\n",
       "\n",
       "    .dataframe tbody tr th {\n",
       "        vertical-align: top;\n",
       "    }\n",
       "\n",
       "    .dataframe thead th {\n",
       "        text-align: right;\n",
       "    }\n",
       "</style>\n",
       "<table border=\"1\" class=\"dataframe\">\n",
       "  <thead>\n",
       "    <tr style=\"text-align: right;\">\n",
       "      <th></th>\n",
       "      <th>a</th>\n",
       "      <th>b</th>\n",
       "    </tr>\n",
       "  </thead>\n",
       "  <tbody>\n",
       "    <tr>\n",
       "      <th>0</th>\n",
       "      <td>0</td>\n",
       "      <td>0</td>\n",
       "    </tr>\n",
       "    <tr>\n",
       "      <th>1</th>\n",
       "      <td>1</td>\n",
       "      <td>2</td>\n",
       "    </tr>\n",
       "    <tr>\n",
       "      <th>2</th>\n",
       "      <td>2</td>\n",
       "      <td>4</td>\n",
       "    </tr>\n",
       "  </tbody>\n",
       "</table>\n",
       "</div>"
      ]
     },
     "execution_count": 36,
     "metadata": {},
     "output_type": "execute_result"
    }
   ],
   "execution_count": 36
  },
  {
   "metadata": {
    "ExecuteTime": {
     "end_time": "2025-05-28T05:39:22.716744Z",
     "start_time": "2025-05-28T05:39:22.706292Z"
    }
   },
   "cell_type": "code",
   "source": [
    "# missing values for keys, filled with NaN\n",
    "pd.DataFrame([{'a': 1, 'b': 2},\n",
    "              {'b': 3, 'c': 4}])"
   ],
   "id": "9618357dd7512b30",
   "outputs": [
    {
     "data": {
      "text/plain": [
       "     a  b    c\n",
       "0  1.0  2  NaN\n",
       "1  NaN  3  4.0"
      ],
      "text/html": [
       "<div>\n",
       "<style scoped>\n",
       "    .dataframe tbody tr th:only-of-type {\n",
       "        vertical-align: middle;\n",
       "    }\n",
       "\n",
       "    .dataframe tbody tr th {\n",
       "        vertical-align: top;\n",
       "    }\n",
       "\n",
       "    .dataframe thead th {\n",
       "        text-align: right;\n",
       "    }\n",
       "</style>\n",
       "<table border=\"1\" class=\"dataframe\">\n",
       "  <thead>\n",
       "    <tr style=\"text-align: right;\">\n",
       "      <th></th>\n",
       "      <th>a</th>\n",
       "      <th>b</th>\n",
       "      <th>c</th>\n",
       "    </tr>\n",
       "  </thead>\n",
       "  <tbody>\n",
       "    <tr>\n",
       "      <th>0</th>\n",
       "      <td>1.0</td>\n",
       "      <td>2</td>\n",
       "      <td>NaN</td>\n",
       "    </tr>\n",
       "    <tr>\n",
       "      <th>1</th>\n",
       "      <td>NaN</td>\n",
       "      <td>3</td>\n",
       "      <td>4.0</td>\n",
       "    </tr>\n",
       "  </tbody>\n",
       "</table>\n",
       "</div>"
      ]
     },
     "execution_count": 38,
     "metadata": {},
     "output_type": "execute_result"
    }
   ],
   "execution_count": 38
  },
  {
   "metadata": {},
   "cell_type": "markdown",
   "source": "### From a dictionary of Series objects",
   "id": "9bfc79217f69b0f6"
  },
  {
   "metadata": {
    "ExecuteTime": {
     "end_time": "2025-05-28T05:40:41.756161Z",
     "start_time": "2025-05-28T05:40:41.750266Z"
    }
   },
   "cell_type": "code",
   "source": [
    "pd.DataFrame({'population': population,\n",
    "              'area': area})"
   ],
   "id": "a078116189e291e4",
   "outputs": [
    {
     "data": {
      "text/plain": [
       "            population    area\n",
       "California    28342525  423967\n",
       "Texas          1232343  695662\n",
       "New York         19334  141297\n",
       "Florida        1232434  170312\n",
       "Illinois       3432442  149995"
      ],
      "text/html": [
       "<div>\n",
       "<style scoped>\n",
       "    .dataframe tbody tr th:only-of-type {\n",
       "        vertical-align: middle;\n",
       "    }\n",
       "\n",
       "    .dataframe tbody tr th {\n",
       "        vertical-align: top;\n",
       "    }\n",
       "\n",
       "    .dataframe thead th {\n",
       "        text-align: right;\n",
       "    }\n",
       "</style>\n",
       "<table border=\"1\" class=\"dataframe\">\n",
       "  <thead>\n",
       "    <tr style=\"text-align: right;\">\n",
       "      <th></th>\n",
       "      <th>population</th>\n",
       "      <th>area</th>\n",
       "    </tr>\n",
       "  </thead>\n",
       "  <tbody>\n",
       "    <tr>\n",
       "      <th>California</th>\n",
       "      <td>28342525</td>\n",
       "      <td>423967</td>\n",
       "    </tr>\n",
       "    <tr>\n",
       "      <th>Texas</th>\n",
       "      <td>1232343</td>\n",
       "      <td>695662</td>\n",
       "    </tr>\n",
       "    <tr>\n",
       "      <th>New York</th>\n",
       "      <td>19334</td>\n",
       "      <td>141297</td>\n",
       "    </tr>\n",
       "    <tr>\n",
       "      <th>Florida</th>\n",
       "      <td>1232434</td>\n",
       "      <td>170312</td>\n",
       "    </tr>\n",
       "    <tr>\n",
       "      <th>Illinois</th>\n",
       "      <td>3432442</td>\n",
       "      <td>149995</td>\n",
       "    </tr>\n",
       "  </tbody>\n",
       "</table>\n",
       "</div>"
      ]
     },
     "execution_count": 39,
     "metadata": {},
     "output_type": "execute_result"
    }
   ],
   "execution_count": 39
  },
  {
   "metadata": {},
   "cell_type": "markdown",
   "source": "### From a two-dimensional array",
   "id": "fe9c657c585ed077"
  },
  {
   "metadata": {
    "ExecuteTime": {
     "end_time": "2025-05-28T05:41:51.147354Z",
     "start_time": "2025-05-28T05:41:51.139253Z"
    }
   },
   "cell_type": "code",
   "source": [
    "pd.DataFrame(np.random.rand(3, 2),\n",
    "             columns=['foo', 'bar'],\n",
    "             index=['a', 'b', 'c'])"
   ],
   "id": "c35973c0d1fb74d7",
   "outputs": [
    {
     "data": {
      "text/plain": [
       "        foo       bar\n",
       "a  0.740665  0.830965\n",
       "b  0.414922  0.604048\n",
       "c  0.453683  0.608704"
      ],
      "text/html": [
       "<div>\n",
       "<style scoped>\n",
       "    .dataframe tbody tr th:only-of-type {\n",
       "        vertical-align: middle;\n",
       "    }\n",
       "\n",
       "    .dataframe tbody tr th {\n",
       "        vertical-align: top;\n",
       "    }\n",
       "\n",
       "    .dataframe thead th {\n",
       "        text-align: right;\n",
       "    }\n",
       "</style>\n",
       "<table border=\"1\" class=\"dataframe\">\n",
       "  <thead>\n",
       "    <tr style=\"text-align: right;\">\n",
       "      <th></th>\n",
       "      <th>foo</th>\n",
       "      <th>bar</th>\n",
       "    </tr>\n",
       "  </thead>\n",
       "  <tbody>\n",
       "    <tr>\n",
       "      <th>a</th>\n",
       "      <td>0.740665</td>\n",
       "      <td>0.830965</td>\n",
       "    </tr>\n",
       "    <tr>\n",
       "      <th>b</th>\n",
       "      <td>0.414922</td>\n",
       "      <td>0.604048</td>\n",
       "    </tr>\n",
       "    <tr>\n",
       "      <th>c</th>\n",
       "      <td>0.453683</td>\n",
       "      <td>0.608704</td>\n",
       "    </tr>\n",
       "  </tbody>\n",
       "</table>\n",
       "</div>"
      ]
     },
     "execution_count": 40,
     "metadata": {},
     "output_type": "execute_result"
    }
   ],
   "execution_count": 40
  },
  {
   "metadata": {},
   "cell_type": "markdown",
   "source": "### From a NumPy structured array",
   "id": "5311105911beec15"
  },
  {
   "metadata": {
    "ExecuteTime": {
     "end_time": "2025-05-28T05:47:50.840892Z",
     "start_time": "2025-05-28T05:47:50.835774Z"
    }
   },
   "cell_type": "code",
   "source": [
    "A = np.zeros(3, dtype=[('A', 'i8'), ('B', 'f8')])\n",
    "A"
   ],
   "id": "d7cac4fb840c2977",
   "outputs": [
    {
     "data": {
      "text/plain": [
       "array([(0, 0.), (0, 0.), (0, 0.)], dtype=[('A', '<i8'), ('B', '<f8')])"
      ]
     },
     "execution_count": 41,
     "metadata": {},
     "output_type": "execute_result"
    }
   ],
   "execution_count": 41
  },
  {
   "metadata": {
    "ExecuteTime": {
     "end_time": "2025-05-28T05:48:03.265425Z",
     "start_time": "2025-05-28T05:48:03.258917Z"
    }
   },
   "cell_type": "code",
   "source": "pd.DataFrame(A)",
   "id": "6a95a8cce6ff0050",
   "outputs": [
    {
     "data": {
      "text/plain": [
       "   A    B\n",
       "0  0  0.0\n",
       "1  0  0.0\n",
       "2  0  0.0"
      ],
      "text/html": [
       "<div>\n",
       "<style scoped>\n",
       "    .dataframe tbody tr th:only-of-type {\n",
       "        vertical-align: middle;\n",
       "    }\n",
       "\n",
       "    .dataframe tbody tr th {\n",
       "        vertical-align: top;\n",
       "    }\n",
       "\n",
       "    .dataframe thead th {\n",
       "        text-align: right;\n",
       "    }\n",
       "</style>\n",
       "<table border=\"1\" class=\"dataframe\">\n",
       "  <thead>\n",
       "    <tr style=\"text-align: right;\">\n",
       "      <th></th>\n",
       "      <th>A</th>\n",
       "      <th>B</th>\n",
       "    </tr>\n",
       "  </thead>\n",
       "  <tbody>\n",
       "    <tr>\n",
       "      <th>0</th>\n",
       "      <td>0</td>\n",
       "      <td>0.0</td>\n",
       "    </tr>\n",
       "    <tr>\n",
       "      <th>1</th>\n",
       "      <td>0</td>\n",
       "      <td>0.0</td>\n",
       "    </tr>\n",
       "    <tr>\n",
       "      <th>2</th>\n",
       "      <td>0</td>\n",
       "      <td>0.0</td>\n",
       "    </tr>\n",
       "  </tbody>\n",
       "</table>\n",
       "</div>"
      ]
     },
     "execution_count": 42,
     "metadata": {},
     "output_type": "execute_result"
    }
   ],
   "execution_count": 42
  },
  {
   "metadata": {},
   "cell_type": "markdown",
   "source": "# The Pandas Index Object",
   "id": "21385b167b79d70e"
  },
  {
   "metadata": {},
   "cell_type": "markdown",
   "source": "We have seen that both the `Series` and `DataFrame` objects contain an explicit *index* that lets us reference and modify data. This `index` object is an interesting structure in itself, and it can be thought of either as an *immutable array* or an *ordered set* (technically a multi-set, as Index object may contain repeated values). Those views have some interesting consequences in the operations available on Index objects.",
   "id": "911003a2ee7a8f6d"
  },
  {
   "metadata": {
    "ExecuteTime": {
     "end_time": "2025-05-28T05:51:24.745536Z",
     "start_time": "2025-05-28T05:51:24.740679Z"
    }
   },
   "cell_type": "code",
   "source": [
    "ind = pd.Index([2, 3, 5, 7, 11])\n",
    "ind"
   ],
   "id": "a10de165061a2a79",
   "outputs": [
    {
     "data": {
      "text/plain": [
       "Index([2, 3, 5, 7, 11], dtype='int64')"
      ]
     },
     "execution_count": 43,
     "metadata": {},
     "output_type": "execute_result"
    }
   ],
   "execution_count": 43
  },
  {
   "metadata": {},
   "cell_type": "markdown",
   "source": "## Index as immutable array",
   "id": "e50ed83a5772677d"
  },
  {
   "metadata": {
    "ExecuteTime": {
     "end_time": "2025-05-28T05:51:43.647645Z",
     "start_time": "2025-05-28T05:51:43.643583Z"
    }
   },
   "cell_type": "code",
   "source": "ind[1]",
   "id": "1feb1bda41df4723",
   "outputs": [
    {
     "data": {
      "text/plain": [
       "np.int64(3)"
      ]
     },
     "execution_count": 44,
     "metadata": {},
     "output_type": "execute_result"
    }
   ],
   "execution_count": 44
  },
  {
   "metadata": {
    "ExecuteTime": {
     "end_time": "2025-05-28T05:51:56.207221Z",
     "start_time": "2025-05-28T05:51:56.202920Z"
    }
   },
   "cell_type": "code",
   "source": "ind[::2]",
   "id": "27cf208478d2d57a",
   "outputs": [
    {
     "data": {
      "text/plain": [
       "Index([2, 5, 11], dtype='int64')"
      ]
     },
     "execution_count": 45,
     "metadata": {},
     "output_type": "execute_result"
    }
   ],
   "execution_count": 45
  },
  {
   "metadata": {
    "ExecuteTime": {
     "end_time": "2025-05-28T05:52:30.830646Z",
     "start_time": "2025-05-28T05:52:30.826293Z"
    }
   },
   "cell_type": "code",
   "source": "print(ind.size, ind.shape, ind.ndim, ind.dtype)",
   "id": "7280ebda0ed09a11",
   "outputs": [
    {
     "name": "stdout",
     "output_type": "stream",
     "text": [
      "5 (5,) 1 int64\n"
     ]
    }
   ],
   "execution_count": 46
  },
  {
   "metadata": {},
   "cell_type": "markdown",
   "source": "One difference between Index object and NumPy array is that indices are immutable, that they cannot be modified via normal means:",
   "id": "6b36355b987ed629"
  },
  {
   "metadata": {
    "ExecuteTime": {
     "end_time": "2025-05-28T05:53:39.083730Z",
     "start_time": "2025-05-28T05:53:38.930321Z"
    }
   },
   "cell_type": "code",
   "source": "ind[1] = 0",
   "id": "199607f011b0cb77",
   "outputs": [
    {
     "ename": "TypeError",
     "evalue": "Index does not support mutable operations",
     "output_type": "error",
     "traceback": [
      "\u001B[1;31m---------------------------------------------------------------------------\u001B[0m",
      "\u001B[1;31mTypeError\u001B[0m                                 Traceback (most recent call last)",
      "Cell \u001B[1;32mIn[47], line 1\u001B[0m\n\u001B[1;32m----> 1\u001B[0m \u001B[43mind\u001B[49m\u001B[43m[\u001B[49m\u001B[38;5;241;43m1\u001B[39;49m\u001B[43m]\u001B[49m \u001B[38;5;241m=\u001B[39m \u001B[38;5;241m0\u001B[39m\n",
      "File \u001B[1;32m~\\Desktop\\CST\\Self-directed Learning - Winter 2025\\neuralnetwork_deeplearning\\.venv\\Lib\\site-packages\\pandas\\core\\indexes\\base.py:5371\u001B[0m, in \u001B[0;36mIndex.__setitem__\u001B[1;34m(self, key, value)\u001B[0m\n\u001B[0;32m   5369\u001B[0m \u001B[38;5;129m@final\u001B[39m\n\u001B[0;32m   5370\u001B[0m \u001B[38;5;28;01mdef\u001B[39;00m\u001B[38;5;250m \u001B[39m\u001B[38;5;21m__setitem__\u001B[39m(\u001B[38;5;28mself\u001B[39m, key, value) \u001B[38;5;241m-\u001B[39m\u001B[38;5;241m>\u001B[39m \u001B[38;5;28;01mNone\u001B[39;00m:\n\u001B[1;32m-> 5371\u001B[0m     \u001B[38;5;28;01mraise\u001B[39;00m \u001B[38;5;167;01mTypeError\u001B[39;00m(\u001B[38;5;124m\"\u001B[39m\u001B[38;5;124mIndex does not support mutable operations\u001B[39m\u001B[38;5;124m\"\u001B[39m)\n",
      "\u001B[1;31mTypeError\u001B[0m: Index does not support mutable operations"
     ]
    }
   ],
   "execution_count": 47
  },
  {
   "metadata": {},
   "cell_type": "markdown",
   "source": [
    "## Index as ordered set\n",
    "\n",
    "Pandas objects are designed to facilitate operations such as joins across datasets, which depend on many aspects of set arithmetic. The Index object follows many of the conventions used by Python's built-in set data structure, so that unions, intersections, differences, and other combinations can be computed in a familar way:"
   ],
   "id": "be755e75cbd4d851"
  },
  {
   "metadata": {
    "ExecuteTime": {
     "end_time": "2025-05-28T05:56:48.592133Z",
     "start_time": "2025-05-28T05:56:48.588067Z"
    }
   },
   "cell_type": "code",
   "source": [
    "indA = pd.Index([1, 3, 5, 7, 9])\n",
    "indB = pd.Index([2, 3, 5, 7, 11])"
   ],
   "id": "b0ec13612b9c34e0",
   "outputs": [],
   "execution_count": 48
  },
  {
   "metadata": {
    "ExecuteTime": {
     "end_time": "2025-05-28T05:59:25.319065Z",
     "start_time": "2025-05-28T05:59:25.314374Z"
    }
   },
   "cell_type": "code",
   "source": "indA & indB # not correct anymore because this performs bitwise op",
   "id": "6ce511cedab81070",
   "outputs": [
    {
     "data": {
      "text/plain": [
       "Index([0, 3, 5, 7, 9], dtype='int64')"
      ]
     },
     "execution_count": 53,
     "metadata": {},
     "output_type": "execute_result"
    }
   ],
   "execution_count": 53
  },
  {
   "metadata": {
    "ExecuteTime": {
     "end_time": "2025-05-28T05:59:54.586347Z",
     "start_time": "2025-05-28T05:59:54.580938Z"
    }
   },
   "cell_type": "code",
   "source": "indA.intersection(indB)",
   "id": "3d71f95dabac3e08",
   "outputs": [
    {
     "data": {
      "text/plain": [
       "Index([3, 5, 7], dtype='int64')"
      ]
     },
     "execution_count": 54,
     "metadata": {},
     "output_type": "execute_result"
    }
   ],
   "execution_count": 54
  },
  {
   "metadata": {
    "ExecuteTime": {
     "end_time": "2025-05-28T06:00:02.337534Z",
     "start_time": "2025-05-28T06:00:02.333189Z"
    }
   },
   "cell_type": "code",
   "source": "indA | indB # same reason",
   "id": "ea029e67dc6dd015",
   "outputs": [
    {
     "data": {
      "text/plain": [
       "Index([3, 3, 5, 7, 11], dtype='int64')"
      ]
     },
     "execution_count": 55,
     "metadata": {},
     "output_type": "execute_result"
    }
   ],
   "execution_count": 55
  },
  {
   "metadata": {
    "ExecuteTime": {
     "end_time": "2025-05-28T06:00:11.683688Z",
     "start_time": "2025-05-28T06:00:11.679008Z"
    }
   },
   "cell_type": "code",
   "source": "indA.union(indB)",
   "id": "590c7454c5ce385b",
   "outputs": [
    {
     "data": {
      "text/plain": [
       "Index([1, 2, 3, 5, 7, 9, 11], dtype='int64')"
      ]
     },
     "execution_count": 56,
     "metadata": {},
     "output_type": "execute_result"
    }
   ],
   "execution_count": 56
  },
  {
   "metadata": {
    "ExecuteTime": {
     "end_time": "2025-05-28T06:00:16.639237Z",
     "start_time": "2025-05-28T06:00:16.634567Z"
    }
   },
   "cell_type": "code",
   "source": "indA ^ indB",
   "id": "96f893562f79edb0",
   "outputs": [
    {
     "data": {
      "text/plain": [
       "Index([3, 0, 0, 0, 2], dtype='int64')"
      ]
     },
     "execution_count": 57,
     "metadata": {},
     "output_type": "execute_result"
    }
   ],
   "execution_count": 57
  },
  {
   "metadata": {
    "ExecuteTime": {
     "end_time": "2025-05-28T06:00:23.689383Z",
     "start_time": "2025-05-28T06:00:23.684227Z"
    }
   },
   "cell_type": "code",
   "source": "indA.difference(indB)",
   "id": "2b957ebd21bfd692",
   "outputs": [
    {
     "data": {
      "text/plain": [
       "Index([1, 9], dtype='int64')"
      ]
     },
     "execution_count": 58,
     "metadata": {},
     "output_type": "execute_result"
    }
   ],
   "execution_count": 58
  },
  {
   "metadata": {},
   "cell_type": "markdown",
   "source": "# Data Indexing and Selection",
   "id": "1b3a10a8ad7d4344"
  },
  {
   "metadata": {},
   "cell_type": "markdown",
   "source": "## Data Selection in Series",
   "id": "2f707e04ee40d494"
  },
  {
   "metadata": {},
   "cell_type": "markdown",
   "source": [
    "### Series as dictionary\n",
    "\n",
    "Like a dictionary, the `Series` object provides a mapping from a collection of keys to a collection of values:"
   ],
   "id": "1ade61465dc96a0c"
  },
  {
   "metadata": {
    "ExecuteTime": {
     "end_time": "2025-06-01T03:54:05.991284Z",
     "start_time": "2025-06-01T03:54:05.897542Z"
    }
   },
   "cell_type": "code",
   "source": [
    "data  = pd.Series([0.25, 0.5, 0.75, 1.],\n",
    "                  index=['a', 'b', 'c', 'd'])\n",
    "data"
   ],
   "id": "31f4f7e6ddf4a0c5",
   "outputs": [
    {
     "data": {
      "text/plain": [
       "a    0.25\n",
       "b    0.50\n",
       "c    0.75\n",
       "d    1.00\n",
       "dtype: float64"
      ]
     },
     "execution_count": 59,
     "metadata": {},
     "output_type": "execute_result"
    }
   ],
   "execution_count": 59
  },
  {
   "metadata": {
    "ExecuteTime": {
     "end_time": "2025-06-01T03:54:13.679325Z",
     "start_time": "2025-06-01T03:54:13.669861Z"
    }
   },
   "cell_type": "code",
   "source": "data['b']",
   "id": "ae8eb0d55848ca71",
   "outputs": [
    {
     "data": {
      "text/plain": [
       "np.float64(0.5)"
      ]
     },
     "execution_count": 60,
     "metadata": {},
     "output_type": "execute_result"
    }
   ],
   "execution_count": 60
  },
  {
   "metadata": {
    "ExecuteTime": {
     "end_time": "2025-06-01T03:54:47.402536Z",
     "start_time": "2025-06-01T03:54:47.392869Z"
    }
   },
   "cell_type": "code",
   "source": [
    "# Examine keys/indices and values with Python\n",
    "'a' in data"
   ],
   "id": "b9c2b2b5c5d790b2",
   "outputs": [
    {
     "data": {
      "text/plain": [
       "True"
      ]
     },
     "execution_count": 61,
     "metadata": {},
     "output_type": "execute_result"
    }
   ],
   "execution_count": 61
  },
  {
   "metadata": {
    "ExecuteTime": {
     "end_time": "2025-06-01T03:55:04.701048Z",
     "start_time": "2025-06-01T03:55:04.692431Z"
    }
   },
   "cell_type": "code",
   "source": "'v' in data",
   "id": "d53cb0b060c85958",
   "outputs": [
    {
     "data": {
      "text/plain": [
       "False"
      ]
     },
     "execution_count": 62,
     "metadata": {},
     "output_type": "execute_result"
    }
   ],
   "execution_count": 62
  },
  {
   "metadata": {
    "ExecuteTime": {
     "end_time": "2025-06-01T03:55:16.144878Z",
     "start_time": "2025-06-01T03:55:16.133624Z"
    }
   },
   "cell_type": "code",
   "source": "data.keys()",
   "id": "204fe7a4b53843b",
   "outputs": [
    {
     "data": {
      "text/plain": [
       "Index(['a', 'b', 'c', 'd'], dtype='object')"
      ]
     },
     "execution_count": 64,
     "metadata": {},
     "output_type": "execute_result"
    }
   ],
   "execution_count": 64
  },
  {
   "metadata": {
    "ExecuteTime": {
     "end_time": "2025-06-01T03:55:46.029872Z",
     "start_time": "2025-06-01T03:55:46.020550Z"
    }
   },
   "cell_type": "code",
   "source": "list(data.items())",
   "id": "f149b70f8da33a7",
   "outputs": [
    {
     "data": {
      "text/plain": [
       "[('a', 0.25), ('b', 0.5), ('c', 0.75), ('d', 1.0)]"
      ]
     },
     "execution_count": 67,
     "metadata": {},
     "output_type": "execute_result"
    }
   ],
   "execution_count": 67
  },
  {
   "metadata": {
    "ExecuteTime": {
     "end_time": "2025-06-01T03:57:12.974484Z",
     "start_time": "2025-06-01T03:57:12.961177Z"
    }
   },
   "cell_type": "code",
   "source": [
    "# modify with a dictionary-like syntax\n",
    "# extend the object\n",
    "data['e'] = 1.25\n",
    "data"
   ],
   "id": "3f568b1f758de16e",
   "outputs": [
    {
     "data": {
      "text/plain": [
       "a    0.25\n",
       "b    0.50\n",
       "c    0.75\n",
       "d    1.00\n",
       "e    1.25\n",
       "dtype: float64"
      ]
     },
     "execution_count": 70,
     "metadata": {},
     "output_type": "execute_result"
    }
   ],
   "execution_count": 70
  },
  {
   "metadata": {},
   "cell_type": "markdown",
   "source": "### Series as one-dimensional array",
   "id": "b06cbd6334216427"
  },
  {
   "metadata": {
    "ExecuteTime": {
     "end_time": "2025-06-01T03:57:54.299482Z",
     "start_time": "2025-06-01T03:57:54.271545Z"
    }
   },
   "cell_type": "code",
   "source": [
    "# slicing by explicit index\n",
    "data['a':'c']"
   ],
   "id": "f41a2256f3445cc",
   "outputs": [
    {
     "data": {
      "text/plain": [
       "a    0.25\n",
       "b    0.50\n",
       "c    0.75\n",
       "dtype: float64"
      ]
     },
     "execution_count": 71,
     "metadata": {},
     "output_type": "execute_result"
    }
   ],
   "execution_count": 71
  },
  {
   "metadata": {
    "ExecuteTime": {
     "end_time": "2025-06-01T03:58:14.567460Z",
     "start_time": "2025-06-01T03:58:14.556434Z"
    }
   },
   "cell_type": "code",
   "source": [
    "# slicing by implicit integer index\n",
    "data[0:2]"
   ],
   "id": "d98b437f380f7b6a",
   "outputs": [
    {
     "data": {
      "text/plain": [
       "a    0.25\n",
       "b    0.50\n",
       "dtype: float64"
      ]
     },
     "execution_count": 72,
     "metadata": {},
     "output_type": "execute_result"
    }
   ],
   "execution_count": 72
  },
  {
   "metadata": {
    "ExecuteTime": {
     "end_time": "2025-06-01T03:58:36.593322Z",
     "start_time": "2025-06-01T03:58:36.580821Z"
    }
   },
   "cell_type": "code",
   "source": [
    "# masking\n",
    "data[(data > 0.3) & (data < 0.8)]"
   ],
   "id": "db1a2353cf9fe85e",
   "outputs": [
    {
     "data": {
      "text/plain": [
       "b    0.50\n",
       "c    0.75\n",
       "dtype: float64"
      ]
     },
     "execution_count": 73,
     "metadata": {},
     "output_type": "execute_result"
    }
   ],
   "execution_count": 73
  },
  {
   "metadata": {
    "ExecuteTime": {
     "end_time": "2025-06-01T03:59:00.261965Z",
     "start_time": "2025-06-01T03:59:00.242162Z"
    }
   },
   "cell_type": "code",
   "source": [
    "# fancy indexing\n",
    "data[['a', 'e']]"
   ],
   "id": "5d87e6104dfaa8b0",
   "outputs": [
    {
     "data": {
      "text/plain": [
       "a    0.25\n",
       "e    1.25\n",
       "dtype: float64"
      ]
     },
     "execution_count": 74,
     "metadata": {},
     "output_type": "execute_result"
    }
   ],
   "execution_count": 74
  },
  {
   "metadata": {},
   "cell_type": "markdown",
   "source": "### Indexers: loc, iloc, and ix",
   "id": "da206ede64a89897"
  },
  {
   "metadata": {
    "ExecuteTime": {
     "end_time": "2025-06-01T04:00:26.982522Z",
     "start_time": "2025-06-01T04:00:26.970193Z"
    }
   },
   "cell_type": "code",
   "source": [
    "data = pd.Series(['a', 'b', 'c'],\n",
    "                 index=[1, 3, 5])\n",
    "data"
   ],
   "id": "3b7e343f0471bf",
   "outputs": [
    {
     "data": {
      "text/plain": [
       "1    a\n",
       "3    b\n",
       "5    c\n",
       "dtype: object"
      ]
     },
     "execution_count": 75,
     "metadata": {},
     "output_type": "execute_result"
    }
   ],
   "execution_count": 75
  },
  {
   "metadata": {
    "ExecuteTime": {
     "end_time": "2025-06-01T04:05:24.386645Z",
     "start_time": "2025-06-01T04:05:24.377386Z"
    }
   },
   "cell_type": "code",
   "source": [
    "# explicit index when indexing\n",
    "data[3]"
   ],
   "id": "92045ab9f084e82e",
   "outputs": [
    {
     "data": {
      "text/plain": [
       "'b'"
      ]
     },
     "execution_count": 87,
     "metadata": {},
     "output_type": "execute_result"
    }
   ],
   "execution_count": 87
  },
  {
   "metadata": {
    "ExecuteTime": {
     "end_time": "2025-06-01T04:02:15.793491Z",
     "start_time": "2025-06-01T04:02:15.783217Z"
    }
   },
   "cell_type": "code",
   "source": [
    "# implicit index when indexing\n",
    "data[1:3]"
   ],
   "id": "5f614ea71c90e09f",
   "outputs": [
    {
     "data": {
      "text/plain": [
       "3    b\n",
       "5    c\n",
       "dtype: object"
      ]
     },
     "execution_count": 82,
     "metadata": {},
     "output_type": "execute_result"
    }
   ],
   "execution_count": 82
  },
  {
   "metadata": {},
   "cell_type": "markdown",
   "source": [
    "Because of the potential confusion in the case of integer indexes, Pandas provides some special *indexers* attributes that explicitly expose certain indexing schemes. These are not functional methods, but attributes that expose a particular slicing interface to the data in the Series.\n",
    "\n",
    "First, the `loc` attribute allows indexing and slicing that always references the explicit index:"
   ],
   "id": "e670023cf4f55168"
  },
  {
   "metadata": {
    "ExecuteTime": {
     "end_time": "2025-06-01T04:04:21.164626Z",
     "start_time": "2025-06-01T04:04:21.155878Z"
    }
   },
   "cell_type": "code",
   "source": "data.loc[1]",
   "id": "391115ff15ec62b0",
   "outputs": [
    {
     "data": {
      "text/plain": [
       "'a'"
      ]
     },
     "execution_count": 83,
     "metadata": {},
     "output_type": "execute_result"
    }
   ],
   "execution_count": 83
  },
  {
   "metadata": {
    "ExecuteTime": {
     "end_time": "2025-06-01T04:04:27.425549Z",
     "start_time": "2025-06-01T04:04:27.414719Z"
    }
   },
   "cell_type": "code",
   "source": "data.loc[1:3]",
   "id": "e182eccd61a6634e",
   "outputs": [
    {
     "data": {
      "text/plain": [
       "1    a\n",
       "3    b\n",
       "dtype: object"
      ]
     },
     "execution_count": 84,
     "metadata": {},
     "output_type": "execute_result"
    }
   ],
   "execution_count": 84
  },
  {
   "metadata": {},
   "cell_type": "markdown",
   "source": "The `iloc` attribute allows indexing and slicing that always references the implicit Python-style index:",
   "id": "efde4fc3a8006597"
  },
  {
   "metadata": {
    "ExecuteTime": {
     "end_time": "2025-06-01T04:06:08.257247Z",
     "start_time": "2025-06-01T04:06:08.248332Z"
    }
   },
   "cell_type": "code",
   "source": "data.iloc[1]",
   "id": "652bdfe522b5d8dd",
   "outputs": [
    {
     "data": {
      "text/plain": [
       "'b'"
      ]
     },
     "execution_count": 88,
     "metadata": {},
     "output_type": "execute_result"
    }
   ],
   "execution_count": 88
  },
  {
   "metadata": {
    "ExecuteTime": {
     "end_time": "2025-06-01T04:06:22.922552Z",
     "start_time": "2025-06-01T04:06:22.910897Z"
    }
   },
   "cell_type": "code",
   "source": "data.loc[1:3]",
   "id": "234b3e611b98f9cf",
   "outputs": [
    {
     "data": {
      "text/plain": [
       "1    a\n",
       "3    b\n",
       "dtype: object"
      ]
     },
     "execution_count": 89,
     "metadata": {},
     "output_type": "execute_result"
    }
   ],
   "execution_count": 89
  },
  {
   "metadata": {},
   "cell_type": "markdown",
   "source": "## Data Selection in DataFrame",
   "id": "8d776f18a33ab4b1"
  },
  {
   "metadata": {
    "ExecuteTime": {
     "end_time": "2025-06-01T04:21:37.598345Z",
     "start_time": "2025-06-01T04:21:37.591711Z"
    }
   },
   "cell_type": "code",
   "source": "### DataFrame as a dictionary",
   "id": "1e385630767111cb",
   "outputs": [],
   "execution_count": 90
  },
  {
   "metadata": {
    "ExecuteTime": {
     "end_time": "2025-06-01T04:23:41.551259Z",
     "start_time": "2025-06-01T04:23:41.531913Z"
    }
   },
   "cell_type": "code",
   "source": [
    "area = pd.Series({'California': 423967, 'Texas': 695662,\n",
    "                  'New York': 141297, 'Florida': 170312,\n",
    "                  'Illinois': 149995})\n",
    "pop = pd.Series({'California': 38332521, 'Texas': 26448193,\n",
    "                 'New York': 19651127, 'Florida': 19552860,\n",
    "                 'Illinois': 12882135})\n",
    "data = pd.DataFrame({'area':area,\n",
    "                     'pop': pop})\n",
    "data"
   ],
   "id": "c6613011e2ce800d",
   "outputs": [
    {
     "data": {
      "text/plain": [
       "              area       pop\n",
       "California  423967  38332521\n",
       "Texas       695662  26448193\n",
       "New York    141297  19651127\n",
       "Florida     170312  19552860\n",
       "Illinois    149995  12882135"
      ],
      "text/html": [
       "<div>\n",
       "<style scoped>\n",
       "    .dataframe tbody tr th:only-of-type {\n",
       "        vertical-align: middle;\n",
       "    }\n",
       "\n",
       "    .dataframe tbody tr th {\n",
       "        vertical-align: top;\n",
       "    }\n",
       "\n",
       "    .dataframe thead th {\n",
       "        text-align: right;\n",
       "    }\n",
       "</style>\n",
       "<table border=\"1\" class=\"dataframe\">\n",
       "  <thead>\n",
       "    <tr style=\"text-align: right;\">\n",
       "      <th></th>\n",
       "      <th>area</th>\n",
       "      <th>pop</th>\n",
       "    </tr>\n",
       "  </thead>\n",
       "  <tbody>\n",
       "    <tr>\n",
       "      <th>California</th>\n",
       "      <td>423967</td>\n",
       "      <td>38332521</td>\n",
       "    </tr>\n",
       "    <tr>\n",
       "      <th>Texas</th>\n",
       "      <td>695662</td>\n",
       "      <td>26448193</td>\n",
       "    </tr>\n",
       "    <tr>\n",
       "      <th>New York</th>\n",
       "      <td>141297</td>\n",
       "      <td>19651127</td>\n",
       "    </tr>\n",
       "    <tr>\n",
       "      <th>Florida</th>\n",
       "      <td>170312</td>\n",
       "      <td>19552860</td>\n",
       "    </tr>\n",
       "    <tr>\n",
       "      <th>Illinois</th>\n",
       "      <td>149995</td>\n",
       "      <td>12882135</td>\n",
       "    </tr>\n",
       "  </tbody>\n",
       "</table>\n",
       "</div>"
      ]
     },
     "execution_count": 91,
     "metadata": {},
     "output_type": "execute_result"
    }
   ],
   "execution_count": 91
  },
  {
   "metadata": {
    "ExecuteTime": {
     "end_time": "2025-06-01T04:23:54.425554Z",
     "start_time": "2025-06-01T04:23:54.414776Z"
    }
   },
   "cell_type": "code",
   "source": "data['area']",
   "id": "aa1330a333fb2798",
   "outputs": [
    {
     "data": {
      "text/plain": [
       "California    423967\n",
       "Texas         695662\n",
       "New York      141297\n",
       "Florida       170312\n",
       "Illinois      149995\n",
       "Name: area, dtype: int64"
      ]
     },
     "execution_count": 92,
     "metadata": {},
     "output_type": "execute_result"
    }
   ],
   "execution_count": 92
  },
  {
   "metadata": {
    "ExecuteTime": {
     "end_time": "2025-06-01T04:24:14.436074Z",
     "start_time": "2025-06-01T04:24:14.425792Z"
    }
   },
   "cell_type": "code",
   "source": [
    "# acces as an attribute\n",
    "data.area"
   ],
   "id": "666c4693f2cb49e9",
   "outputs": [
    {
     "data": {
      "text/plain": [
       "California    423967\n",
       "Texas         695662\n",
       "New York      141297\n",
       "Florida       170312\n",
       "Illinois      149995\n",
       "Name: area, dtype: int64"
      ]
     },
     "execution_count": 93,
     "metadata": {},
     "output_type": "execute_result"
    }
   ],
   "execution_count": 93
  },
  {
   "metadata": {
    "ExecuteTime": {
     "end_time": "2025-06-01T04:24:29.405030Z",
     "start_time": "2025-06-01T04:24:29.396347Z"
    }
   },
   "cell_type": "code",
   "source": "data.area is data['area']",
   "id": "82ed403a4640b8eb",
   "outputs": [
    {
     "data": {
      "text/plain": [
       "True"
      ]
     },
     "execution_count": 94,
     "metadata": {},
     "output_type": "execute_result"
    }
   ],
   "execution_count": 94
  },
  {
   "metadata": {},
   "cell_type": "markdown",
   "source": [
    "though this is a useful shorthand, it does not work for all cases!\n",
    "\n",
    "for example, if the column names are not strings, or if the column names conflict with methods of the DataFrame, this attribute-style access if not possible.\n",
    "\n",
    "For example, the DataFrame has a pop() method, so data.pop will point to this rather than the \"pop\" column:"
   ],
   "id": "545b233b35a7ce58"
  },
  {
   "metadata": {
    "ExecuteTime": {
     "end_time": "2025-06-01T04:26:23.936134Z",
     "start_time": "2025-06-01T04:26:23.927590Z"
    }
   },
   "cell_type": "code",
   "source": "data.pop is data['pop']",
   "id": "8d60659ad5704135",
   "outputs": [
    {
     "data": {
      "text/plain": [
       "False"
      ]
     },
     "execution_count": 95,
     "metadata": {},
     "output_type": "execute_result"
    }
   ],
   "execution_count": 95
  },
  {
   "metadata": {},
   "cell_type": "markdown",
   "source": "In particular, avoid the temptation to try column assignmetn via attribute, i.e, use `data['pop'] = z` rather than `data.pop = z`.\n",
   "id": "e3cdef67bd6fa0c"
  },
  {
   "metadata": {
    "ExecuteTime": {
     "end_time": "2025-06-01T04:28:54.336776Z",
     "start_time": "2025-06-01T04:28:54.319616Z"
    }
   },
   "cell_type": "code",
   "source": [
    "# Add new column\n",
    "data['density'] = data['pop'] / data['area']\n",
    "data"
   ],
   "id": "29d4794462c22c2d",
   "outputs": [
    {
     "data": {
      "text/plain": [
       "              area       pop     density\n",
       "California  423967  38332521   90.413926\n",
       "Texas       695662  26448193   38.018740\n",
       "New York    141297  19651127  139.076746\n",
       "Florida     170312  19552860  114.806121\n",
       "Illinois    149995  12882135   85.883763"
      ],
      "text/html": [
       "<div>\n",
       "<style scoped>\n",
       "    .dataframe tbody tr th:only-of-type {\n",
       "        vertical-align: middle;\n",
       "    }\n",
       "\n",
       "    .dataframe tbody tr th {\n",
       "        vertical-align: top;\n",
       "    }\n",
       "\n",
       "    .dataframe thead th {\n",
       "        text-align: right;\n",
       "    }\n",
       "</style>\n",
       "<table border=\"1\" class=\"dataframe\">\n",
       "  <thead>\n",
       "    <tr style=\"text-align: right;\">\n",
       "      <th></th>\n",
       "      <th>area</th>\n",
       "      <th>pop</th>\n",
       "      <th>density</th>\n",
       "    </tr>\n",
       "  </thead>\n",
       "  <tbody>\n",
       "    <tr>\n",
       "      <th>California</th>\n",
       "      <td>423967</td>\n",
       "      <td>38332521</td>\n",
       "      <td>90.413926</td>\n",
       "    </tr>\n",
       "    <tr>\n",
       "      <th>Texas</th>\n",
       "      <td>695662</td>\n",
       "      <td>26448193</td>\n",
       "      <td>38.018740</td>\n",
       "    </tr>\n",
       "    <tr>\n",
       "      <th>New York</th>\n",
       "      <td>141297</td>\n",
       "      <td>19651127</td>\n",
       "      <td>139.076746</td>\n",
       "    </tr>\n",
       "    <tr>\n",
       "      <th>Florida</th>\n",
       "      <td>170312</td>\n",
       "      <td>19552860</td>\n",
       "      <td>114.806121</td>\n",
       "    </tr>\n",
       "    <tr>\n",
       "      <th>Illinois</th>\n",
       "      <td>149995</td>\n",
       "      <td>12882135</td>\n",
       "      <td>85.883763</td>\n",
       "    </tr>\n",
       "  </tbody>\n",
       "</table>\n",
       "</div>"
      ]
     },
     "execution_count": 96,
     "metadata": {},
     "output_type": "execute_result"
    }
   ],
   "execution_count": 96
  },
  {
   "metadata": {},
   "cell_type": "markdown",
   "source": "### DataFrame as two dimensional array",
   "id": "94035d4ecef0e4ac"
  },
  {
   "metadata": {
    "ExecuteTime": {
     "end_time": "2025-06-01T04:29:25.068008Z",
     "start_time": "2025-06-01T04:29:25.057775Z"
    }
   },
   "cell_type": "code",
   "source": "data.values",
   "id": "27191d14aaf6c3f5",
   "outputs": [
    {
     "data": {
      "text/plain": [
       "array([[4.23967000e+05, 3.83325210e+07, 9.04139261e+01],\n",
       "       [6.95662000e+05, 2.64481930e+07, 3.80187404e+01],\n",
       "       [1.41297000e+05, 1.96511270e+07, 1.39076746e+02],\n",
       "       [1.70312000e+05, 1.95528600e+07, 1.14806121e+02],\n",
       "       [1.49995000e+05, 1.28821350e+07, 8.58837628e+01]])"
      ]
     },
     "execution_count": 97,
     "metadata": {},
     "output_type": "execute_result"
    }
   ],
   "execution_count": 97
  },
  {
   "metadata": {
    "ExecuteTime": {
     "end_time": "2025-06-01T04:29:35.839875Z",
     "start_time": "2025-06-01T04:29:35.828027Z"
    }
   },
   "cell_type": "code",
   "source": "data.keys",
   "id": "41c8005773be5b4d",
   "outputs": [
    {
     "data": {
      "text/plain": [
       "<bound method NDFrame.keys of               area       pop     density\n",
       "California  423967  38332521   90.413926\n",
       "Texas       695662  26448193   38.018740\n",
       "New York    141297  19651127  139.076746\n",
       "Florida     170312  19552860  114.806121\n",
       "Illinois    149995  12882135   85.883763>"
      ]
     },
     "execution_count": 98,
     "metadata": {},
     "output_type": "execute_result"
    }
   ],
   "execution_count": 98
  },
  {
   "metadata": {
    "ExecuteTime": {
     "end_time": "2025-06-01T04:30:26.924203Z",
     "start_time": "2025-06-01T04:30:26.906498Z"
    }
   },
   "cell_type": "code",
   "source": [
    "# transpose the full DataFrame to swap rows and cols\n",
    "data.T"
   ],
   "id": "d948fc103d18ae5f",
   "outputs": [
    {
     "data": {
      "text/plain": [
       "           California         Texas      New York       Florida      Illinois\n",
       "area     4.239670e+05  6.956620e+05  1.412970e+05  1.703120e+05  1.499950e+05\n",
       "pop      3.833252e+07  2.644819e+07  1.965113e+07  1.955286e+07  1.288214e+07\n",
       "density  9.041393e+01  3.801874e+01  1.390767e+02  1.148061e+02  8.588376e+01"
      ],
      "text/html": [
       "<div>\n",
       "<style scoped>\n",
       "    .dataframe tbody tr th:only-of-type {\n",
       "        vertical-align: middle;\n",
       "    }\n",
       "\n",
       "    .dataframe tbody tr th {\n",
       "        vertical-align: top;\n",
       "    }\n",
       "\n",
       "    .dataframe thead th {\n",
       "        text-align: right;\n",
       "    }\n",
       "</style>\n",
       "<table border=\"1\" class=\"dataframe\">\n",
       "  <thead>\n",
       "    <tr style=\"text-align: right;\">\n",
       "      <th></th>\n",
       "      <th>California</th>\n",
       "      <th>Texas</th>\n",
       "      <th>New York</th>\n",
       "      <th>Florida</th>\n",
       "      <th>Illinois</th>\n",
       "    </tr>\n",
       "  </thead>\n",
       "  <tbody>\n",
       "    <tr>\n",
       "      <th>area</th>\n",
       "      <td>4.239670e+05</td>\n",
       "      <td>6.956620e+05</td>\n",
       "      <td>1.412970e+05</td>\n",
       "      <td>1.703120e+05</td>\n",
       "      <td>1.499950e+05</td>\n",
       "    </tr>\n",
       "    <tr>\n",
       "      <th>pop</th>\n",
       "      <td>3.833252e+07</td>\n",
       "      <td>2.644819e+07</td>\n",
       "      <td>1.965113e+07</td>\n",
       "      <td>1.955286e+07</td>\n",
       "      <td>1.288214e+07</td>\n",
       "    </tr>\n",
       "    <tr>\n",
       "      <th>density</th>\n",
       "      <td>9.041393e+01</td>\n",
       "      <td>3.801874e+01</td>\n",
       "      <td>1.390767e+02</td>\n",
       "      <td>1.148061e+02</td>\n",
       "      <td>8.588376e+01</td>\n",
       "    </tr>\n",
       "  </tbody>\n",
       "</table>\n",
       "</div>"
      ]
     },
     "execution_count": 99,
     "metadata": {},
     "output_type": "execute_result"
    }
   ],
   "execution_count": 99
  },
  {
   "metadata": {
    "ExecuteTime": {
     "end_time": "2025-06-01T04:33:16.239202Z",
     "start_time": "2025-06-01T04:33:16.225848Z"
    }
   },
   "cell_type": "code",
   "source": [
    "# here are shortcomings\n",
    "# passsing an index to an array accesses a row\n",
    "data.values[0]"
   ],
   "id": "34d9ec854d5581f8",
   "outputs": [
    {
     "data": {
      "text/plain": [
       "array([4.23967000e+05, 3.83325210e+07, 9.04139261e+01])"
      ]
     },
     "execution_count": 104,
     "metadata": {},
     "output_type": "execute_result"
    }
   ],
   "execution_count": 104
  },
  {
   "metadata": {
    "ExecuteTime": {
     "end_time": "2025-06-01T04:32:32.730886Z",
     "start_time": "2025-06-01T04:32:32.725710Z"
    }
   },
   "cell_type": "code",
   "source": "# passing a single \"index\" accesses a colum",
   "id": "1a7b1ca5c12a77a9",
   "outputs": [],
   "execution_count": 102
  },
  {
   "metadata": {
    "ExecuteTime": {
     "end_time": "2025-06-01T04:32:41.225223Z",
     "start_time": "2025-06-01T04:32:41.215406Z"
    }
   },
   "cell_type": "code",
   "source": "data['area']",
   "id": "f499745d9cf7274c",
   "outputs": [
    {
     "data": {
      "text/plain": [
       "California    423967\n",
       "Texas         695662\n",
       "New York      141297\n",
       "Florida       170312\n",
       "Illinois      149995\n",
       "Name: area, dtype: int64"
      ]
     },
     "execution_count": 103,
     "metadata": {},
     "output_type": "execute_result"
    }
   ],
   "execution_count": 103
  },
  {
   "metadata": {
    "ExecuteTime": {
     "end_time": "2025-06-01T04:34:46.313673Z",
     "start_time": "2025-06-01T04:34:46.299948Z"
    }
   },
   "cell_type": "code",
   "source": "data.iloc[:3, :2]",
   "id": "1f1a7be0a194d427",
   "outputs": [
    {
     "data": {
      "text/plain": [
       "              area       pop\n",
       "California  423967  38332521\n",
       "Texas       695662  26448193\n",
       "New York    141297  19651127"
      ],
      "text/html": [
       "<div>\n",
       "<style scoped>\n",
       "    .dataframe tbody tr th:only-of-type {\n",
       "        vertical-align: middle;\n",
       "    }\n",
       "\n",
       "    .dataframe tbody tr th {\n",
       "        vertical-align: top;\n",
       "    }\n",
       "\n",
       "    .dataframe thead th {\n",
       "        text-align: right;\n",
       "    }\n",
       "</style>\n",
       "<table border=\"1\" class=\"dataframe\">\n",
       "  <thead>\n",
       "    <tr style=\"text-align: right;\">\n",
       "      <th></th>\n",
       "      <th>area</th>\n",
       "      <th>pop</th>\n",
       "    </tr>\n",
       "  </thead>\n",
       "  <tbody>\n",
       "    <tr>\n",
       "      <th>California</th>\n",
       "      <td>423967</td>\n",
       "      <td>38332521</td>\n",
       "    </tr>\n",
       "    <tr>\n",
       "      <th>Texas</th>\n",
       "      <td>695662</td>\n",
       "      <td>26448193</td>\n",
       "    </tr>\n",
       "    <tr>\n",
       "      <th>New York</th>\n",
       "      <td>141297</td>\n",
       "      <td>19651127</td>\n",
       "    </tr>\n",
       "  </tbody>\n",
       "</table>\n",
       "</div>"
      ]
     },
     "execution_count": 106,
     "metadata": {},
     "output_type": "execute_result"
    }
   ],
   "execution_count": 106
  },
  {
   "metadata": {
    "ExecuteTime": {
     "end_time": "2025-06-01T04:35:02.344529Z",
     "start_time": "2025-06-01T04:35:02.329625Z"
    }
   },
   "cell_type": "code",
   "source": "data.loc[:'Illinois', :'pop']",
   "id": "29258f49a28d0ce0",
   "outputs": [
    {
     "data": {
      "text/plain": [
       "              area       pop\n",
       "California  423967  38332521\n",
       "Texas       695662  26448193\n",
       "New York    141297  19651127\n",
       "Florida     170312  19552860\n",
       "Illinois    149995  12882135"
      ],
      "text/html": [
       "<div>\n",
       "<style scoped>\n",
       "    .dataframe tbody tr th:only-of-type {\n",
       "        vertical-align: middle;\n",
       "    }\n",
       "\n",
       "    .dataframe tbody tr th {\n",
       "        vertical-align: top;\n",
       "    }\n",
       "\n",
       "    .dataframe thead th {\n",
       "        text-align: right;\n",
       "    }\n",
       "</style>\n",
       "<table border=\"1\" class=\"dataframe\">\n",
       "  <thead>\n",
       "    <tr style=\"text-align: right;\">\n",
       "      <th></th>\n",
       "      <th>area</th>\n",
       "      <th>pop</th>\n",
       "    </tr>\n",
       "  </thead>\n",
       "  <tbody>\n",
       "    <tr>\n",
       "      <th>California</th>\n",
       "      <td>423967</td>\n",
       "      <td>38332521</td>\n",
       "    </tr>\n",
       "    <tr>\n",
       "      <th>Texas</th>\n",
       "      <td>695662</td>\n",
       "      <td>26448193</td>\n",
       "    </tr>\n",
       "    <tr>\n",
       "      <th>New York</th>\n",
       "      <td>141297</td>\n",
       "      <td>19651127</td>\n",
       "    </tr>\n",
       "    <tr>\n",
       "      <th>Florida</th>\n",
       "      <td>170312</td>\n",
       "      <td>19552860</td>\n",
       "    </tr>\n",
       "    <tr>\n",
       "      <th>Illinois</th>\n",
       "      <td>149995</td>\n",
       "      <td>12882135</td>\n",
       "    </tr>\n",
       "  </tbody>\n",
       "</table>\n",
       "</div>"
      ]
     },
     "execution_count": 107,
     "metadata": {},
     "output_type": "execute_result"
    }
   ],
   "execution_count": 107
  },
  {
   "metadata": {
    "ExecuteTime": {
     "end_time": "2025-06-01T04:38:08.988014Z",
     "start_time": "2025-06-01T04:38:08.970078Z"
    }
   },
   "cell_type": "code",
   "source": [
    "# masking and fancy indexing\n",
    "data.loc[data.density > 100, ['pop', 'density']]"
   ],
   "id": "a268ae94a6d2f1de",
   "outputs": [
    {
     "data": {
      "text/plain": [
       "               pop     density\n",
       "New York  19651127  139.076746\n",
       "Florida   19552860  114.806121"
      ],
      "text/html": [
       "<div>\n",
       "<style scoped>\n",
       "    .dataframe tbody tr th:only-of-type {\n",
       "        vertical-align: middle;\n",
       "    }\n",
       "\n",
       "    .dataframe tbody tr th {\n",
       "        vertical-align: top;\n",
       "    }\n",
       "\n",
       "    .dataframe thead th {\n",
       "        text-align: right;\n",
       "    }\n",
       "</style>\n",
       "<table border=\"1\" class=\"dataframe\">\n",
       "  <thead>\n",
       "    <tr style=\"text-align: right;\">\n",
       "      <th></th>\n",
       "      <th>pop</th>\n",
       "      <th>density</th>\n",
       "    </tr>\n",
       "  </thead>\n",
       "  <tbody>\n",
       "    <tr>\n",
       "      <th>New York</th>\n",
       "      <td>19651127</td>\n",
       "      <td>139.076746</td>\n",
       "    </tr>\n",
       "    <tr>\n",
       "      <th>Florida</th>\n",
       "      <td>19552860</td>\n",
       "      <td>114.806121</td>\n",
       "    </tr>\n",
       "  </tbody>\n",
       "</table>\n",
       "</div>"
      ]
     },
     "execution_count": 112,
     "metadata": {},
     "output_type": "execute_result"
    }
   ],
   "execution_count": 112
  },
  {
   "metadata": {
    "ExecuteTime": {
     "end_time": "2025-06-01T04:38:38.759262Z",
     "start_time": "2025-06-01T04:38:38.744145Z"
    }
   },
   "cell_type": "code",
   "source": [
    "# modify\n",
    "data.iloc[0, 2] = 90\n",
    "data"
   ],
   "id": "870737f0adaa1c32",
   "outputs": [
    {
     "data": {
      "text/plain": [
       "              area       pop     density\n",
       "California  423967  38332521   90.000000\n",
       "Texas       695662  26448193   38.018740\n",
       "New York    141297  19651127  139.076746\n",
       "Florida     170312  19552860  114.806121\n",
       "Illinois    149995  12882135   85.883763"
      ],
      "text/html": [
       "<div>\n",
       "<style scoped>\n",
       "    .dataframe tbody tr th:only-of-type {\n",
       "        vertical-align: middle;\n",
       "    }\n",
       "\n",
       "    .dataframe tbody tr th {\n",
       "        vertical-align: top;\n",
       "    }\n",
       "\n",
       "    .dataframe thead th {\n",
       "        text-align: right;\n",
       "    }\n",
       "</style>\n",
       "<table border=\"1\" class=\"dataframe\">\n",
       "  <thead>\n",
       "    <tr style=\"text-align: right;\">\n",
       "      <th></th>\n",
       "      <th>area</th>\n",
       "      <th>pop</th>\n",
       "      <th>density</th>\n",
       "    </tr>\n",
       "  </thead>\n",
       "  <tbody>\n",
       "    <tr>\n",
       "      <th>California</th>\n",
       "      <td>423967</td>\n",
       "      <td>38332521</td>\n",
       "      <td>90.000000</td>\n",
       "    </tr>\n",
       "    <tr>\n",
       "      <th>Texas</th>\n",
       "      <td>695662</td>\n",
       "      <td>26448193</td>\n",
       "      <td>38.018740</td>\n",
       "    </tr>\n",
       "    <tr>\n",
       "      <th>New York</th>\n",
       "      <td>141297</td>\n",
       "      <td>19651127</td>\n",
       "      <td>139.076746</td>\n",
       "    </tr>\n",
       "    <tr>\n",
       "      <th>Florida</th>\n",
       "      <td>170312</td>\n",
       "      <td>19552860</td>\n",
       "      <td>114.806121</td>\n",
       "    </tr>\n",
       "    <tr>\n",
       "      <th>Illinois</th>\n",
       "      <td>149995</td>\n",
       "      <td>12882135</td>\n",
       "      <td>85.883763</td>\n",
       "    </tr>\n",
       "  </tbody>\n",
       "</table>\n",
       "</div>"
      ]
     },
     "execution_count": 113,
     "metadata": {},
     "output_type": "execute_result"
    }
   ],
   "execution_count": 113
  },
  {
   "metadata": {},
   "cell_type": "markdown",
   "source": [
    "### Additional indexing conventions\n",
    "\n",
    "while indexing refers to columns, slicing refers to rows"
   ],
   "id": "75d44c8f092a4e6e"
  },
  {
   "metadata": {
    "ExecuteTime": {
     "end_time": "2025-06-01T04:41:21.529098Z",
     "start_time": "2025-06-01T04:41:21.507316Z"
    }
   },
   "cell_type": "code",
   "source": "data['Florida':'Illinois']",
   "id": "8d47a3dd38ae8aa1",
   "outputs": [
    {
     "data": {
      "text/plain": [
       "            area       pop     density\n",
       "Florida   170312  19552860  114.806121\n",
       "Illinois  149995  12882135   85.883763"
      ],
      "text/html": [
       "<div>\n",
       "<style scoped>\n",
       "    .dataframe tbody tr th:only-of-type {\n",
       "        vertical-align: middle;\n",
       "    }\n",
       "\n",
       "    .dataframe tbody tr th {\n",
       "        vertical-align: top;\n",
       "    }\n",
       "\n",
       "    .dataframe thead th {\n",
       "        text-align: right;\n",
       "    }\n",
       "</style>\n",
       "<table border=\"1\" class=\"dataframe\">\n",
       "  <thead>\n",
       "    <tr style=\"text-align: right;\">\n",
       "      <th></th>\n",
       "      <th>area</th>\n",
       "      <th>pop</th>\n",
       "      <th>density</th>\n",
       "    </tr>\n",
       "  </thead>\n",
       "  <tbody>\n",
       "    <tr>\n",
       "      <th>Florida</th>\n",
       "      <td>170312</td>\n",
       "      <td>19552860</td>\n",
       "      <td>114.806121</td>\n",
       "    </tr>\n",
       "    <tr>\n",
       "      <th>Illinois</th>\n",
       "      <td>149995</td>\n",
       "      <td>12882135</td>\n",
       "      <td>85.883763</td>\n",
       "    </tr>\n",
       "  </tbody>\n",
       "</table>\n",
       "</div>"
      ]
     },
     "execution_count": 114,
     "metadata": {},
     "output_type": "execute_result"
    }
   ],
   "execution_count": 114
  },
  {
   "metadata": {
    "ExecuteTime": {
     "end_time": "2025-06-01T04:42:29.665762Z",
     "start_time": "2025-06-01T04:42:29.651922Z"
    }
   },
   "cell_type": "code",
   "source": [
    "# can be dun by number instead of index\n",
    "data[3:]"
   ],
   "id": "10e3f2c6bf5fb6e4",
   "outputs": [
    {
     "data": {
      "text/plain": [
       "            area       pop     density\n",
       "Florida   170312  19552860  114.806121\n",
       "Illinois  149995  12882135   85.883763"
      ],
      "text/html": [
       "<div>\n",
       "<style scoped>\n",
       "    .dataframe tbody tr th:only-of-type {\n",
       "        vertical-align: middle;\n",
       "    }\n",
       "\n",
       "    .dataframe tbody tr th {\n",
       "        vertical-align: top;\n",
       "    }\n",
       "\n",
       "    .dataframe thead th {\n",
       "        text-align: right;\n",
       "    }\n",
       "</style>\n",
       "<table border=\"1\" class=\"dataframe\">\n",
       "  <thead>\n",
       "    <tr style=\"text-align: right;\">\n",
       "      <th></th>\n",
       "      <th>area</th>\n",
       "      <th>pop</th>\n",
       "      <th>density</th>\n",
       "    </tr>\n",
       "  </thead>\n",
       "  <tbody>\n",
       "    <tr>\n",
       "      <th>Florida</th>\n",
       "      <td>170312</td>\n",
       "      <td>19552860</td>\n",
       "      <td>114.806121</td>\n",
       "    </tr>\n",
       "    <tr>\n",
       "      <th>Illinois</th>\n",
       "      <td>149995</td>\n",
       "      <td>12882135</td>\n",
       "      <td>85.883763</td>\n",
       "    </tr>\n",
       "  </tbody>\n",
       "</table>\n",
       "</div>"
      ]
     },
     "execution_count": 116,
     "metadata": {},
     "output_type": "execute_result"
    }
   ],
   "execution_count": 116
  },
  {
   "metadata": {
    "ExecuteTime": {
     "end_time": "2025-06-01T04:43:05.533898Z",
     "start_time": "2025-06-01T04:43:05.520049Z"
    }
   },
   "cell_type": "code",
   "source": [
    "# direct masking ops are also interpreted row-wise\n",
    "data[data.density > 100]"
   ],
   "id": "fb4f76cafbaab227",
   "outputs": [
    {
     "data": {
      "text/plain": [
       "            area       pop     density\n",
       "New York  141297  19651127  139.076746\n",
       "Florida   170312  19552860  114.806121"
      ],
      "text/html": [
       "<div>\n",
       "<style scoped>\n",
       "    .dataframe tbody tr th:only-of-type {\n",
       "        vertical-align: middle;\n",
       "    }\n",
       "\n",
       "    .dataframe tbody tr th {\n",
       "        vertical-align: top;\n",
       "    }\n",
       "\n",
       "    .dataframe thead th {\n",
       "        text-align: right;\n",
       "    }\n",
       "</style>\n",
       "<table border=\"1\" class=\"dataframe\">\n",
       "  <thead>\n",
       "    <tr style=\"text-align: right;\">\n",
       "      <th></th>\n",
       "      <th>area</th>\n",
       "      <th>pop</th>\n",
       "      <th>density</th>\n",
       "    </tr>\n",
       "  </thead>\n",
       "  <tbody>\n",
       "    <tr>\n",
       "      <th>New York</th>\n",
       "      <td>141297</td>\n",
       "      <td>19651127</td>\n",
       "      <td>139.076746</td>\n",
       "    </tr>\n",
       "    <tr>\n",
       "      <th>Florida</th>\n",
       "      <td>170312</td>\n",
       "      <td>19552860</td>\n",
       "      <td>114.806121</td>\n",
       "    </tr>\n",
       "  </tbody>\n",
       "</table>\n",
       "</div>"
      ]
     },
     "execution_count": 117,
     "metadata": {},
     "output_type": "execute_result"
    }
   ],
   "execution_count": 117
  },
  {
   "metadata": {},
   "cell_type": "markdown",
   "source": "# Operating on Data in Pandas",
   "id": "4934c90c0c968c56"
  },
  {
   "metadata": {},
   "cell_type": "markdown",
   "source": "## Ufuncs: Index Preservation",
   "id": "32c45c9ba711d590"
  },
  {
   "metadata": {
    "ExecuteTime": {
     "end_time": "2025-06-01T05:30:29.373176Z",
     "start_time": "2025-06-01T05:30:29.338589Z"
    }
   },
   "cell_type": "code",
   "source": [
    "rng = np.random.RandomState(42)\n",
    "ser = pd.Series(rng.randint(0, 10, 4))\n",
    "ser"
   ],
   "id": "4f5287a8a4f197d1",
   "outputs": [
    {
     "data": {
      "text/plain": [
       "0    6\n",
       "1    3\n",
       "2    7\n",
       "3    4\n",
       "dtype: int32"
      ]
     },
     "execution_count": 119,
     "metadata": {},
     "output_type": "execute_result"
    }
   ],
   "execution_count": 119
  },
  {
   "metadata": {
    "ExecuteTime": {
     "end_time": "2025-06-01T05:31:09.667658Z",
     "start_time": "2025-06-01T05:31:09.654281Z"
    }
   },
   "cell_type": "code",
   "source": [
    "df = pd.DataFrame(rng.randint(0, 10, (3, 4)),\n",
    "                  columns=['A', 'B', 'C', 'D'])\n",
    "df"
   ],
   "id": "dff0f8a2260c9ac0",
   "outputs": [
    {
     "data": {
      "text/plain": [
       "   A  B  C  D\n",
       "0  6  9  2  6\n",
       "1  7  4  3  7\n",
       "2  7  2  5  4"
      ],
      "text/html": [
       "<div>\n",
       "<style scoped>\n",
       "    .dataframe tbody tr th:only-of-type {\n",
       "        vertical-align: middle;\n",
       "    }\n",
       "\n",
       "    .dataframe tbody tr th {\n",
       "        vertical-align: top;\n",
       "    }\n",
       "\n",
       "    .dataframe thead th {\n",
       "        text-align: right;\n",
       "    }\n",
       "</style>\n",
       "<table border=\"1\" class=\"dataframe\">\n",
       "  <thead>\n",
       "    <tr style=\"text-align: right;\">\n",
       "      <th></th>\n",
       "      <th>A</th>\n",
       "      <th>B</th>\n",
       "      <th>C</th>\n",
       "      <th>D</th>\n",
       "    </tr>\n",
       "  </thead>\n",
       "  <tbody>\n",
       "    <tr>\n",
       "      <th>0</th>\n",
       "      <td>6</td>\n",
       "      <td>9</td>\n",
       "      <td>2</td>\n",
       "      <td>6</td>\n",
       "    </tr>\n",
       "    <tr>\n",
       "      <th>1</th>\n",
       "      <td>7</td>\n",
       "      <td>4</td>\n",
       "      <td>3</td>\n",
       "      <td>7</td>\n",
       "    </tr>\n",
       "    <tr>\n",
       "      <th>2</th>\n",
       "      <td>7</td>\n",
       "      <td>2</td>\n",
       "      <td>5</td>\n",
       "      <td>4</td>\n",
       "    </tr>\n",
       "  </tbody>\n",
       "</table>\n",
       "</div>"
      ]
     },
     "execution_count": 120,
     "metadata": {},
     "output_type": "execute_result"
    }
   ],
   "execution_count": 120
  },
  {
   "metadata": {},
   "cell_type": "markdown",
   "source": "If we apply a NumPy ufunc on either of these objects, the result will be another Pandas object *with the indices preserved*:\n",
   "id": "e47eaf2d1c97e18a"
  },
  {
   "metadata": {
    "ExecuteTime": {
     "end_time": "2025-06-01T05:32:21.719207Z",
     "start_time": "2025-06-01T05:32:21.706333Z"
    }
   },
   "cell_type": "code",
   "source": "np.exp(ser)",
   "id": "4afa60a2442a4014",
   "outputs": [
    {
     "data": {
      "text/plain": [
       "0     403.428793\n",
       "1      20.085537\n",
       "2    1096.633158\n",
       "3      54.598150\n",
       "dtype: float64"
      ]
     },
     "execution_count": 121,
     "metadata": {},
     "output_type": "execute_result"
    }
   ],
   "execution_count": 121
  },
  {
   "metadata": {
    "ExecuteTime": {
     "end_time": "2025-06-01T05:33:04.978382Z",
     "start_time": "2025-06-01T05:33:04.961255Z"
    }
   },
   "cell_type": "code",
   "source": [
    "# a slightly more complex calculation\n",
    "np.sin(df * np.pi / 4)"
   ],
   "id": "7685c872dd0616fa",
   "outputs": [
    {
     "data": {
      "text/plain": [
       "          A             B         C             D\n",
       "0 -1.000000  7.071068e-01  1.000000 -1.000000e+00\n",
       "1 -0.707107  1.224647e-16  0.707107 -7.071068e-01\n",
       "2 -0.707107  1.000000e+00 -0.707107  1.224647e-16"
      ],
      "text/html": [
       "<div>\n",
       "<style scoped>\n",
       "    .dataframe tbody tr th:only-of-type {\n",
       "        vertical-align: middle;\n",
       "    }\n",
       "\n",
       "    .dataframe tbody tr th {\n",
       "        vertical-align: top;\n",
       "    }\n",
       "\n",
       "    .dataframe thead th {\n",
       "        text-align: right;\n",
       "    }\n",
       "</style>\n",
       "<table border=\"1\" class=\"dataframe\">\n",
       "  <thead>\n",
       "    <tr style=\"text-align: right;\">\n",
       "      <th></th>\n",
       "      <th>A</th>\n",
       "      <th>B</th>\n",
       "      <th>C</th>\n",
       "      <th>D</th>\n",
       "    </tr>\n",
       "  </thead>\n",
       "  <tbody>\n",
       "    <tr>\n",
       "      <th>0</th>\n",
       "      <td>-1.000000</td>\n",
       "      <td>7.071068e-01</td>\n",
       "      <td>1.000000</td>\n",
       "      <td>-1.000000e+00</td>\n",
       "    </tr>\n",
       "    <tr>\n",
       "      <th>1</th>\n",
       "      <td>-0.707107</td>\n",
       "      <td>1.224647e-16</td>\n",
       "      <td>0.707107</td>\n",
       "      <td>-7.071068e-01</td>\n",
       "    </tr>\n",
       "    <tr>\n",
       "      <th>2</th>\n",
       "      <td>-0.707107</td>\n",
       "      <td>1.000000e+00</td>\n",
       "      <td>-0.707107</td>\n",
       "      <td>1.224647e-16</td>\n",
       "    </tr>\n",
       "  </tbody>\n",
       "</table>\n",
       "</div>"
      ]
     },
     "execution_count": 122,
     "metadata": {},
     "output_type": "execute_result"
    }
   ],
   "execution_count": 122
  },
  {
   "metadata": {},
   "cell_type": "markdown",
   "source": "## UFuncs: Index Alignment",
   "id": "f5cdc3203448000e"
  },
  {
   "metadata": {},
   "cell_type": "markdown",
   "source": [
    "### Index alignment in Series\n",
    "\n"
   ],
   "id": "cc0494474aa595f0"
  },
  {
   "metadata": {
    "ExecuteTime": {
     "end_time": "2025-06-01T05:34:46.012790Z",
     "start_time": "2025-06-01T05:34:46.004041Z"
    }
   },
   "cell_type": "code",
   "source": [
    "# combing two different data sources\n",
    "# find only the top three US States by area\n",
    "# and the top three US states by pop\n",
    "area = pd.Series({'Alaska': 1723337, 'Texas': 695662,\n",
    "                  'California': 423967}, name='area')\n",
    "population = pd.Series({'California': 38332521, 'Texas': 26448193,\n",
    "                        'New York': 19651127}, name='population')"
   ],
   "id": "689539ffe4febf48",
   "outputs": [],
   "execution_count": 123
  },
  {
   "metadata": {
    "ExecuteTime": {
     "end_time": "2025-06-01T05:34:56.056896Z",
     "start_time": "2025-06-01T05:34:56.041602Z"
    }
   },
   "cell_type": "code",
   "source": "population / area",
   "id": "8847d74b4fadfcec",
   "outputs": [
    {
     "data": {
      "text/plain": [
       "Alaska              NaN\n",
       "California    90.413926\n",
       "New York            NaN\n",
       "Texas         38.018740\n",
       "dtype: float64"
      ]
     },
     "execution_count": 125,
     "metadata": {},
     "output_type": "execute_result"
    }
   ],
   "execution_count": 125
  },
  {
   "metadata": {
    "ExecuteTime": {
     "end_time": "2025-06-01T05:36:09.419744Z",
     "start_time": "2025-06-01T05:36:09.409211Z"
    }
   },
   "cell_type": "code",
   "source": "area.index.union(population.index)",
   "id": "6f8200392c9ae46b",
   "outputs": [
    {
     "data": {
      "text/plain": [
       "Index(['Alaska', 'California', 'New York', 'Texas'], dtype='object')"
      ]
     },
     "execution_count": 128,
     "metadata": {},
     "output_type": "execute_result"
    }
   ],
   "execution_count": 128
  },
  {
   "metadata": {
    "ExecuteTime": {
     "end_time": "2025-06-01T05:37:06.168561Z",
     "start_time": "2025-06-01T05:37:06.151695Z"
    }
   },
   "cell_type": "code",
   "source": [
    "# any missing value is default to NaN\n",
    "A = pd.Series([2, 4, 6], index=[0, 1, 2])\n",
    "B = pd.Series([1, 3, 5], index=[1, 2, 3])\n",
    "A + B"
   ],
   "id": "8af53dd491c07425",
   "outputs": [
    {
     "data": {
      "text/plain": [
       "0    NaN\n",
       "1    5.0\n",
       "2    9.0\n",
       "3    NaN\n",
       "dtype: float64"
      ]
     },
     "execution_count": 129,
     "metadata": {},
     "output_type": "execute_result"
    }
   ],
   "execution_count": 129
  },
  {
   "metadata": {
    "ExecuteTime": {
     "end_time": "2025-06-01T05:37:42.996691Z",
     "start_time": "2025-06-01T05:37:42.984901Z"
    }
   },
   "cell_type": "code",
   "source": [
    "# replace NaN with a default value\n",
    "A.add(B, fill_value=0)"
   ],
   "id": "344409f5c0ac29d5",
   "outputs": [
    {
     "data": {
      "text/plain": [
       "0    2.0\n",
       "1    5.0\n",
       "2    9.0\n",
       "3    5.0\n",
       "dtype: float64"
      ]
     },
     "execution_count": 130,
     "metadata": {},
     "output_type": "execute_result"
    }
   ],
   "execution_count": 130
  },
  {
   "metadata": {},
   "cell_type": "markdown",
   "source": "### Index alignment in DataFrame",
   "id": "4f7c51db860bea79"
  },
  {
   "metadata": {
    "ExecuteTime": {
     "end_time": "2025-06-01T05:39:19.326319Z",
     "start_time": "2025-06-01T05:39:19.319020Z"
    }
   },
   "cell_type": "code",
   "source": [
    "A = pd.DataFrame(rng.randint(0, 20, (2, 2)),\n",
    "                 columns=list('AB'))"
   ],
   "id": "17687c7daa627df4",
   "outputs": [],
   "execution_count": 134
  },
  {
   "metadata": {
    "ExecuteTime": {
     "end_time": "2025-06-01T05:39:21.345447Z",
     "start_time": "2025-06-01T05:39:21.333248Z"
    }
   },
   "cell_type": "code",
   "source": "A",
   "id": "5144e9550cb14de9",
   "outputs": [
    {
     "data": {
      "text/plain": [
       "    A   B\n",
       "0   9  15\n",
       "1  14  14"
      ],
      "text/html": [
       "<div>\n",
       "<style scoped>\n",
       "    .dataframe tbody tr th:only-of-type {\n",
       "        vertical-align: middle;\n",
       "    }\n",
       "\n",
       "    .dataframe tbody tr th {\n",
       "        vertical-align: top;\n",
       "    }\n",
       "\n",
       "    .dataframe thead th {\n",
       "        text-align: right;\n",
       "    }\n",
       "</style>\n",
       "<table border=\"1\" class=\"dataframe\">\n",
       "  <thead>\n",
       "    <tr style=\"text-align: right;\">\n",
       "      <th></th>\n",
       "      <th>A</th>\n",
       "      <th>B</th>\n",
       "    </tr>\n",
       "  </thead>\n",
       "  <tbody>\n",
       "    <tr>\n",
       "      <th>0</th>\n",
       "      <td>9</td>\n",
       "      <td>15</td>\n",
       "    </tr>\n",
       "    <tr>\n",
       "      <th>1</th>\n",
       "      <td>14</td>\n",
       "      <td>14</td>\n",
       "    </tr>\n",
       "  </tbody>\n",
       "</table>\n",
       "</div>"
      ]
     },
     "execution_count": 135,
     "metadata": {},
     "output_type": "execute_result"
    }
   ],
   "execution_count": 135
  },
  {
   "metadata": {
    "ExecuteTime": {
     "end_time": "2025-06-01T05:40:06.674241Z",
     "start_time": "2025-06-01T05:40:06.661348Z"
    }
   },
   "cell_type": "code",
   "source": [
    "B = pd.DataFrame(rng.randint(0, 10, (3, 3)),\n",
    "                 columns=list('BAC'))\n",
    "B"
   ],
   "id": "dbc1d068aabffc04",
   "outputs": [
    {
     "data": {
      "text/plain": [
       "   B  A  C\n",
       "0  2  6  3\n",
       "1  8  2  4\n",
       "2  2  6  4"
      ],
      "text/html": [
       "<div>\n",
       "<style scoped>\n",
       "    .dataframe tbody tr th:only-of-type {\n",
       "        vertical-align: middle;\n",
       "    }\n",
       "\n",
       "    .dataframe tbody tr th {\n",
       "        vertical-align: top;\n",
       "    }\n",
       "\n",
       "    .dataframe thead th {\n",
       "        text-align: right;\n",
       "    }\n",
       "</style>\n",
       "<table border=\"1\" class=\"dataframe\">\n",
       "  <thead>\n",
       "    <tr style=\"text-align: right;\">\n",
       "      <th></th>\n",
       "      <th>B</th>\n",
       "      <th>A</th>\n",
       "      <th>C</th>\n",
       "    </tr>\n",
       "  </thead>\n",
       "  <tbody>\n",
       "    <tr>\n",
       "      <th>0</th>\n",
       "      <td>2</td>\n",
       "      <td>6</td>\n",
       "      <td>3</td>\n",
       "    </tr>\n",
       "    <tr>\n",
       "      <th>1</th>\n",
       "      <td>8</td>\n",
       "      <td>2</td>\n",
       "      <td>4</td>\n",
       "    </tr>\n",
       "    <tr>\n",
       "      <th>2</th>\n",
       "      <td>2</td>\n",
       "      <td>6</td>\n",
       "      <td>4</td>\n",
       "    </tr>\n",
       "  </tbody>\n",
       "</table>\n",
       "</div>"
      ]
     },
     "execution_count": 136,
     "metadata": {},
     "output_type": "execute_result"
    }
   ],
   "execution_count": 136
  },
  {
   "metadata": {
    "ExecuteTime": {
     "end_time": "2025-06-01T05:40:28.560053Z",
     "start_time": "2025-06-01T05:40:28.537288Z"
    }
   },
   "cell_type": "code",
   "source": "A + B",
   "id": "bd7a5701eff587ff",
   "outputs": [
    {
     "data": {
      "text/plain": [
       "      A     B   C\n",
       "0  15.0  17.0 NaN\n",
       "1  16.0  22.0 NaN\n",
       "2   NaN   NaN NaN"
      ],
      "text/html": [
       "<div>\n",
       "<style scoped>\n",
       "    .dataframe tbody tr th:only-of-type {\n",
       "        vertical-align: middle;\n",
       "    }\n",
       "\n",
       "    .dataframe tbody tr th {\n",
       "        vertical-align: top;\n",
       "    }\n",
       "\n",
       "    .dataframe thead th {\n",
       "        text-align: right;\n",
       "    }\n",
       "</style>\n",
       "<table border=\"1\" class=\"dataframe\">\n",
       "  <thead>\n",
       "    <tr style=\"text-align: right;\">\n",
       "      <th></th>\n",
       "      <th>A</th>\n",
       "      <th>B</th>\n",
       "      <th>C</th>\n",
       "    </tr>\n",
       "  </thead>\n",
       "  <tbody>\n",
       "    <tr>\n",
       "      <th>0</th>\n",
       "      <td>15.0</td>\n",
       "      <td>17.0</td>\n",
       "      <td>NaN</td>\n",
       "    </tr>\n",
       "    <tr>\n",
       "      <th>1</th>\n",
       "      <td>16.0</td>\n",
       "      <td>22.0</td>\n",
       "      <td>NaN</td>\n",
       "    </tr>\n",
       "    <tr>\n",
       "      <th>2</th>\n",
       "      <td>NaN</td>\n",
       "      <td>NaN</td>\n",
       "      <td>NaN</td>\n",
       "    </tr>\n",
       "  </tbody>\n",
       "</table>\n",
       "</div>"
      ]
     },
     "execution_count": 137,
     "metadata": {},
     "output_type": "execute_result"
    }
   ],
   "execution_count": 137
  },
  {
   "metadata": {},
   "cell_type": "markdown",
   "source": "The indices are aligned correctly irrespective of their order in the two objects, and indices in the result are sorted.",
   "id": "1a7a1df322bfb249"
  },
  {
   "metadata": {
    "ExecuteTime": {
     "end_time": "2025-06-01T05:43:00.446473Z",
     "start_time": "2025-06-01T05:43:00.428524Z"
    }
   },
   "cell_type": "code",
   "source": [
    "fill = A.stack().mean()\n",
    "A.add(B, fill_value=fill)"
   ],
   "id": "6d01d17223678e2e",
   "outputs": [
    {
     "data": {
      "text/plain": [
       "      A     B     C\n",
       "0  15.0  17.0  16.0\n",
       "1  16.0  22.0  17.0\n",
       "2  19.0  15.0  17.0"
      ],
      "text/html": [
       "<div>\n",
       "<style scoped>\n",
       "    .dataframe tbody tr th:only-of-type {\n",
       "        vertical-align: middle;\n",
       "    }\n",
       "\n",
       "    .dataframe tbody tr th {\n",
       "        vertical-align: top;\n",
       "    }\n",
       "\n",
       "    .dataframe thead th {\n",
       "        text-align: right;\n",
       "    }\n",
       "</style>\n",
       "<table border=\"1\" class=\"dataframe\">\n",
       "  <thead>\n",
       "    <tr style=\"text-align: right;\">\n",
       "      <th></th>\n",
       "      <th>A</th>\n",
       "      <th>B</th>\n",
       "      <th>C</th>\n",
       "    </tr>\n",
       "  </thead>\n",
       "  <tbody>\n",
       "    <tr>\n",
       "      <th>0</th>\n",
       "      <td>15.0</td>\n",
       "      <td>17.0</td>\n",
       "      <td>16.0</td>\n",
       "    </tr>\n",
       "    <tr>\n",
       "      <th>1</th>\n",
       "      <td>16.0</td>\n",
       "      <td>22.0</td>\n",
       "      <td>17.0</td>\n",
       "    </tr>\n",
       "    <tr>\n",
       "      <th>2</th>\n",
       "      <td>19.0</td>\n",
       "      <td>15.0</td>\n",
       "      <td>17.0</td>\n",
       "    </tr>\n",
       "  </tbody>\n",
       "</table>\n",
       "</div>"
      ]
     },
     "execution_count": 139,
     "metadata": {},
     "output_type": "execute_result"
    }
   ],
   "execution_count": 139
  },
  {
   "metadata": {},
   "cell_type": "markdown",
   "source": [
    "## Ufuncs: operations between DataFrame and Series\n",
    "\n",
    "When performing operations between a DataFrame and Series, the index and column alignment is similarly maintained. operations between a DataFrame and a Series are similar to operations between a two-dimensional and one-dimensional NumPy array."
   ],
   "id": "579292d2be53f0dc"
  },
  {
   "metadata": {
    "ExecuteTime": {
     "end_time": "2025-06-01T05:46:17.601361Z",
     "start_time": "2025-06-01T05:46:17.595875Z"
    }
   },
   "cell_type": "code",
   "source": "# rng = np.random.RandomState(42)",
   "id": "223189389c9f87db",
   "outputs": [],
   "execution_count": 143
  },
  {
   "metadata": {
    "ExecuteTime": {
     "end_time": "2025-06-01T05:46:18.051284Z",
     "start_time": "2025-06-01T05:46:18.041179Z"
    }
   },
   "cell_type": "code",
   "source": [
    "A = rng.randint(10, size=(3, 4))\n",
    "A"
   ],
   "id": "244a2521ed363a84",
   "outputs": [
    {
     "data": {
      "text/plain": [
       "array([[7, 2, 5, 4],\n",
       "       [1, 7, 5, 1],\n",
       "       [4, 0, 9, 5]], dtype=int32)"
      ]
     },
     "execution_count": 144,
     "metadata": {},
     "output_type": "execute_result"
    }
   ],
   "execution_count": 144
  },
  {
   "metadata": {
    "ExecuteTime": {
     "end_time": "2025-06-01T05:46:29.019148Z",
     "start_time": "2025-06-01T05:46:29.010606Z"
    }
   },
   "cell_type": "code",
   "source": "A - A[0]",
   "id": "bce9a014236de7a6",
   "outputs": [
    {
     "data": {
      "text/plain": [
       "array([[ 0,  0,  0,  0],\n",
       "       [-6,  5,  0, -3],\n",
       "       [-3, -2,  4,  1]], dtype=int32)"
      ]
     },
     "execution_count": 145,
     "metadata": {},
     "output_type": "execute_result"
    }
   ],
   "execution_count": 145
  },
  {
   "metadata": {
    "ExecuteTime": {
     "end_time": "2025-06-01T05:47:28.719199Z",
     "start_time": "2025-06-01T05:47:28.704019Z"
    }
   },
   "cell_type": "code",
   "source": [
    "df = pd.DataFrame(A, columns=list('QRST'))\n",
    "df - df.iloc[0]"
   ],
   "id": "a094d4df4d9c4809",
   "outputs": [
    {
     "data": {
      "text/plain": [
       "   Q  R  S  T\n",
       "0  0  0  0  0\n",
       "1 -6  5  0 -3\n",
       "2 -3 -2  4  1"
      ],
      "text/html": [
       "<div>\n",
       "<style scoped>\n",
       "    .dataframe tbody tr th:only-of-type {\n",
       "        vertical-align: middle;\n",
       "    }\n",
       "\n",
       "    .dataframe tbody tr th {\n",
       "        vertical-align: top;\n",
       "    }\n",
       "\n",
       "    .dataframe thead th {\n",
       "        text-align: right;\n",
       "    }\n",
       "</style>\n",
       "<table border=\"1\" class=\"dataframe\">\n",
       "  <thead>\n",
       "    <tr style=\"text-align: right;\">\n",
       "      <th></th>\n",
       "      <th>Q</th>\n",
       "      <th>R</th>\n",
       "      <th>S</th>\n",
       "      <th>T</th>\n",
       "    </tr>\n",
       "  </thead>\n",
       "  <tbody>\n",
       "    <tr>\n",
       "      <th>0</th>\n",
       "      <td>0</td>\n",
       "      <td>0</td>\n",
       "      <td>0</td>\n",
       "      <td>0</td>\n",
       "    </tr>\n",
       "    <tr>\n",
       "      <th>1</th>\n",
       "      <td>-6</td>\n",
       "      <td>5</td>\n",
       "      <td>0</td>\n",
       "      <td>-3</td>\n",
       "    </tr>\n",
       "    <tr>\n",
       "      <th>2</th>\n",
       "      <td>-3</td>\n",
       "      <td>-2</td>\n",
       "      <td>4</td>\n",
       "      <td>1</td>\n",
       "    </tr>\n",
       "  </tbody>\n",
       "</table>\n",
       "</div>"
      ]
     },
     "execution_count": 146,
     "metadata": {},
     "output_type": "execute_result"
    }
   ],
   "execution_count": 146
  },
  {
   "metadata": {
    "ExecuteTime": {
     "end_time": "2025-06-01T05:48:23.491590Z",
     "start_time": "2025-06-01T05:48:23.478718Z"
    }
   },
   "cell_type": "code",
   "source": [
    "# column-wise op\n",
    "df.subtract(df['R'], axis=0)"
   ],
   "id": "3e6cbe03bdca9a14",
   "outputs": [
    {
     "data": {
      "text/plain": [
       "   Q  R  S  T\n",
       "0  5  0  3  2\n",
       "1 -6  0 -2 -6\n",
       "2  4  0  9  5"
      ],
      "text/html": [
       "<div>\n",
       "<style scoped>\n",
       "    .dataframe tbody tr th:only-of-type {\n",
       "        vertical-align: middle;\n",
       "    }\n",
       "\n",
       "    .dataframe tbody tr th {\n",
       "        vertical-align: top;\n",
       "    }\n",
       "\n",
       "    .dataframe thead th {\n",
       "        text-align: right;\n",
       "    }\n",
       "</style>\n",
       "<table border=\"1\" class=\"dataframe\">\n",
       "  <thead>\n",
       "    <tr style=\"text-align: right;\">\n",
       "      <th></th>\n",
       "      <th>Q</th>\n",
       "      <th>R</th>\n",
       "      <th>S</th>\n",
       "      <th>T</th>\n",
       "    </tr>\n",
       "  </thead>\n",
       "  <tbody>\n",
       "    <tr>\n",
       "      <th>0</th>\n",
       "      <td>5</td>\n",
       "      <td>0</td>\n",
       "      <td>3</td>\n",
       "      <td>2</td>\n",
       "    </tr>\n",
       "    <tr>\n",
       "      <th>1</th>\n",
       "      <td>-6</td>\n",
       "      <td>0</td>\n",
       "      <td>-2</td>\n",
       "      <td>-6</td>\n",
       "    </tr>\n",
       "    <tr>\n",
       "      <th>2</th>\n",
       "      <td>4</td>\n",
       "      <td>0</td>\n",
       "      <td>9</td>\n",
       "      <td>5</td>\n",
       "    </tr>\n",
       "  </tbody>\n",
       "</table>\n",
       "</div>"
      ]
     },
     "execution_count": 147,
     "metadata": {},
     "output_type": "execute_result"
    }
   ],
   "execution_count": 147
  },
  {
   "metadata": {
    "ExecuteTime": {
     "end_time": "2025-06-01T05:49:15.834172Z",
     "start_time": "2025-06-01T05:49:15.823529Z"
    }
   },
   "cell_type": "code",
   "source": [
    "halfrow = df.iloc[0, ::2]\n",
    "halfrow"
   ],
   "id": "26fe777a64bd9699",
   "outputs": [
    {
     "data": {
      "text/plain": [
       "Q    7\n",
       "S    5\n",
       "Name: 0, dtype: int32"
      ]
     },
     "execution_count": 148,
     "metadata": {},
     "output_type": "execute_result"
    }
   ],
   "execution_count": 148
  },
  {
   "metadata": {
    "ExecuteTime": {
     "end_time": "2025-06-01T05:49:26.785770Z",
     "start_time": "2025-06-01T05:49:26.766794Z"
    }
   },
   "cell_type": "code",
   "source": "df - halfrow",
   "id": "6ef2078e60e32cf6",
   "outputs": [
    {
     "data": {
      "text/plain": [
       "     Q   R    S   T\n",
       "0  0.0 NaN  0.0 NaN\n",
       "1 -6.0 NaN  0.0 NaN\n",
       "2 -3.0 NaN  4.0 NaN"
      ],
      "text/html": [
       "<div>\n",
       "<style scoped>\n",
       "    .dataframe tbody tr th:only-of-type {\n",
       "        vertical-align: middle;\n",
       "    }\n",
       "\n",
       "    .dataframe tbody tr th {\n",
       "        vertical-align: top;\n",
       "    }\n",
       "\n",
       "    .dataframe thead th {\n",
       "        text-align: right;\n",
       "    }\n",
       "</style>\n",
       "<table border=\"1\" class=\"dataframe\">\n",
       "  <thead>\n",
       "    <tr style=\"text-align: right;\">\n",
       "      <th></th>\n",
       "      <th>Q</th>\n",
       "      <th>R</th>\n",
       "      <th>S</th>\n",
       "      <th>T</th>\n",
       "    </tr>\n",
       "  </thead>\n",
       "  <tbody>\n",
       "    <tr>\n",
       "      <th>0</th>\n",
       "      <td>0.0</td>\n",
       "      <td>NaN</td>\n",
       "      <td>0.0</td>\n",
       "      <td>NaN</td>\n",
       "    </tr>\n",
       "    <tr>\n",
       "      <th>1</th>\n",
       "      <td>-6.0</td>\n",
       "      <td>NaN</td>\n",
       "      <td>0.0</td>\n",
       "      <td>NaN</td>\n",
       "    </tr>\n",
       "    <tr>\n",
       "      <th>2</th>\n",
       "      <td>-3.0</td>\n",
       "      <td>NaN</td>\n",
       "      <td>4.0</td>\n",
       "      <td>NaN</td>\n",
       "    </tr>\n",
       "  </tbody>\n",
       "</table>\n",
       "</div>"
      ]
     },
     "execution_count": 149,
     "metadata": {},
     "output_type": "execute_result"
    }
   ],
   "execution_count": 149
  },
  {
   "metadata": {},
   "cell_type": "markdown",
   "source": "# Handling Missing Data",
   "id": "b3c76ac2114653a8"
  },
  {
   "metadata": {},
   "cell_type": "markdown",
   "source": [
    "## Missing Data in Pandas\n",
    "\n",
    "Pandas uses sentinels for missing data, two existing Python null values: the special floating-point `NaN` value, and the Python `None` object. There are some side effects, but in practice, this has a good compromise in most cases of interest."
   ],
   "id": "9a5ea76152c1a1ef"
  },
  {
   "metadata": {},
   "cell_type": "markdown",
   "source": "### `None`: Pythonic missing data",
   "id": "1830595fb1f98e2d"
  },
  {
   "metadata": {},
   "cell_type": "markdown",
   "source": "`None` is a Python object, so it cannot be used in any arbitrary NumPy/Pandas array, but only in arrays with data type `objects (arrays of Python objects):",
   "id": "2e1e3eaf829ffda8"
  },
  {
   "metadata": {
    "ExecuteTime": {
     "end_time": "2025-06-01T05:59:34.796886Z",
     "start_time": "2025-06-01T05:59:34.787365Z"
    }
   },
   "cell_type": "code",
   "source": [
    "vals1 = np.array([1, None, 3, 4])\n",
    "vals1"
   ],
   "id": "a804688e4007160e",
   "outputs": [
    {
     "data": {
      "text/plain": [
       "array([1, None, 3, 4], dtype=object)"
      ]
     },
     "execution_count": 150,
     "metadata": {},
     "output_type": "execute_result"
    }
   ],
   "execution_count": 150
  },
  {
   "metadata": {
    "ExecuteTime": {
     "end_time": "2025-06-01T06:01:52.493196Z",
     "start_time": "2025-06-01T06:01:36.368168Z"
    }
   },
   "cell_type": "code",
   "source": [
    "for dtype in ['object', 'int']:\n",
    "    print('dtype = ', dtype)\n",
    "    %timeit np.arange(1E6, dtype=dtype).sum()\n",
    "    print()"
   ],
   "id": "d3e48f9511acb791",
   "outputs": [
    {
     "name": "stdout",
     "output_type": "stream",
     "text": [
      "dtype =  object\n",
      "95.6 ms ± 3.62 ms per loop (mean ± std. dev. of 7 runs, 10 loops each)\n",
      "\n",
      "dtype =  int\n",
      "995 μs ± 9.46 μs per loop (mean ± std. dev. of 7 runs, 1,000 loops each)\n",
      "\n"
     ]
    }
   ],
   "execution_count": 151
  },
  {
   "metadata": {
    "ExecuteTime": {
     "end_time": "2025-06-01T06:02:43.624679Z",
     "start_time": "2025-06-01T06:02:43.568641Z"
    }
   },
   "cell_type": "code",
   "source": [
    "# error for aggregation method due to None value\n",
    "vals1.sum()"
   ],
   "id": "68144a7210b80a4b",
   "outputs": [
    {
     "ename": "TypeError",
     "evalue": "unsupported operand type(s) for +: 'int' and 'NoneType'",
     "output_type": "error",
     "traceback": [
      "\u001B[1;31m---------------------------------------------------------------------------\u001B[0m",
      "\u001B[1;31mTypeError\u001B[0m                                 Traceback (most recent call last)",
      "Cell \u001B[1;32mIn[152], line 2\u001B[0m\n\u001B[0;32m      1\u001B[0m \u001B[38;5;66;03m# error for aggregation method due to None value\u001B[39;00m\n\u001B[1;32m----> 2\u001B[0m \u001B[43mvals1\u001B[49m\u001B[38;5;241;43m.\u001B[39;49m\u001B[43msum\u001B[49m\u001B[43m(\u001B[49m\u001B[43m)\u001B[49m\n",
      "File \u001B[1;32m~\\Desktop\\CST\\Self-directed Learning - Winter 2025\\neuralnetwork_deeplearning\\.venv\\Lib\\site-packages\\numpy\\_core\\_methods.py:52\u001B[0m, in \u001B[0;36m_sum\u001B[1;34m(a, axis, dtype, out, keepdims, initial, where)\u001B[0m\n\u001B[0;32m     50\u001B[0m \u001B[38;5;28;01mdef\u001B[39;00m\u001B[38;5;250m \u001B[39m\u001B[38;5;21m_sum\u001B[39m(a, axis\u001B[38;5;241m=\u001B[39m\u001B[38;5;28;01mNone\u001B[39;00m, dtype\u001B[38;5;241m=\u001B[39m\u001B[38;5;28;01mNone\u001B[39;00m, out\u001B[38;5;241m=\u001B[39m\u001B[38;5;28;01mNone\u001B[39;00m, keepdims\u001B[38;5;241m=\u001B[39m\u001B[38;5;28;01mFalse\u001B[39;00m,\n\u001B[0;32m     51\u001B[0m          initial\u001B[38;5;241m=\u001B[39m_NoValue, where\u001B[38;5;241m=\u001B[39m\u001B[38;5;28;01mTrue\u001B[39;00m):\n\u001B[1;32m---> 52\u001B[0m     \u001B[38;5;28;01mreturn\u001B[39;00m \u001B[43mumr_sum\u001B[49m\u001B[43m(\u001B[49m\u001B[43ma\u001B[49m\u001B[43m,\u001B[49m\u001B[43m \u001B[49m\u001B[43maxis\u001B[49m\u001B[43m,\u001B[49m\u001B[43m \u001B[49m\u001B[43mdtype\u001B[49m\u001B[43m,\u001B[49m\u001B[43m \u001B[49m\u001B[43mout\u001B[49m\u001B[43m,\u001B[49m\u001B[43m \u001B[49m\u001B[43mkeepdims\u001B[49m\u001B[43m,\u001B[49m\u001B[43m \u001B[49m\u001B[43minitial\u001B[49m\u001B[43m,\u001B[49m\u001B[43m \u001B[49m\u001B[43mwhere\u001B[49m\u001B[43m)\u001B[49m\n",
      "\u001B[1;31mTypeError\u001B[0m: unsupported operand type(s) for +: 'int' and 'NoneType'"
     ]
    }
   ],
   "execution_count": 152
  },
  {
   "metadata": {},
   "cell_type": "markdown",
   "source": [
    "### `NaN`: Missing numerical data\n",
    "\n",
    "`NaN` is a special floating-point value recognized by all systems that use the standard IEEE floating-point representation"
   ],
   "id": "a54eb27e51eab875"
  },
  {
   "metadata": {
    "ExecuteTime": {
     "end_time": "2025-06-01T06:04:07.928215Z",
     "start_time": "2025-06-01T06:04:07.919668Z"
    }
   },
   "cell_type": "code",
   "source": [
    "vals2 = np.array([1, np.nan, 3, 4])\n",
    "vals2.dtype"
   ],
   "id": "5fb61295cb143496",
   "outputs": [
    {
     "data": {
      "text/plain": [
       "dtype('float64')"
      ]
     },
     "execution_count": 154,
     "metadata": {},
     "output_type": "execute_result"
    }
   ],
   "execution_count": 154
  },
  {
   "metadata": {},
   "cell_type": "markdown",
   "source": [
    "NumPy chose a native floating-point type for this array: this means that unlike the object array from before, this array supports fast operations pushed into compiled code.\n",
    "\n",
    "Note that `NaN` affects all operations with result of `NaN`."
   ],
   "id": "32fe6bddeb9158d5"
  },
  {
   "metadata": {
    "ExecuteTime": {
     "end_time": "2025-06-01T06:05:45.188022Z",
     "start_time": "2025-06-01T06:05:45.178841Z"
    }
   },
   "cell_type": "code",
   "source": "1 + np.nan",
   "id": "110bdaa66cdb15",
   "outputs": [
    {
     "data": {
      "text/plain": [
       "nan"
      ]
     },
     "execution_count": 155,
     "metadata": {},
     "output_type": "execute_result"
    }
   ],
   "execution_count": 155
  },
  {
   "metadata": {
    "ExecuteTime": {
     "end_time": "2025-06-01T06:05:53.775695Z",
     "start_time": "2025-06-01T06:05:53.767550Z"
    }
   },
   "cell_type": "code",
   "source": "0 * np.nan",
   "id": "1ebe35560321029b",
   "outputs": [
    {
     "data": {
      "text/plain": [
       "nan"
      ]
     },
     "execution_count": 156,
     "metadata": {},
     "output_type": "execute_result"
    }
   ],
   "execution_count": 156
  },
  {
   "metadata": {
    "ExecuteTime": {
     "end_time": "2025-06-01T06:06:29.491876Z",
     "start_time": "2025-06-01T06:06:29.482993Z"
    }
   },
   "cell_type": "code",
   "source": "vals2.sum(), vals2.min(), vals2.max()",
   "id": "bb1043640da9a5e1",
   "outputs": [
    {
     "data": {
      "text/plain": [
       "(np.float64(nan), np.float64(nan), np.float64(nan))"
      ]
     },
     "execution_count": 157,
     "metadata": {},
     "output_type": "execute_result"
    }
   ],
   "execution_count": 157
  },
  {
   "metadata": {
    "ExecuteTime": {
     "end_time": "2025-06-01T06:07:36.805601Z",
     "start_time": "2025-06-01T06:07:36.796145Z"
    }
   },
   "cell_type": "code",
   "source": [
    "# ignore missing values -> return real values\n",
    "np.nansum(vals2), np.nanmin(vals2), np.nanmax(vals2)"
   ],
   "id": "75411e1a48e14a8",
   "outputs": [
    {
     "data": {
      "text/plain": [
       "(8.0, np.float64(1.0), np.float64(4.0))"
      ]
     },
     "execution_count": 159,
     "metadata": {},
     "output_type": "execute_result"
    }
   ],
   "execution_count": 159
  },
  {
   "metadata": {},
   "cell_type": "markdown",
   "source": [
    "### NaN and None in Pandas\n",
    "\n",
    "Pandas is built to handle both NaN and none nearly interchangeably, converting between them where appropriate:"
   ],
   "id": "191dd4035cf1455f"
  },
  {
   "metadata": {
    "ExecuteTime": {
     "end_time": "2025-06-01T06:09:05.417688Z",
     "start_time": "2025-06-01T06:09:05.406293Z"
    }
   },
   "cell_type": "code",
   "source": "pd.Series([1, np.nan, 2, None])",
   "id": "59c1ae2733b272b7",
   "outputs": [
    {
     "data": {
      "text/plain": [
       "0    1.0\n",
       "1    NaN\n",
       "2    2.0\n",
       "3    NaN\n",
       "dtype: float64"
      ]
     },
     "execution_count": 160,
     "metadata": {},
     "output_type": "execute_result"
    }
   ],
   "execution_count": 160
  },
  {
   "metadata": {
    "ExecuteTime": {
     "end_time": "2025-06-01T06:10:32.566747Z",
     "start_time": "2025-06-01T06:10:32.556580Z"
    }
   },
   "cell_type": "code",
   "source": [
    "x = pd.Series(range(2), dtype=int)\n",
    "x"
   ],
   "id": "1a4ca8df1928ebd8",
   "outputs": [
    {
     "data": {
      "text/plain": [
       "0    0\n",
       "1    1\n",
       "dtype: int64"
      ]
     },
     "execution_count": 161,
     "metadata": {},
     "output_type": "execute_result"
    }
   ],
   "execution_count": 161
  },
  {
   "metadata": {
    "ExecuteTime": {
     "end_time": "2025-06-01T06:10:40.575193Z",
     "start_time": "2025-06-01T06:10:40.565349Z"
    }
   },
   "cell_type": "code",
   "source": [
    "x[0] = None\n",
    "x # Pandas auto type-casts and upcasts to floating-point type"
   ],
   "id": "bf29ed07e6e0f2a2",
   "outputs": [
    {
     "data": {
      "text/plain": [
       "0    NaN\n",
       "1    1.0\n",
       "dtype: float64"
      ]
     },
     "execution_count": 162,
     "metadata": {},
     "output_type": "execute_result"
    }
   ],
   "execution_count": 162
  },
  {
   "metadata": {},
   "cell_type": "markdown",
   "source": [
    "## Operating on Null Values\n",
    "\n",
    "Pandas treats `None` and `NaN` as essentially interchangeable for missing or null values.\n",
    "\n",
    "* `isnull()`: Generate a boolean mask indicating missing values\n",
    "* `notnull()`: Opposite of `isnull()`\n",
    "* `dropna()`: Return a filtered version of the data\n",
    "* `fillna()`: Return a copy of the data with missing values filled or imputed"
   ],
   "id": "f111d4a0baf48ad4"
  },
  {
   "metadata": {},
   "cell_type": "markdown",
   "source": "### Detecting null values",
   "id": "7b103d2ca36486bd"
  },
  {
   "metadata": {
    "ExecuteTime": {
     "end_time": "2025-06-04T04:43:33.713274Z",
     "start_time": "2025-06-04T04:43:33.607401Z"
    }
   },
   "cell_type": "code",
   "source": [
    "data = pd.Series([1, np.nan, 'hello', None])\n",
    "data"
   ],
   "id": "441fa5644ea3db3c",
   "outputs": [
    {
     "data": {
      "text/plain": [
       "0        1\n",
       "1      NaN\n",
       "2    hello\n",
       "3     None\n",
       "dtype: object"
      ]
     },
     "execution_count": 166,
     "metadata": {},
     "output_type": "execute_result"
    }
   ],
   "execution_count": 166
  },
  {
   "metadata": {
    "ExecuteTime": {
     "end_time": "2025-06-04T04:43:38.439615Z",
     "start_time": "2025-06-04T04:43:38.427681Z"
    }
   },
   "cell_type": "code",
   "source": "data.isnull()",
   "id": "6552abecf176265b",
   "outputs": [
    {
     "data": {
      "text/plain": [
       "0    False\n",
       "1     True\n",
       "2    False\n",
       "3     True\n",
       "dtype: bool"
      ]
     },
     "execution_count": 167,
     "metadata": {},
     "output_type": "execute_result"
    }
   ],
   "execution_count": 167
  },
  {
   "metadata": {
    "ExecuteTime": {
     "end_time": "2025-06-04T04:44:09.679321Z",
     "start_time": "2025-06-04T04:44:09.663425Z"
    }
   },
   "cell_type": "code",
   "source": [
    "# use as a mask\n",
    "data[data.notnull()]"
   ],
   "id": "aaf80713e061981c",
   "outputs": [
    {
     "data": {
      "text/plain": [
       "0        1\n",
       "2    hello\n",
       "dtype: object"
      ]
     },
     "execution_count": 168,
     "metadata": {},
     "output_type": "execute_result"
    }
   ],
   "execution_count": 168
  },
  {
   "metadata": {
    "ExecuteTime": {
     "end_time": "2025-06-04T04:44:19.799670Z",
     "start_time": "2025-06-04T04:44:19.788336Z"
    }
   },
   "cell_type": "code",
   "source": "data[data.isnull()]",
   "id": "78b9b027de2626d3",
   "outputs": [
    {
     "data": {
      "text/plain": [
       "1     NaN\n",
       "3    None\n",
       "dtype: object"
      ]
     },
     "execution_count": 169,
     "metadata": {},
     "output_type": "execute_result"
    }
   ],
   "execution_count": 169
  },
  {
   "metadata": {},
   "cell_type": "markdown",
   "source": "### Dropping null values",
   "id": "b34190b70b9e8980"
  },
  {
   "metadata": {
    "ExecuteTime": {
     "end_time": "2025-06-04T04:44:48.427072Z",
     "start_time": "2025-06-04T04:44:48.415640Z"
    }
   },
   "cell_type": "code",
   "source": "data.dropna()",
   "id": "1a820cb536e5b2a5",
   "outputs": [
    {
     "data": {
      "text/plain": [
       "0        1\n",
       "2    hello\n",
       "dtype: object"
      ]
     },
     "execution_count": 170,
     "metadata": {},
     "output_type": "execute_result"
    }
   ],
   "execution_count": 170
  },
  {
   "metadata": {
    "ExecuteTime": {
     "end_time": "2025-06-04T04:46:13.462927Z",
     "start_time": "2025-06-04T04:46:13.440794Z"
    }
   },
   "cell_type": "code",
   "source": [
    "df = pd.DataFrame([[1,      np.nan, 2],\n",
    "                   [2,      3,      5],\n",
    "                   [np.nan, 4,      6]])\n",
    "df"
   ],
   "id": "c41caa52e7d78755",
   "outputs": [
    {
     "data": {
      "text/plain": [
       "     0    1  2\n",
       "0  1.0  NaN  2\n",
       "1  2.0  3.0  5\n",
       "2  NaN  4.0  6"
      ],
      "text/html": [
       "<div>\n",
       "<style scoped>\n",
       "    .dataframe tbody tr th:only-of-type {\n",
       "        vertical-align: middle;\n",
       "    }\n",
       "\n",
       "    .dataframe tbody tr th {\n",
       "        vertical-align: top;\n",
       "    }\n",
       "\n",
       "    .dataframe thead th {\n",
       "        text-align: right;\n",
       "    }\n",
       "</style>\n",
       "<table border=\"1\" class=\"dataframe\">\n",
       "  <thead>\n",
       "    <tr style=\"text-align: right;\">\n",
       "      <th></th>\n",
       "      <th>0</th>\n",
       "      <th>1</th>\n",
       "      <th>2</th>\n",
       "    </tr>\n",
       "  </thead>\n",
       "  <tbody>\n",
       "    <tr>\n",
       "      <th>0</th>\n",
       "      <td>1.0</td>\n",
       "      <td>NaN</td>\n",
       "      <td>2</td>\n",
       "    </tr>\n",
       "    <tr>\n",
       "      <th>1</th>\n",
       "      <td>2.0</td>\n",
       "      <td>3.0</td>\n",
       "      <td>5</td>\n",
       "    </tr>\n",
       "    <tr>\n",
       "      <th>2</th>\n",
       "      <td>NaN</td>\n",
       "      <td>4.0</td>\n",
       "      <td>6</td>\n",
       "    </tr>\n",
       "  </tbody>\n",
       "</table>\n",
       "</div>"
      ]
     },
     "execution_count": 171,
     "metadata": {},
     "output_type": "execute_result"
    }
   ],
   "execution_count": 171
  },
  {
   "metadata": {
    "ExecuteTime": {
     "end_time": "2025-06-04T04:47:11.717458Z",
     "start_time": "2025-06-04T04:47:11.704405Z"
    }
   },
   "cell_type": "code",
   "source": [
    "# drop all rows by default\n",
    "df.dropna()"
   ],
   "id": "b1df4902cc6bbb7e",
   "outputs": [
    {
     "data": {
      "text/plain": [
       "     0    1  2\n",
       "1  2.0  3.0  5"
      ],
      "text/html": [
       "<div>\n",
       "<style scoped>\n",
       "    .dataframe tbody tr th:only-of-type {\n",
       "        vertical-align: middle;\n",
       "    }\n",
       "\n",
       "    .dataframe tbody tr th {\n",
       "        vertical-align: top;\n",
       "    }\n",
       "\n",
       "    .dataframe thead th {\n",
       "        text-align: right;\n",
       "    }\n",
       "</style>\n",
       "<table border=\"1\" class=\"dataframe\">\n",
       "  <thead>\n",
       "    <tr style=\"text-align: right;\">\n",
       "      <th></th>\n",
       "      <th>0</th>\n",
       "      <th>1</th>\n",
       "      <th>2</th>\n",
       "    </tr>\n",
       "  </thead>\n",
       "  <tbody>\n",
       "    <tr>\n",
       "      <th>1</th>\n",
       "      <td>2.0</td>\n",
       "      <td>3.0</td>\n",
       "      <td>5</td>\n",
       "    </tr>\n",
       "  </tbody>\n",
       "</table>\n",
       "</div>"
      ]
     },
     "execution_count": 173,
     "metadata": {},
     "output_type": "execute_result"
    }
   ],
   "execution_count": 173
  },
  {
   "metadata": {
    "ExecuteTime": {
     "end_time": "2025-06-04T04:47:48.858399Z",
     "start_time": "2025-06-04T04:47:48.836898Z"
    }
   },
   "cell_type": "code",
   "source": [
    "# drop all columns\n",
    "df.dropna(axis=1)"
   ],
   "id": "50b37e8a0090f0ee",
   "outputs": [
    {
     "data": {
      "text/plain": [
       "   2\n",
       "0  2\n",
       "1  5\n",
       "2  6"
      ],
      "text/html": [
       "<div>\n",
       "<style scoped>\n",
       "    .dataframe tbody tr th:only-of-type {\n",
       "        vertical-align: middle;\n",
       "    }\n",
       "\n",
       "    .dataframe tbody tr th {\n",
       "        vertical-align: top;\n",
       "    }\n",
       "\n",
       "    .dataframe thead th {\n",
       "        text-align: right;\n",
       "    }\n",
       "</style>\n",
       "<table border=\"1\" class=\"dataframe\">\n",
       "  <thead>\n",
       "    <tr style=\"text-align: right;\">\n",
       "      <th></th>\n",
       "      <th>2</th>\n",
       "    </tr>\n",
       "  </thead>\n",
       "  <tbody>\n",
       "    <tr>\n",
       "      <th>0</th>\n",
       "      <td>2</td>\n",
       "    </tr>\n",
       "    <tr>\n",
       "      <th>1</th>\n",
       "      <td>5</td>\n",
       "    </tr>\n",
       "    <tr>\n",
       "      <th>2</th>\n",
       "      <td>6</td>\n",
       "    </tr>\n",
       "  </tbody>\n",
       "</table>\n",
       "</div>"
      ]
     },
     "execution_count": 174,
     "metadata": {},
     "output_type": "execute_result"
    }
   ],
   "execution_count": 174
  },
  {
   "metadata": {},
   "cell_type": "markdown",
   "source": [
    "But this drops some good data as well; we might rather be interested in dropping rows or columns with *all* NA values, or a majority of NA values. This can be specified through the `how` and `thresh` parameters, which allow fine control of the number of nulls to allow through.\n",
    "\n",
    "The default is `how='any'`, such that any row or column (depending on the `axis` keyword) containing a null value will be dropped. `how='all'` will only drop rows/cols that are *all* null values:"
   ],
   "id": "f5b4eae6a78d24a6"
  },
  {
   "metadata": {
    "ExecuteTime": {
     "end_time": "2025-06-04T04:51:06.610635Z",
     "start_time": "2025-06-04T04:51:06.592126Z"
    }
   },
   "cell_type": "code",
   "source": [
    "df[3] = np.nan\n",
    "df"
   ],
   "id": "ba7753a9fcd0bc83",
   "outputs": [
    {
     "data": {
      "text/plain": [
       "     0    1  2   3\n",
       "0  1.0  NaN  2 NaN\n",
       "1  2.0  3.0  5 NaN\n",
       "2  NaN  4.0  6 NaN"
      ],
      "text/html": [
       "<div>\n",
       "<style scoped>\n",
       "    .dataframe tbody tr th:only-of-type {\n",
       "        vertical-align: middle;\n",
       "    }\n",
       "\n",
       "    .dataframe tbody tr th {\n",
       "        vertical-align: top;\n",
       "    }\n",
       "\n",
       "    .dataframe thead th {\n",
       "        text-align: right;\n",
       "    }\n",
       "</style>\n",
       "<table border=\"1\" class=\"dataframe\">\n",
       "  <thead>\n",
       "    <tr style=\"text-align: right;\">\n",
       "      <th></th>\n",
       "      <th>0</th>\n",
       "      <th>1</th>\n",
       "      <th>2</th>\n",
       "      <th>3</th>\n",
       "    </tr>\n",
       "  </thead>\n",
       "  <tbody>\n",
       "    <tr>\n",
       "      <th>0</th>\n",
       "      <td>1.0</td>\n",
       "      <td>NaN</td>\n",
       "      <td>2</td>\n",
       "      <td>NaN</td>\n",
       "    </tr>\n",
       "    <tr>\n",
       "      <th>1</th>\n",
       "      <td>2.0</td>\n",
       "      <td>3.0</td>\n",
       "      <td>5</td>\n",
       "      <td>NaN</td>\n",
       "    </tr>\n",
       "    <tr>\n",
       "      <th>2</th>\n",
       "      <td>NaN</td>\n",
       "      <td>4.0</td>\n",
       "      <td>6</td>\n",
       "      <td>NaN</td>\n",
       "    </tr>\n",
       "  </tbody>\n",
       "</table>\n",
       "</div>"
      ]
     },
     "execution_count": 175,
     "metadata": {},
     "output_type": "execute_result"
    }
   ],
   "execution_count": 175
  },
  {
   "metadata": {
    "ExecuteTime": {
     "end_time": "2025-06-04T04:51:27.947725Z",
     "start_time": "2025-06-04T04:51:27.931439Z"
    }
   },
   "cell_type": "code",
   "source": [
    "df.dropna(axis='columns',\n",
    "          how='all')"
   ],
   "id": "4636ceecae2b3170",
   "outputs": [
    {
     "data": {
      "text/plain": [
       "     0    1  2\n",
       "0  1.0  NaN  2\n",
       "1  2.0  3.0  5\n",
       "2  NaN  4.0  6"
      ],
      "text/html": [
       "<div>\n",
       "<style scoped>\n",
       "    .dataframe tbody tr th:only-of-type {\n",
       "        vertical-align: middle;\n",
       "    }\n",
       "\n",
       "    .dataframe tbody tr th {\n",
       "        vertical-align: top;\n",
       "    }\n",
       "\n",
       "    .dataframe thead th {\n",
       "        text-align: right;\n",
       "    }\n",
       "</style>\n",
       "<table border=\"1\" class=\"dataframe\">\n",
       "  <thead>\n",
       "    <tr style=\"text-align: right;\">\n",
       "      <th></th>\n",
       "      <th>0</th>\n",
       "      <th>1</th>\n",
       "      <th>2</th>\n",
       "    </tr>\n",
       "  </thead>\n",
       "  <tbody>\n",
       "    <tr>\n",
       "      <th>0</th>\n",
       "      <td>1.0</td>\n",
       "      <td>NaN</td>\n",
       "      <td>2</td>\n",
       "    </tr>\n",
       "    <tr>\n",
       "      <th>1</th>\n",
       "      <td>2.0</td>\n",
       "      <td>3.0</td>\n",
       "      <td>5</td>\n",
       "    </tr>\n",
       "    <tr>\n",
       "      <th>2</th>\n",
       "      <td>NaN</td>\n",
       "      <td>4.0</td>\n",
       "      <td>6</td>\n",
       "    </tr>\n",
       "  </tbody>\n",
       "</table>\n",
       "</div>"
      ]
     },
     "execution_count": 176,
     "metadata": {},
     "output_type": "execute_result"
    }
   ],
   "execution_count": 176
  },
  {
   "metadata": {},
   "cell_type": "markdown",
   "source": "the `thresh` parameter lets us specify a minimum number of non-null values for the row/col to be kept:",
   "id": "e0fc4fda1d28014f"
  },
  {
   "metadata": {
    "ExecuteTime": {
     "end_time": "2025-06-04T04:52:34.845082Z",
     "start_time": "2025-06-04T04:52:34.829758Z"
    }
   },
   "cell_type": "code",
   "source": [
    "df.dropna(axis='rows',\n",
    "          thresh=3)"
   ],
   "id": "a1073976ecb2189d",
   "outputs": [
    {
     "data": {
      "text/plain": [
       "     0    1  2   3\n",
       "1  2.0  3.0  5 NaN"
      ],
      "text/html": [
       "<div>\n",
       "<style scoped>\n",
       "    .dataframe tbody tr th:only-of-type {\n",
       "        vertical-align: middle;\n",
       "    }\n",
       "\n",
       "    .dataframe tbody tr th {\n",
       "        vertical-align: top;\n",
       "    }\n",
       "\n",
       "    .dataframe thead th {\n",
       "        text-align: right;\n",
       "    }\n",
       "</style>\n",
       "<table border=\"1\" class=\"dataframe\">\n",
       "  <thead>\n",
       "    <tr style=\"text-align: right;\">\n",
       "      <th></th>\n",
       "      <th>0</th>\n",
       "      <th>1</th>\n",
       "      <th>2</th>\n",
       "      <th>3</th>\n",
       "    </tr>\n",
       "  </thead>\n",
       "  <tbody>\n",
       "    <tr>\n",
       "      <th>1</th>\n",
       "      <td>2.0</td>\n",
       "      <td>3.0</td>\n",
       "      <td>5</td>\n",
       "      <td>NaN</td>\n",
       "    </tr>\n",
       "  </tbody>\n",
       "</table>\n",
       "</div>"
      ]
     },
     "execution_count": 179,
     "metadata": {},
     "output_type": "execute_result"
    }
   ],
   "execution_count": 179
  },
  {
   "metadata": {},
   "cell_type": "markdown",
   "source": "### Filling null values",
   "id": "3df1d5bfb480846"
  },
  {
   "metadata": {
    "ExecuteTime": {
     "end_time": "2025-06-04T04:53:57.997497Z",
     "start_time": "2025-06-04T04:53:57.982745Z"
    }
   },
   "cell_type": "code",
   "source": [
    "data = pd.Series([1, np.nan, 2, None, 3],\n",
    "                 index=list('abcde'))\n",
    "data"
   ],
   "id": "160fac8416b4577a",
   "outputs": [
    {
     "data": {
      "text/plain": [
       "a    1.0\n",
       "b    NaN\n",
       "c    2.0\n",
       "d    NaN\n",
       "e    3.0\n",
       "dtype: float64"
      ]
     },
     "execution_count": 180,
     "metadata": {},
     "output_type": "execute_result"
    }
   ],
   "execution_count": 180
  },
  {
   "metadata": {
    "ExecuteTime": {
     "end_time": "2025-06-04T04:54:17.895460Z",
     "start_time": "2025-06-04T04:54:17.863582Z"
    }
   },
   "cell_type": "code",
   "source": [
    "# Fill NA entries with 0\n",
    "data.fillna(0)"
   ],
   "id": "35531b3e24a85d31",
   "outputs": [
    {
     "data": {
      "text/plain": [
       "a    1.0\n",
       "b    0.0\n",
       "c    2.0\n",
       "d    0.0\n",
       "e    3.0\n",
       "dtype: float64"
      ]
     },
     "execution_count": 181,
     "metadata": {},
     "output_type": "execute_result"
    }
   ],
   "execution_count": 181
  },
  {
   "metadata": {
    "ExecuteTime": {
     "end_time": "2025-06-04T04:54:42.334855Z",
     "start_time": "2025-06-04T04:54:42.312377Z"
    }
   },
   "cell_type": "code",
   "source": [
    "# forward-fill\n",
    "data.fillna(method='ffill')"
   ],
   "id": "7bb2b4f595ecaaf8",
   "outputs": [
    {
     "name": "stderr",
     "output_type": "stream",
     "text": [
      "C:\\Users\\linho\\AppData\\Local\\Temp\\ipykernel_7968\\3777990566.py:2: FutureWarning: Series.fillna with 'method' is deprecated and will raise in a future version. Use obj.ffill() or obj.bfill() instead.\n",
      "  data.fillna(method='ffill')\n"
     ]
    },
    {
     "data": {
      "text/plain": [
       "a    1.0\n",
       "b    1.0\n",
       "c    2.0\n",
       "d    2.0\n",
       "e    3.0\n",
       "dtype: float64"
      ]
     },
     "execution_count": 182,
     "metadata": {},
     "output_type": "execute_result"
    }
   ],
   "execution_count": 182
  },
  {
   "metadata": {
    "ExecuteTime": {
     "end_time": "2025-06-04T04:55:50.912630Z",
     "start_time": "2025-06-04T04:55:50.901112Z"
    }
   },
   "cell_type": "code",
   "source": "data.ffill()",
   "id": "a3d3ef97658d41ca",
   "outputs": [
    {
     "data": {
      "text/plain": [
       "a    1.0\n",
       "b    1.0\n",
       "c    2.0\n",
       "d    2.0\n",
       "e    3.0\n",
       "dtype: float64"
      ]
     },
     "execution_count": 188,
     "metadata": {},
     "output_type": "execute_result"
    }
   ],
   "execution_count": 188
  },
  {
   "metadata": {
    "ExecuteTime": {
     "end_time": "2025-06-04T04:56:10.780221Z",
     "start_time": "2025-06-04T04:56:10.769430Z"
    }
   },
   "cell_type": "code",
   "source": "data.bfill()",
   "id": "af2f11eac9948fa6",
   "outputs": [
    {
     "data": {
      "text/plain": [
       "a    1.0\n",
       "b    2.0\n",
       "c    2.0\n",
       "d    3.0\n",
       "e    3.0\n",
       "dtype: float64"
      ]
     },
     "execution_count": 189,
     "metadata": {},
     "output_type": "execute_result"
    }
   ],
   "execution_count": 189
  },
  {
   "metadata": {
    "ExecuteTime": {
     "end_time": "2025-06-04T04:56:18.915346Z",
     "start_time": "2025-06-04T04:56:18.901660Z"
    }
   },
   "cell_type": "code",
   "source": "df",
   "id": "7a26d34b81b2cdcb",
   "outputs": [
    {
     "data": {
      "text/plain": [
       "     0    1  2   3\n",
       "0  1.0  NaN  2 NaN\n",
       "1  2.0  3.0  5 NaN\n",
       "2  NaN  4.0  6 NaN"
      ],
      "text/html": [
       "<div>\n",
       "<style scoped>\n",
       "    .dataframe tbody tr th:only-of-type {\n",
       "        vertical-align: middle;\n",
       "    }\n",
       "\n",
       "    .dataframe tbody tr th {\n",
       "        vertical-align: top;\n",
       "    }\n",
       "\n",
       "    .dataframe thead th {\n",
       "        text-align: right;\n",
       "    }\n",
       "</style>\n",
       "<table border=\"1\" class=\"dataframe\">\n",
       "  <thead>\n",
       "    <tr style=\"text-align: right;\">\n",
       "      <th></th>\n",
       "      <th>0</th>\n",
       "      <th>1</th>\n",
       "      <th>2</th>\n",
       "      <th>3</th>\n",
       "    </tr>\n",
       "  </thead>\n",
       "  <tbody>\n",
       "    <tr>\n",
       "      <th>0</th>\n",
       "      <td>1.0</td>\n",
       "      <td>NaN</td>\n",
       "      <td>2</td>\n",
       "      <td>NaN</td>\n",
       "    </tr>\n",
       "    <tr>\n",
       "      <th>1</th>\n",
       "      <td>2.0</td>\n",
       "      <td>3.0</td>\n",
       "      <td>5</td>\n",
       "      <td>NaN</td>\n",
       "    </tr>\n",
       "    <tr>\n",
       "      <th>2</th>\n",
       "      <td>NaN</td>\n",
       "      <td>4.0</td>\n",
       "      <td>6</td>\n",
       "      <td>NaN</td>\n",
       "    </tr>\n",
       "  </tbody>\n",
       "</table>\n",
       "</div>"
      ]
     },
     "execution_count": 190,
     "metadata": {},
     "output_type": "execute_result"
    }
   ],
   "execution_count": 190
  },
  {
   "metadata": {
    "ExecuteTime": {
     "end_time": "2025-06-04T04:56:39.813103Z",
     "start_time": "2025-06-04T04:56:39.799030Z"
    }
   },
   "cell_type": "code",
   "source": "df.fillna(value=0)",
   "id": "29cc8e001759cfab",
   "outputs": [
    {
     "data": {
      "text/plain": [
       "     0    1  2    3\n",
       "0  1.0  0.0  2  0.0\n",
       "1  2.0  3.0  5  0.0\n",
       "2  0.0  4.0  6  0.0"
      ],
      "text/html": [
       "<div>\n",
       "<style scoped>\n",
       "    .dataframe tbody tr th:only-of-type {\n",
       "        vertical-align: middle;\n",
       "    }\n",
       "\n",
       "    .dataframe tbody tr th {\n",
       "        vertical-align: top;\n",
       "    }\n",
       "\n",
       "    .dataframe thead th {\n",
       "        text-align: right;\n",
       "    }\n",
       "</style>\n",
       "<table border=\"1\" class=\"dataframe\">\n",
       "  <thead>\n",
       "    <tr style=\"text-align: right;\">\n",
       "      <th></th>\n",
       "      <th>0</th>\n",
       "      <th>1</th>\n",
       "      <th>2</th>\n",
       "      <th>3</th>\n",
       "    </tr>\n",
       "  </thead>\n",
       "  <tbody>\n",
       "    <tr>\n",
       "      <th>0</th>\n",
       "      <td>1.0</td>\n",
       "      <td>0.0</td>\n",
       "      <td>2</td>\n",
       "      <td>0.0</td>\n",
       "    </tr>\n",
       "    <tr>\n",
       "      <th>1</th>\n",
       "      <td>2.0</td>\n",
       "      <td>3.0</td>\n",
       "      <td>5</td>\n",
       "      <td>0.0</td>\n",
       "    </tr>\n",
       "    <tr>\n",
       "      <th>2</th>\n",
       "      <td>0.0</td>\n",
       "      <td>4.0</td>\n",
       "      <td>6</td>\n",
       "      <td>0.0</td>\n",
       "    </tr>\n",
       "  </tbody>\n",
       "</table>\n",
       "</div>"
      ]
     },
     "execution_count": 192,
     "metadata": {},
     "output_type": "execute_result"
    }
   ],
   "execution_count": 192
  },
  {
   "metadata": {
    "ExecuteTime": {
     "end_time": "2025-06-04T04:56:54.344640Z",
     "start_time": "2025-06-04T04:56:54.325794Z"
    }
   },
   "cell_type": "code",
   "source": "df.ffill(axis=1)",
   "id": "596517d4e9d2d639",
   "outputs": [
    {
     "data": {
      "text/plain": [
       "     0    1    2    3\n",
       "0  1.0  1.0  2.0  2.0\n",
       "1  2.0  3.0  5.0  5.0\n",
       "2  NaN  4.0  6.0  6.0"
      ],
      "text/html": [
       "<div>\n",
       "<style scoped>\n",
       "    .dataframe tbody tr th:only-of-type {\n",
       "        vertical-align: middle;\n",
       "    }\n",
       "\n",
       "    .dataframe tbody tr th {\n",
       "        vertical-align: top;\n",
       "    }\n",
       "\n",
       "    .dataframe thead th {\n",
       "        text-align: right;\n",
       "    }\n",
       "</style>\n",
       "<table border=\"1\" class=\"dataframe\">\n",
       "  <thead>\n",
       "    <tr style=\"text-align: right;\">\n",
       "      <th></th>\n",
       "      <th>0</th>\n",
       "      <th>1</th>\n",
       "      <th>2</th>\n",
       "      <th>3</th>\n",
       "    </tr>\n",
       "  </thead>\n",
       "  <tbody>\n",
       "    <tr>\n",
       "      <th>0</th>\n",
       "      <td>1.0</td>\n",
       "      <td>1.0</td>\n",
       "      <td>2.0</td>\n",
       "      <td>2.0</td>\n",
       "    </tr>\n",
       "    <tr>\n",
       "      <th>1</th>\n",
       "      <td>2.0</td>\n",
       "      <td>3.0</td>\n",
       "      <td>5.0</td>\n",
       "      <td>5.0</td>\n",
       "    </tr>\n",
       "    <tr>\n",
       "      <th>2</th>\n",
       "      <td>NaN</td>\n",
       "      <td>4.0</td>\n",
       "      <td>6.0</td>\n",
       "      <td>6.0</td>\n",
       "    </tr>\n",
       "  </tbody>\n",
       "</table>\n",
       "</div>"
      ]
     },
     "execution_count": 194,
     "metadata": {},
     "output_type": "execute_result"
    }
   ],
   "execution_count": 194
  },
  {
   "metadata": {
    "ExecuteTime": {
     "end_time": "2025-06-04T04:57:08.743228Z",
     "start_time": "2025-06-04T04:57:08.729405Z"
    }
   },
   "cell_type": "code",
   "source": "df.ffill(axis=0)",
   "id": "59e5b64a3bc01cbd",
   "outputs": [
    {
     "data": {
      "text/plain": [
       "     0    1  2   3\n",
       "0  1.0  NaN  2 NaN\n",
       "1  2.0  3.0  5 NaN\n",
       "2  2.0  4.0  6 NaN"
      ],
      "text/html": [
       "<div>\n",
       "<style scoped>\n",
       "    .dataframe tbody tr th:only-of-type {\n",
       "        vertical-align: middle;\n",
       "    }\n",
       "\n",
       "    .dataframe tbody tr th {\n",
       "        vertical-align: top;\n",
       "    }\n",
       "\n",
       "    .dataframe thead th {\n",
       "        text-align: right;\n",
       "    }\n",
       "</style>\n",
       "<table border=\"1\" class=\"dataframe\">\n",
       "  <thead>\n",
       "    <tr style=\"text-align: right;\">\n",
       "      <th></th>\n",
       "      <th>0</th>\n",
       "      <th>1</th>\n",
       "      <th>2</th>\n",
       "      <th>3</th>\n",
       "    </tr>\n",
       "  </thead>\n",
       "  <tbody>\n",
       "    <tr>\n",
       "      <th>0</th>\n",
       "      <td>1.0</td>\n",
       "      <td>NaN</td>\n",
       "      <td>2</td>\n",
       "      <td>NaN</td>\n",
       "    </tr>\n",
       "    <tr>\n",
       "      <th>1</th>\n",
       "      <td>2.0</td>\n",
       "      <td>3.0</td>\n",
       "      <td>5</td>\n",
       "      <td>NaN</td>\n",
       "    </tr>\n",
       "    <tr>\n",
       "      <th>2</th>\n",
       "      <td>2.0</td>\n",
       "      <td>4.0</td>\n",
       "      <td>6</td>\n",
       "      <td>NaN</td>\n",
       "    </tr>\n",
       "  </tbody>\n",
       "</table>\n",
       "</div>"
      ]
     },
     "execution_count": 195,
     "metadata": {},
     "output_type": "execute_result"
    }
   ],
   "execution_count": 195
  },
  {
   "metadata": {
    "ExecuteTime": {
     "end_time": "2025-06-04T04:58:32.612Z",
     "start_time": "2025-06-04T04:58:32.597633Z"
    }
   },
   "cell_type": "code",
   "source": "df.bfill(axis=1)",
   "id": "1c639e77224e32f5",
   "outputs": [
    {
     "data": {
      "text/plain": [
       "     0    1    2   3\n",
       "0  1.0  2.0  2.0 NaN\n",
       "1  2.0  3.0  5.0 NaN\n",
       "2  4.0  4.0  6.0 NaN"
      ],
      "text/html": [
       "<div>\n",
       "<style scoped>\n",
       "    .dataframe tbody tr th:only-of-type {\n",
       "        vertical-align: middle;\n",
       "    }\n",
       "\n",
       "    .dataframe tbody tr th {\n",
       "        vertical-align: top;\n",
       "    }\n",
       "\n",
       "    .dataframe thead th {\n",
       "        text-align: right;\n",
       "    }\n",
       "</style>\n",
       "<table border=\"1\" class=\"dataframe\">\n",
       "  <thead>\n",
       "    <tr style=\"text-align: right;\">\n",
       "      <th></th>\n",
       "      <th>0</th>\n",
       "      <th>1</th>\n",
       "      <th>2</th>\n",
       "      <th>3</th>\n",
       "    </tr>\n",
       "  </thead>\n",
       "  <tbody>\n",
       "    <tr>\n",
       "      <th>0</th>\n",
       "      <td>1.0</td>\n",
       "      <td>2.0</td>\n",
       "      <td>2.0</td>\n",
       "      <td>NaN</td>\n",
       "    </tr>\n",
       "    <tr>\n",
       "      <th>1</th>\n",
       "      <td>2.0</td>\n",
       "      <td>3.0</td>\n",
       "      <td>5.0</td>\n",
       "      <td>NaN</td>\n",
       "    </tr>\n",
       "    <tr>\n",
       "      <th>2</th>\n",
       "      <td>4.0</td>\n",
       "      <td>4.0</td>\n",
       "      <td>6.0</td>\n",
       "      <td>NaN</td>\n",
       "    </tr>\n",
       "  </tbody>\n",
       "</table>\n",
       "</div>"
      ]
     },
     "execution_count": 197,
     "metadata": {},
     "output_type": "execute_result"
    }
   ],
   "execution_count": 197
  },
  {
   "metadata": {
    "ExecuteTime": {
     "end_time": "2025-06-04T04:58:41.291385Z",
     "start_time": "2025-06-04T04:58:41.277978Z"
    }
   },
   "cell_type": "code",
   "source": "df.bfill(axis=0)",
   "id": "7b86d4964c5e343e",
   "outputs": [
    {
     "data": {
      "text/plain": [
       "     0    1  2   3\n",
       "0  1.0  3.0  2 NaN\n",
       "1  2.0  3.0  5 NaN\n",
       "2  NaN  4.0  6 NaN"
      ],
      "text/html": [
       "<div>\n",
       "<style scoped>\n",
       "    .dataframe tbody tr th:only-of-type {\n",
       "        vertical-align: middle;\n",
       "    }\n",
       "\n",
       "    .dataframe tbody tr th {\n",
       "        vertical-align: top;\n",
       "    }\n",
       "\n",
       "    .dataframe thead th {\n",
       "        text-align: right;\n",
       "    }\n",
       "</style>\n",
       "<table border=\"1\" class=\"dataframe\">\n",
       "  <thead>\n",
       "    <tr style=\"text-align: right;\">\n",
       "      <th></th>\n",
       "      <th>0</th>\n",
       "      <th>1</th>\n",
       "      <th>2</th>\n",
       "      <th>3</th>\n",
       "    </tr>\n",
       "  </thead>\n",
       "  <tbody>\n",
       "    <tr>\n",
       "      <th>0</th>\n",
       "      <td>1.0</td>\n",
       "      <td>3.0</td>\n",
       "      <td>2</td>\n",
       "      <td>NaN</td>\n",
       "    </tr>\n",
       "    <tr>\n",
       "      <th>1</th>\n",
       "      <td>2.0</td>\n",
       "      <td>3.0</td>\n",
       "      <td>5</td>\n",
       "      <td>NaN</td>\n",
       "    </tr>\n",
       "    <tr>\n",
       "      <th>2</th>\n",
       "      <td>NaN</td>\n",
       "      <td>4.0</td>\n",
       "      <td>6</td>\n",
       "      <td>NaN</td>\n",
       "    </tr>\n",
       "  </tbody>\n",
       "</table>\n",
       "</div>"
      ]
     },
     "execution_count": 198,
     "metadata": {},
     "output_type": "execute_result"
    }
   ],
   "execution_count": 198
  },
  {
   "metadata": {},
   "cell_type": "markdown",
   "source": "# Hierarchical Indexing",
   "id": "8c82409e056eb651"
  },
  {
   "metadata": {},
   "cell_type": "markdown",
   "source": "## A Multiply Indexed Series",
   "id": "96bf63eb0542d327"
  },
  {
   "metadata": {},
   "cell_type": "markdown",
   "source": "### The bad way",
   "id": "16b75535770b62ec"
  },
  {
   "metadata": {
    "ExecuteTime": {
     "end_time": "2025-06-04T05:01:06.883914Z",
     "start_time": "2025-06-04T05:01:06.870227Z"
    }
   },
   "cell_type": "code",
   "source": [
    "index = [('California', 2000), ('California', 2010),\n",
    "         ('New York', 2000), ('New York', 2010),\n",
    "         ('Texas', 2000), ('Texas', 2010)]\n",
    "populations = [33871648, 37253956,\n",
    "               18976457, 19378102,\n",
    "               20851820, 25145561]\n",
    "pop = pd.Series(populations, index=index)\n",
    "pop"
   ],
   "id": "bc89ec83df7b8cdb",
   "outputs": [
    {
     "data": {
      "text/plain": [
       "(California, 2000)    33871648\n",
       "(California, 2010)    37253956\n",
       "(New York, 2000)      18976457\n",
       "(New York, 2010)      19378102\n",
       "(Texas, 2000)         20851820\n",
       "(Texas, 2010)         25145561\n",
       "dtype: int64"
      ]
     },
     "execution_count": 199,
     "metadata": {},
     "output_type": "execute_result"
    }
   ],
   "execution_count": 199
  },
  {
   "metadata": {
    "ExecuteTime": {
     "end_time": "2025-06-04T05:01:51.266702Z",
     "start_time": "2025-06-04T05:01:51.253974Z"
    }
   },
   "cell_type": "code",
   "source": "pop[('California', 2010):('Texas', 2000)]",
   "id": "ebc2880ac4137a6a",
   "outputs": [
    {
     "data": {
      "text/plain": [
       "(California, 2010)    37253956\n",
       "(New York, 2000)      18976457\n",
       "(New York, 2010)      19378102\n",
       "(Texas, 2000)         20851820\n",
       "dtype: int64"
      ]
     },
     "execution_count": 200,
     "metadata": {},
     "output_type": "execute_result"
    }
   ],
   "execution_count": 200
  },
  {
   "metadata": {
    "ExecuteTime": {
     "end_time": "2025-06-04T05:02:04.589683Z",
     "start_time": "2025-06-04T05:02:04.573674Z"
    }
   },
   "cell_type": "code",
   "source": "pop[[i for i in pop.index if i[1] == 2010]]",
   "id": "10d91dc118b84c08",
   "outputs": [
    {
     "data": {
      "text/plain": [
       "(California, 2010)    37253956\n",
       "(New York, 2010)      19378102\n",
       "(Texas, 2010)         25145561\n",
       "dtype: int64"
      ]
     },
     "execution_count": 201,
     "metadata": {},
     "output_type": "execute_result"
    }
   ],
   "execution_count": 201
  },
  {
   "metadata": {},
   "cell_type": "markdown",
   "source": "### The Better Way: Pandas MultiIndex",
   "id": "96037a34c0d41152"
  },
  {
   "metadata": {
    "ExecuteTime": {
     "end_time": "2025-06-04T05:03:14.691497Z",
     "start_time": "2025-06-04T05:03:14.673530Z"
    }
   },
   "cell_type": "code",
   "source": [
    "# Create a multi-index from the tuples\n",
    "index = pd.MultiIndex.from_tuples(index)\n",
    "index"
   ],
   "id": "855f098f38ad22ab",
   "outputs": [
    {
     "data": {
      "text/plain": [
       "MultiIndex([('California', 2000),\n",
       "            ('California', 2010),\n",
       "            (  'New York', 2000),\n",
       "            (  'New York', 2010),\n",
       "            (     'Texas', 2000),\n",
       "            (     'Texas', 2010)],\n",
       "           )"
      ]
     },
     "execution_count": 203,
     "metadata": {},
     "output_type": "execute_result"
    }
   ],
   "execution_count": 203
  },
  {
   "metadata": {
    "ExecuteTime": {
     "end_time": "2025-06-04T05:04:20.026203Z",
     "start_time": "2025-06-04T05:04:20.011768Z"
    }
   },
   "cell_type": "code",
   "source": [
    "pop = pop.reindex(index)\n",
    "pop"
   ],
   "id": "d0b3dcf89f2a2556",
   "outputs": [
    {
     "data": {
      "text/plain": [
       "California  2000    33871648\n",
       "            2010    37253956\n",
       "New York    2000    18976457\n",
       "            2010    19378102\n",
       "Texas       2000    20851820\n",
       "            2010    25145561\n",
       "dtype: int64"
      ]
     },
     "execution_count": 204,
     "metadata": {},
     "output_type": "execute_result"
    }
   ],
   "execution_count": 204
  },
  {
   "metadata": {
    "ExecuteTime": {
     "end_time": "2025-06-04T05:06:37.069469Z",
     "start_time": "2025-06-04T05:06:37.046935Z"
    }
   },
   "cell_type": "code",
   "source": "pop[:, 2010]",
   "id": "387c63a7609487f0",
   "outputs": [
    {
     "data": {
      "text/plain": [
       "California    37253956\n",
       "New York      19378102\n",
       "Texas         25145561\n",
       "dtype: int64"
      ]
     },
     "execution_count": 205,
     "metadata": {},
     "output_type": "execute_result"
    }
   ],
   "execution_count": 205
  },
  {
   "metadata": {
    "ExecuteTime": {
     "end_time": "2025-06-04T05:07:28.738010Z",
     "start_time": "2025-06-04T05:07:28.726061Z"
    }
   },
   "cell_type": "code",
   "source": "pop['Texas', :]",
   "id": "a323f1abeb95ed89",
   "outputs": [
    {
     "data": {
      "text/plain": [
       "2000    20851820\n",
       "2010    25145561\n",
       "dtype: int64"
      ]
     },
     "execution_count": 206,
     "metadata": {},
     "output_type": "execute_result"
    }
   ],
   "execution_count": 206
  },
  {
   "metadata": {},
   "cell_type": "markdown",
   "source": [
    "### MultiIndex as extra dimension\n",
    "\n",
    "`unstack()` method converts a multiply indexed Series into an indexed DataFrame"
   ],
   "id": "719541fe37beea4f"
  },
  {
   "metadata": {
    "ExecuteTime": {
     "end_time": "2025-06-04T05:09:38.538753Z",
     "start_time": "2025-06-04T05:09:38.528298Z"
    }
   },
   "cell_type": "code",
   "source": "pop_df = pop.unstack()",
   "id": "c8fe595f575c3e20",
   "outputs": [],
   "execution_count": 208
  },
  {
   "metadata": {
    "ExecuteTime": {
     "end_time": "2025-06-04T05:09:42.552911Z",
     "start_time": "2025-06-04T05:09:42.541527Z"
    }
   },
   "cell_type": "code",
   "source": "pop_df",
   "id": "9f8fc5307d9ea029",
   "outputs": [
    {
     "data": {
      "text/plain": [
       "                2000      2010\n",
       "California  33871648  37253956\n",
       "New York    18976457  19378102\n",
       "Texas       20851820  25145561"
      ],
      "text/html": [
       "<div>\n",
       "<style scoped>\n",
       "    .dataframe tbody tr th:only-of-type {\n",
       "        vertical-align: middle;\n",
       "    }\n",
       "\n",
       "    .dataframe tbody tr th {\n",
       "        vertical-align: top;\n",
       "    }\n",
       "\n",
       "    .dataframe thead th {\n",
       "        text-align: right;\n",
       "    }\n",
       "</style>\n",
       "<table border=\"1\" class=\"dataframe\">\n",
       "  <thead>\n",
       "    <tr style=\"text-align: right;\">\n",
       "      <th></th>\n",
       "      <th>2000</th>\n",
       "      <th>2010</th>\n",
       "    </tr>\n",
       "  </thead>\n",
       "  <tbody>\n",
       "    <tr>\n",
       "      <th>California</th>\n",
       "      <td>33871648</td>\n",
       "      <td>37253956</td>\n",
       "    </tr>\n",
       "    <tr>\n",
       "      <th>New York</th>\n",
       "      <td>18976457</td>\n",
       "      <td>19378102</td>\n",
       "    </tr>\n",
       "    <tr>\n",
       "      <th>Texas</th>\n",
       "      <td>20851820</td>\n",
       "      <td>25145561</td>\n",
       "    </tr>\n",
       "  </tbody>\n",
       "</table>\n",
       "</div>"
      ]
     },
     "execution_count": 209,
     "metadata": {},
     "output_type": "execute_result"
    }
   ],
   "execution_count": 209
  },
  {
   "metadata": {
    "ExecuteTime": {
     "end_time": "2025-06-04T05:10:10.700526Z",
     "start_time": "2025-06-04T05:10:10.688976Z"
    }
   },
   "cell_type": "code",
   "source": "pop_df.stack()",
   "id": "6d9f90f73124e24e",
   "outputs": [
    {
     "data": {
      "text/plain": [
       "California  2000    33871648\n",
       "            2010    37253956\n",
       "New York    2000    18976457\n",
       "            2010    19378102\n",
       "Texas       2000    20851820\n",
       "            2010    25145561\n",
       "dtype: int64"
      ]
     },
     "execution_count": 210,
     "metadata": {},
     "output_type": "execute_result"
    }
   ],
   "execution_count": 210
  },
  {
   "metadata": {
    "ExecuteTime": {
     "end_time": "2025-06-04T05:13:11.045847Z",
     "start_time": "2025-06-04T05:13:11.030891Z"
    }
   },
   "cell_type": "code",
   "source": [
    "# Add another column of demographic data for each state at each year\n",
    "pop_df = pd.DataFrame({'total': pop,\n",
    "                       'under18': [9267089, 9284094,\n",
    "                                   4687374, 4318033,\n",
    "                                   5906301, 6879014]})\n",
    "pop_df"
   ],
   "id": "fd14a1d0b519e6c5",
   "outputs": [
    {
     "data": {
      "text/plain": [
       "                    total  under18\n",
       "California 2000  33871648  9267089\n",
       "           2010  37253956  9284094\n",
       "New York   2000  18976457  4687374\n",
       "           2010  19378102  4318033\n",
       "Texas      2000  20851820  5906301\n",
       "           2010  25145561  6879014"
      ],
      "text/html": [
       "<div>\n",
       "<style scoped>\n",
       "    .dataframe tbody tr th:only-of-type {\n",
       "        vertical-align: middle;\n",
       "    }\n",
       "\n",
       "    .dataframe tbody tr th {\n",
       "        vertical-align: top;\n",
       "    }\n",
       "\n",
       "    .dataframe thead th {\n",
       "        text-align: right;\n",
       "    }\n",
       "</style>\n",
       "<table border=\"1\" class=\"dataframe\">\n",
       "  <thead>\n",
       "    <tr style=\"text-align: right;\">\n",
       "      <th></th>\n",
       "      <th></th>\n",
       "      <th>total</th>\n",
       "      <th>under18</th>\n",
       "    </tr>\n",
       "  </thead>\n",
       "  <tbody>\n",
       "    <tr>\n",
       "      <th rowspan=\"2\" valign=\"top\">California</th>\n",
       "      <th>2000</th>\n",
       "      <td>33871648</td>\n",
       "      <td>9267089</td>\n",
       "    </tr>\n",
       "    <tr>\n",
       "      <th>2010</th>\n",
       "      <td>37253956</td>\n",
       "      <td>9284094</td>\n",
       "    </tr>\n",
       "    <tr>\n",
       "      <th rowspan=\"2\" valign=\"top\">New York</th>\n",
       "      <th>2000</th>\n",
       "      <td>18976457</td>\n",
       "      <td>4687374</td>\n",
       "    </tr>\n",
       "    <tr>\n",
       "      <th>2010</th>\n",
       "      <td>19378102</td>\n",
       "      <td>4318033</td>\n",
       "    </tr>\n",
       "    <tr>\n",
       "      <th rowspan=\"2\" valign=\"top\">Texas</th>\n",
       "      <th>2000</th>\n",
       "      <td>20851820</td>\n",
       "      <td>5906301</td>\n",
       "    </tr>\n",
       "    <tr>\n",
       "      <th>2010</th>\n",
       "      <td>25145561</td>\n",
       "      <td>6879014</td>\n",
       "    </tr>\n",
       "  </tbody>\n",
       "</table>\n",
       "</div>"
      ]
     },
     "execution_count": 211,
     "metadata": {},
     "output_type": "execute_result"
    }
   ],
   "execution_count": 211
  },
  {
   "metadata": {
    "ExecuteTime": {
     "end_time": "2025-06-04T05:14:01.779093Z",
     "start_time": "2025-06-04T05:14:01.764973Z"
    }
   },
   "cell_type": "code",
   "source": [
    "f_u18 = pop_df['under18'] / pop_df['total']\n",
    "f_u18.unstack()"
   ],
   "id": "2e5ba5163d0da74e",
   "outputs": [
    {
     "data": {
      "text/plain": [
       "                2000      2010\n",
       "California  0.273594  0.249211\n",
       "New York    0.247010  0.222831\n",
       "Texas       0.283251  0.273568"
      ],
      "text/html": [
       "<div>\n",
       "<style scoped>\n",
       "    .dataframe tbody tr th:only-of-type {\n",
       "        vertical-align: middle;\n",
       "    }\n",
       "\n",
       "    .dataframe tbody tr th {\n",
       "        vertical-align: top;\n",
       "    }\n",
       "\n",
       "    .dataframe thead th {\n",
       "        text-align: right;\n",
       "    }\n",
       "</style>\n",
       "<table border=\"1\" class=\"dataframe\">\n",
       "  <thead>\n",
       "    <tr style=\"text-align: right;\">\n",
       "      <th></th>\n",
       "      <th>2000</th>\n",
       "      <th>2010</th>\n",
       "    </tr>\n",
       "  </thead>\n",
       "  <tbody>\n",
       "    <tr>\n",
       "      <th>California</th>\n",
       "      <td>0.273594</td>\n",
       "      <td>0.249211</td>\n",
       "    </tr>\n",
       "    <tr>\n",
       "      <th>New York</th>\n",
       "      <td>0.247010</td>\n",
       "      <td>0.222831</td>\n",
       "    </tr>\n",
       "    <tr>\n",
       "      <th>Texas</th>\n",
       "      <td>0.283251</td>\n",
       "      <td>0.273568</td>\n",
       "    </tr>\n",
       "  </tbody>\n",
       "</table>\n",
       "</div>"
      ]
     },
     "execution_count": 212,
     "metadata": {},
     "output_type": "execute_result"
    }
   ],
   "execution_count": 212
  },
  {
   "metadata": {},
   "cell_type": "markdown",
   "source": "## Methods of MultiIndex Creation",
   "id": "8dcfbfe917c0cd5f"
  },
  {
   "metadata": {
    "ExecuteTime": {
     "end_time": "2025-06-04T05:16:42.497226Z",
     "start_time": "2025-06-04T05:16:42.473343Z"
    }
   },
   "cell_type": "code",
   "source": [
    "df = pd.DataFrame(np.random.rand(4, 2),\n",
    "                  index=[['a', 'a', 'b', 'b'], [1, 2, 1, 2]],\n",
    "                  columns=['data1', 'data2'])\n",
    "df"
   ],
   "id": "ac575d16c1e257ef",
   "outputs": [
    {
     "data": {
      "text/plain": [
       "        data1     data2\n",
       "a 1  0.017396  0.407394\n",
       "  2  0.494459  0.634922\n",
       "b 1  0.070914  0.954877\n",
       "  2  0.856585  0.434918"
      ],
      "text/html": [
       "<div>\n",
       "<style scoped>\n",
       "    .dataframe tbody tr th:only-of-type {\n",
       "        vertical-align: middle;\n",
       "    }\n",
       "\n",
       "    .dataframe tbody tr th {\n",
       "        vertical-align: top;\n",
       "    }\n",
       "\n",
       "    .dataframe thead th {\n",
       "        text-align: right;\n",
       "    }\n",
       "</style>\n",
       "<table border=\"1\" class=\"dataframe\">\n",
       "  <thead>\n",
       "    <tr style=\"text-align: right;\">\n",
       "      <th></th>\n",
       "      <th></th>\n",
       "      <th>data1</th>\n",
       "      <th>data2</th>\n",
       "    </tr>\n",
       "  </thead>\n",
       "  <tbody>\n",
       "    <tr>\n",
       "      <th rowspan=\"2\" valign=\"top\">a</th>\n",
       "      <th>1</th>\n",
       "      <td>0.017396</td>\n",
       "      <td>0.407394</td>\n",
       "    </tr>\n",
       "    <tr>\n",
       "      <th>2</th>\n",
       "      <td>0.494459</td>\n",
       "      <td>0.634922</td>\n",
       "    </tr>\n",
       "    <tr>\n",
       "      <th rowspan=\"2\" valign=\"top\">b</th>\n",
       "      <th>1</th>\n",
       "      <td>0.070914</td>\n",
       "      <td>0.954877</td>\n",
       "    </tr>\n",
       "    <tr>\n",
       "      <th>2</th>\n",
       "      <td>0.856585</td>\n",
       "      <td>0.434918</td>\n",
       "    </tr>\n",
       "  </tbody>\n",
       "</table>\n",
       "</div>"
      ]
     },
     "execution_count": 213,
     "metadata": {},
     "output_type": "execute_result"
    }
   ],
   "execution_count": 213
  },
  {
   "metadata": {},
   "cell_type": "markdown",
   "source": "If we pass a dictionary with appropriate tuples as keys, Pandas will automatically recognize this and use `MultiIndex` by default:",
   "id": "eddbf085cb9d4dea"
  },
  {
   "metadata": {
    "ExecuteTime": {
     "end_time": "2025-06-04T05:18:29.096599Z",
     "start_time": "2025-06-04T05:18:29.090395Z"
    }
   },
   "cell_type": "code",
   "source": [
    "data = {('California', 2000): 33871648,\n",
    "        ('California', 2010): 37253956,\n",
    "        ('Texas', 2000): 20851820,\n",
    "        ('Texas', 2010): 25145561,\n",
    "        ('New York', 2000): 18976457,\n",
    "        ('New York', 2010): 19378102}\n",
    "\n",
    "pd.Series(data)"
   ],
   "id": "ba8926b2e4110d86",
   "outputs": [
    {
     "data": {
      "text/plain": [
       "California  2000    33871648\n",
       "            2010    37253956\n",
       "Texas       2000    20851820\n",
       "            2010    25145561\n",
       "New York    2000    18976457\n",
       "            2010    19378102\n",
       "dtype: int64"
      ]
     },
     "execution_count": 214,
     "metadata": {},
     "output_type": "execute_result"
    }
   ],
   "execution_count": 214
  },
  {
   "metadata": {},
   "cell_type": "markdown",
   "source": [
    "## Explicit MultiIndex constructors\n",
    "\n",
    "\n"
   ],
   "id": "71f06933446b32a4"
  },
  {
   "metadata": {
    "ExecuteTime": {
     "end_time": "2025-06-04T05:20:36.958147Z",
     "start_time": "2025-06-04T05:20:36.953308Z"
    }
   },
   "cell_type": "code",
   "source": [
    "# from a simple list of arrays giving the index values within each level\n",
    "pd.MultiIndex.from_arrays([['a', 'a', 'b', 'b'],\n",
    "                           [1, 2, 1, 2]])"
   ],
   "id": "98f5b81d9cf9a1b",
   "outputs": [
    {
     "data": {
      "text/plain": [
       "MultiIndex([('a', 1),\n",
       "            ('a', 2),\n",
       "            ('b', 1),\n",
       "            ('b', 2)],\n",
       "           )"
      ]
     },
     "execution_count": 215,
     "metadata": {},
     "output_type": "execute_result"
    }
   ],
   "execution_count": 215
  },
  {
   "metadata": {
    "ExecuteTime": {
     "end_time": "2025-06-04T05:21:27.840857Z",
     "start_time": "2025-06-04T05:21:27.835381Z"
    }
   },
   "cell_type": "code",
   "source": [
    "# from a list of tuples giving the mutiple index values of each point\n",
    "pd.MultiIndex.from_tuples([('a', 1),\n",
    "                           ('a', 2),\n",
    "                           ('b', 1),\n",
    "                           ('b', 2)])"
   ],
   "id": "2c0ddbb8ff838ac3",
   "outputs": [
    {
     "data": {
      "text/plain": [
       "MultiIndex([('a', 1),\n",
       "            ('a', 2),\n",
       "            ('b', 1),\n",
       "            ('b', 2)],\n",
       "           )"
      ]
     },
     "execution_count": 216,
     "metadata": {},
     "output_type": "execute_result"
    }
   ],
   "execution_count": 216
  },
  {
   "metadata": {
    "ExecuteTime": {
     "end_time": "2025-06-04T05:22:33.155514Z",
     "start_time": "2025-06-04T05:22:33.136731Z"
    }
   },
   "cell_type": "code",
   "source": [
    "# from a Cartesian product of single indices\n",
    "pd.MultiIndex.from_product([['a', 'b'], [1, 2]])"
   ],
   "id": "110c518c02f3e98e",
   "outputs": [
    {
     "data": {
      "text/plain": [
       "MultiIndex([('a', 1),\n",
       "            ('a', 2),\n",
       "            ('b', 1),\n",
       "            ('b', 2)],\n",
       "           )"
      ]
     },
     "execution_count": 218,
     "metadata": {},
     "output_type": "execute_result"
    }
   ],
   "execution_count": 218
  },
  {
   "metadata": {
    "ExecuteTime": {
     "end_time": "2025-06-04T05:25:23.717102Z",
     "start_time": "2025-06-04T05:25:23.712157Z"
    }
   },
   "cell_type": "code",
   "source": [
    "# using its internal encoding by passing levels and codes\n",
    "pd.MultiIndex(levels=[['a', 'b'], [1, 2]],\n",
    "              codes=[[0, 0, 1, 1], [0, 1, 0, 1]])"
   ],
   "id": "c0c20a678be8476",
   "outputs": [
    {
     "data": {
      "text/plain": [
       "MultiIndex([('a', 1),\n",
       "            ('a', 2),\n",
       "            ('b', 1),\n",
       "            ('b', 2)],\n",
       "           )"
      ]
     },
     "execution_count": 221,
     "metadata": {},
     "output_type": "execute_result"
    }
   ],
   "execution_count": 221
  },
  {
   "metadata": {},
   "cell_type": "markdown",
   "source": "### MultiIndex level names",
   "id": "4f1571c7b63bc2f8"
  },
  {
   "metadata": {
    "ExecuteTime": {
     "end_time": "2025-06-04T05:29:22.883614Z",
     "start_time": "2025-06-04T05:29:22.878645Z"
    }
   },
   "cell_type": "code",
   "source": [
    "# setting names for indices\n",
    "pop.index.names = ['state', 'year']\n",
    "pop"
   ],
   "id": "28ef8a8962bbc33c",
   "outputs": [
    {
     "data": {
      "text/plain": [
       "state       year\n",
       "California  2000    33871648\n",
       "            2010    37253956\n",
       "New York    2000    18976457\n",
       "            2010    19378102\n",
       "Texas       2000    20851820\n",
       "            2010    25145561\n",
       "dtype: int64"
      ]
     },
     "execution_count": 225,
     "metadata": {},
     "output_type": "execute_result"
    }
   ],
   "execution_count": 225
  },
  {
   "metadata": {},
   "cell_type": "markdown",
   "source": [
    "### MultiIndex for columns\n",
    "\n",
    "In a DataFrame, the rows and columns are completely symetric, as just as the rows can have multiple levels of indices, the columns can have multiple levels as well."
   ],
   "id": "f1c5aaf2b5f4d57f"
  },
  {
   "metadata": {
    "ExecuteTime": {
     "end_time": "2025-06-04T05:35:37.720599Z",
     "start_time": "2025-06-04T05:35:37.704020Z"
    }
   },
   "cell_type": "code",
   "source": [
    "# hierarchical indices and columns\n",
    "index = pd.MultiIndex.from_product([[2013, 2014], [1, 2]],\n",
    "                                   names=['year', 'visit'])\n",
    "columns = pd.MultiIndex.from_product([['Bob', 'Guido', 'Sue'], ['HR', 'Temp']],\n",
    "                                     names=['subject', 'type'])\n",
    "\n",
    "# mock some data\n",
    "data = np.round(np.random.randn(4, 6), 1)\n",
    "data[:, ::2] *= 10\n",
    "data += 37\n",
    "\n",
    "# create DataFrame\n",
    "health_data = pd.DataFrame(data, index=index, columns=columns)\n",
    "health_data"
   ],
   "id": "d4497cb07d269b4b",
   "outputs": [
    {
     "data": {
      "text/plain": [
       "subject      Bob       Guido         Sue      \n",
       "type          HR  Temp    HR  Temp    HR  Temp\n",
       "year visit                                    \n",
       "2013 1      37.0  34.4  40.0  37.8  27.0  36.7\n",
       "     2      41.0  35.2  36.0  36.9  18.0  37.4\n",
       "2014 1      51.0  36.5  44.0  36.0  39.0  35.8\n",
       "     2      57.0  35.6  29.0  38.7  39.0  36.3"
      ],
      "text/html": [
       "<div>\n",
       "<style scoped>\n",
       "    .dataframe tbody tr th:only-of-type {\n",
       "        vertical-align: middle;\n",
       "    }\n",
       "\n",
       "    .dataframe tbody tr th {\n",
       "        vertical-align: top;\n",
       "    }\n",
       "\n",
       "    .dataframe thead tr th {\n",
       "        text-align: left;\n",
       "    }\n",
       "\n",
       "    .dataframe thead tr:last-of-type th {\n",
       "        text-align: right;\n",
       "    }\n",
       "</style>\n",
       "<table border=\"1\" class=\"dataframe\">\n",
       "  <thead>\n",
       "    <tr>\n",
       "      <th></th>\n",
       "      <th>subject</th>\n",
       "      <th colspan=\"2\" halign=\"left\">Bob</th>\n",
       "      <th colspan=\"2\" halign=\"left\">Guido</th>\n",
       "      <th colspan=\"2\" halign=\"left\">Sue</th>\n",
       "    </tr>\n",
       "    <tr>\n",
       "      <th></th>\n",
       "      <th>type</th>\n",
       "      <th>HR</th>\n",
       "      <th>Temp</th>\n",
       "      <th>HR</th>\n",
       "      <th>Temp</th>\n",
       "      <th>HR</th>\n",
       "      <th>Temp</th>\n",
       "    </tr>\n",
       "    <tr>\n",
       "      <th>year</th>\n",
       "      <th>visit</th>\n",
       "      <th></th>\n",
       "      <th></th>\n",
       "      <th></th>\n",
       "      <th></th>\n",
       "      <th></th>\n",
       "      <th></th>\n",
       "    </tr>\n",
       "  </thead>\n",
       "  <tbody>\n",
       "    <tr>\n",
       "      <th rowspan=\"2\" valign=\"top\">2013</th>\n",
       "      <th>1</th>\n",
       "      <td>37.0</td>\n",
       "      <td>34.4</td>\n",
       "      <td>40.0</td>\n",
       "      <td>37.8</td>\n",
       "      <td>27.0</td>\n",
       "      <td>36.7</td>\n",
       "    </tr>\n",
       "    <tr>\n",
       "      <th>2</th>\n",
       "      <td>41.0</td>\n",
       "      <td>35.2</td>\n",
       "      <td>36.0</td>\n",
       "      <td>36.9</td>\n",
       "      <td>18.0</td>\n",
       "      <td>37.4</td>\n",
       "    </tr>\n",
       "    <tr>\n",
       "      <th rowspan=\"2\" valign=\"top\">2014</th>\n",
       "      <th>1</th>\n",
       "      <td>51.0</td>\n",
       "      <td>36.5</td>\n",
       "      <td>44.0</td>\n",
       "      <td>36.0</td>\n",
       "      <td>39.0</td>\n",
       "      <td>35.8</td>\n",
       "    </tr>\n",
       "    <tr>\n",
       "      <th>2</th>\n",
       "      <td>57.0</td>\n",
       "      <td>35.6</td>\n",
       "      <td>29.0</td>\n",
       "      <td>38.7</td>\n",
       "      <td>39.0</td>\n",
       "      <td>36.3</td>\n",
       "    </tr>\n",
       "  </tbody>\n",
       "</table>\n",
       "</div>"
      ]
     },
     "execution_count": 227,
     "metadata": {},
     "output_type": "execute_result"
    }
   ],
   "execution_count": 227
  },
  {
   "metadata": {
    "ExecuteTime": {
     "end_time": "2025-06-04T05:37:31.414341Z",
     "start_time": "2025-06-04T05:37:31.404950Z"
    }
   },
   "cell_type": "code",
   "source": "health_data['Guido']",
   "id": "4fd20d6475015b4f",
   "outputs": [
    {
     "data": {
      "text/plain": [
       "type          HR  Temp\n",
       "year visit            \n",
       "2013 1      40.0  37.8\n",
       "     2      36.0  36.9\n",
       "2014 1      44.0  36.0\n",
       "     2      29.0  38.7"
      ],
      "text/html": [
       "<div>\n",
       "<style scoped>\n",
       "    .dataframe tbody tr th:only-of-type {\n",
       "        vertical-align: middle;\n",
       "    }\n",
       "\n",
       "    .dataframe tbody tr th {\n",
       "        vertical-align: top;\n",
       "    }\n",
       "\n",
       "    .dataframe thead th {\n",
       "        text-align: right;\n",
       "    }\n",
       "</style>\n",
       "<table border=\"1\" class=\"dataframe\">\n",
       "  <thead>\n",
       "    <tr style=\"text-align: right;\">\n",
       "      <th></th>\n",
       "      <th>type</th>\n",
       "      <th>HR</th>\n",
       "      <th>Temp</th>\n",
       "    </tr>\n",
       "    <tr>\n",
       "      <th>year</th>\n",
       "      <th>visit</th>\n",
       "      <th></th>\n",
       "      <th></th>\n",
       "    </tr>\n",
       "  </thead>\n",
       "  <tbody>\n",
       "    <tr>\n",
       "      <th rowspan=\"2\" valign=\"top\">2013</th>\n",
       "      <th>1</th>\n",
       "      <td>40.0</td>\n",
       "      <td>37.8</td>\n",
       "    </tr>\n",
       "    <tr>\n",
       "      <th>2</th>\n",
       "      <td>36.0</td>\n",
       "      <td>36.9</td>\n",
       "    </tr>\n",
       "    <tr>\n",
       "      <th rowspan=\"2\" valign=\"top\">2014</th>\n",
       "      <th>1</th>\n",
       "      <td>44.0</td>\n",
       "      <td>36.0</td>\n",
       "    </tr>\n",
       "    <tr>\n",
       "      <th>2</th>\n",
       "      <td>29.0</td>\n",
       "      <td>38.7</td>\n",
       "    </tr>\n",
       "  </tbody>\n",
       "</table>\n",
       "</div>"
      ]
     },
     "execution_count": 228,
     "metadata": {},
     "output_type": "execute_result"
    }
   ],
   "execution_count": 228
  },
  {
   "metadata": {},
   "cell_type": "markdown",
   "source": "## Indexing and Slicing a MultiIndex",
   "id": "b74efd9e00572d05"
  },
  {
   "metadata": {
    "ExecuteTime": {
     "end_time": "2025-06-04T05:38:51.872061Z",
     "start_time": "2025-06-04T05:38:51.868958Z"
    }
   },
   "cell_type": "code",
   "source": "### Mutiply Indexed Series",
   "id": "997fd984c51a43bc",
   "outputs": [],
   "execution_count": 229
  },
  {
   "metadata": {
    "ExecuteTime": {
     "end_time": "2025-06-04T05:38:53.051908Z",
     "start_time": "2025-06-04T05:38:53.047142Z"
    }
   },
   "cell_type": "code",
   "source": "pop",
   "id": "812d150401b44f6e",
   "outputs": [
    {
     "data": {
      "text/plain": [
       "state       year\n",
       "California  2000    33871648\n",
       "            2010    37253956\n",
       "New York    2000    18976457\n",
       "            2010    19378102\n",
       "Texas       2000    20851820\n",
       "            2010    25145561\n",
       "dtype: int64"
      ]
     },
     "execution_count": 230,
     "metadata": {},
     "output_type": "execute_result"
    }
   ],
   "execution_count": 230
  },
  {
   "metadata": {
    "ExecuteTime": {
     "end_time": "2025-06-04T05:39:18.133649Z",
     "start_time": "2025-06-04T05:39:18.128143Z"
    }
   },
   "cell_type": "code",
   "source": "pop['California', 2000].item()",
   "id": "68a7c32a96a6a2a0",
   "outputs": [
    {
     "data": {
      "text/plain": [
       "33871648"
      ]
     },
     "execution_count": 232,
     "metadata": {},
     "output_type": "execute_result"
    }
   ],
   "execution_count": 232
  },
  {
   "metadata": {
    "ExecuteTime": {
     "end_time": "2025-06-04T05:39:57.613896Z",
     "start_time": "2025-06-04T05:39:57.609016Z"
    }
   },
   "cell_type": "code",
   "source": [
    "# partial indexing\n",
    "pop['California']"
   ],
   "id": "1197e581f8942c07",
   "outputs": [
    {
     "data": {
      "text/plain": [
       "year\n",
       "2000    33871648\n",
       "2010    37253956\n",
       "dtype: int64"
      ]
     },
     "execution_count": 233,
     "metadata": {},
     "output_type": "execute_result"
    }
   ],
   "execution_count": 233
  },
  {
   "metadata": {
    "ExecuteTime": {
     "end_time": "2025-06-04T05:40:19.260118Z",
     "start_time": "2025-06-04T05:40:19.254914Z"
    }
   },
   "cell_type": "code",
   "source": "pop[:, 2000]",
   "id": "df6326d4ae46b369",
   "outputs": [
    {
     "data": {
      "text/plain": [
       "state\n",
       "California    33871648\n",
       "New York      18976457\n",
       "Texas         20851820\n",
       "dtype: int64"
      ]
     },
     "execution_count": 235,
     "metadata": {},
     "output_type": "execute_result"
    }
   ],
   "execution_count": 235
  },
  {
   "metadata": {
    "ExecuteTime": {
     "end_time": "2025-06-04T05:41:05.020499Z",
     "start_time": "2025-06-04T05:41:05.007642Z"
    }
   },
   "cell_type": "code",
   "source": "pop.loc['California':'New York']",
   "id": "41f4471169ac683f",
   "outputs": [
    {
     "data": {
      "text/plain": [
       "state       year\n",
       "California  2000    33871648\n",
       "            2010    37253956\n",
       "New York    2000    18976457\n",
       "            2010    19378102\n",
       "dtype: int64"
      ]
     },
     "execution_count": 237,
     "metadata": {},
     "output_type": "execute_result"
    }
   ],
   "execution_count": 237
  },
  {
   "metadata": {
    "ExecuteTime": {
     "end_time": "2025-06-04T05:42:17.317217Z",
     "start_time": "2025-06-04T05:42:17.311203Z"
    }
   },
   "cell_type": "code",
   "source": [
    "# selection based on Boolean masks\n",
    "pop[pop > 22000000]"
   ],
   "id": "814cace95f85e9ac",
   "outputs": [
    {
     "data": {
      "text/plain": [
       "state       year\n",
       "California  2000    33871648\n",
       "            2010    37253956\n",
       "Texas       2010    25145561\n",
       "dtype: int64"
      ]
     },
     "execution_count": 238,
     "metadata": {},
     "output_type": "execute_result"
    }
   ],
   "execution_count": 238
  },
  {
   "metadata": {
    "ExecuteTime": {
     "end_time": "2025-06-04T05:42:52.180751Z",
     "start_time": "2025-06-04T05:42:52.173514Z"
    }
   },
   "cell_type": "code",
   "source": [
    "# selection based on fancy indexing\n",
    "pop[['California', 'Texas']]"
   ],
   "id": "3634153faf36df78",
   "outputs": [
    {
     "data": {
      "text/plain": [
       "state       year\n",
       "California  2000    33871648\n",
       "            2010    37253956\n",
       "Texas       2000    20851820\n",
       "            2010    25145561\n",
       "dtype: int64"
      ]
     },
     "execution_count": 239,
     "metadata": {},
     "output_type": "execute_result"
    }
   ],
   "execution_count": 239
  },
  {
   "metadata": {},
   "cell_type": "markdown",
   "source": "### Multiply indexed DataFrames",
   "id": "9c908dd5b6b93fb7"
  },
  {
   "metadata": {
    "ExecuteTime": {
     "end_time": "2025-06-04T05:43:19.992682Z",
     "start_time": "2025-06-04T05:43:19.983774Z"
    }
   },
   "cell_type": "code",
   "source": "health_data",
   "id": "5d19476b8d409476",
   "outputs": [
    {
     "data": {
      "text/plain": [
       "subject      Bob       Guido         Sue      \n",
       "type          HR  Temp    HR  Temp    HR  Temp\n",
       "year visit                                    \n",
       "2013 1      37.0  34.4  40.0  37.8  27.0  36.7\n",
       "     2      41.0  35.2  36.0  36.9  18.0  37.4\n",
       "2014 1      51.0  36.5  44.0  36.0  39.0  35.8\n",
       "     2      57.0  35.6  29.0  38.7  39.0  36.3"
      ],
      "text/html": [
       "<div>\n",
       "<style scoped>\n",
       "    .dataframe tbody tr th:only-of-type {\n",
       "        vertical-align: middle;\n",
       "    }\n",
       "\n",
       "    .dataframe tbody tr th {\n",
       "        vertical-align: top;\n",
       "    }\n",
       "\n",
       "    .dataframe thead tr th {\n",
       "        text-align: left;\n",
       "    }\n",
       "\n",
       "    .dataframe thead tr:last-of-type th {\n",
       "        text-align: right;\n",
       "    }\n",
       "</style>\n",
       "<table border=\"1\" class=\"dataframe\">\n",
       "  <thead>\n",
       "    <tr>\n",
       "      <th></th>\n",
       "      <th>subject</th>\n",
       "      <th colspan=\"2\" halign=\"left\">Bob</th>\n",
       "      <th colspan=\"2\" halign=\"left\">Guido</th>\n",
       "      <th colspan=\"2\" halign=\"left\">Sue</th>\n",
       "    </tr>\n",
       "    <tr>\n",
       "      <th></th>\n",
       "      <th>type</th>\n",
       "      <th>HR</th>\n",
       "      <th>Temp</th>\n",
       "      <th>HR</th>\n",
       "      <th>Temp</th>\n",
       "      <th>HR</th>\n",
       "      <th>Temp</th>\n",
       "    </tr>\n",
       "    <tr>\n",
       "      <th>year</th>\n",
       "      <th>visit</th>\n",
       "      <th></th>\n",
       "      <th></th>\n",
       "      <th></th>\n",
       "      <th></th>\n",
       "      <th></th>\n",
       "      <th></th>\n",
       "    </tr>\n",
       "  </thead>\n",
       "  <tbody>\n",
       "    <tr>\n",
       "      <th rowspan=\"2\" valign=\"top\">2013</th>\n",
       "      <th>1</th>\n",
       "      <td>37.0</td>\n",
       "      <td>34.4</td>\n",
       "      <td>40.0</td>\n",
       "      <td>37.8</td>\n",
       "      <td>27.0</td>\n",
       "      <td>36.7</td>\n",
       "    </tr>\n",
       "    <tr>\n",
       "      <th>2</th>\n",
       "      <td>41.0</td>\n",
       "      <td>35.2</td>\n",
       "      <td>36.0</td>\n",
       "      <td>36.9</td>\n",
       "      <td>18.0</td>\n",
       "      <td>37.4</td>\n",
       "    </tr>\n",
       "    <tr>\n",
       "      <th rowspan=\"2\" valign=\"top\">2014</th>\n",
       "      <th>1</th>\n",
       "      <td>51.0</td>\n",
       "      <td>36.5</td>\n",
       "      <td>44.0</td>\n",
       "      <td>36.0</td>\n",
       "      <td>39.0</td>\n",
       "      <td>35.8</td>\n",
       "    </tr>\n",
       "    <tr>\n",
       "      <th>2</th>\n",
       "      <td>57.0</td>\n",
       "      <td>35.6</td>\n",
       "      <td>29.0</td>\n",
       "      <td>38.7</td>\n",
       "      <td>39.0</td>\n",
       "      <td>36.3</td>\n",
       "    </tr>\n",
       "  </tbody>\n",
       "</table>\n",
       "</div>"
      ]
     },
     "execution_count": 240,
     "metadata": {},
     "output_type": "execute_result"
    }
   ],
   "execution_count": 240
  },
  {
   "metadata": {
    "ExecuteTime": {
     "end_time": "2025-06-04T05:44:35.761941Z",
     "start_time": "2025-06-04T05:44:35.755998Z"
    }
   },
   "cell_type": "code",
   "source": [
    "# columns are primary in DataFrame\n",
    "health_data['Guido', 'HR']"
   ],
   "id": "3de137ef5857efec",
   "outputs": [
    {
     "data": {
      "text/plain": [
       "year  visit\n",
       "2013  1        40.0\n",
       "      2        36.0\n",
       "2014  1        44.0\n",
       "      2        29.0\n",
       "Name: (Guido, HR), dtype: float64"
      ]
     },
     "execution_count": 244,
     "metadata": {},
     "output_type": "execute_result"
    }
   ],
   "execution_count": 244
  },
  {
   "metadata": {
    "ExecuteTime": {
     "end_time": "2025-06-04T05:44:56.338506Z",
     "start_time": "2025-06-04T05:44:56.331509Z"
    }
   },
   "cell_type": "code",
   "source": "health_data.iloc[:2, :2]",
   "id": "36e62cebc6d91284",
   "outputs": [
    {
     "data": {
      "text/plain": [
       "subject      Bob      \n",
       "type          HR  Temp\n",
       "year visit            \n",
       "2013 1      37.0  34.4\n",
       "     2      41.0  35.2"
      ],
      "text/html": [
       "<div>\n",
       "<style scoped>\n",
       "    .dataframe tbody tr th:only-of-type {\n",
       "        vertical-align: middle;\n",
       "    }\n",
       "\n",
       "    .dataframe tbody tr th {\n",
       "        vertical-align: top;\n",
       "    }\n",
       "\n",
       "    .dataframe thead tr th {\n",
       "        text-align: left;\n",
       "    }\n",
       "\n",
       "    .dataframe thead tr:last-of-type th {\n",
       "        text-align: right;\n",
       "    }\n",
       "</style>\n",
       "<table border=\"1\" class=\"dataframe\">\n",
       "  <thead>\n",
       "    <tr>\n",
       "      <th></th>\n",
       "      <th>subject</th>\n",
       "      <th colspan=\"2\" halign=\"left\">Bob</th>\n",
       "    </tr>\n",
       "    <tr>\n",
       "      <th></th>\n",
       "      <th>type</th>\n",
       "      <th>HR</th>\n",
       "      <th>Temp</th>\n",
       "    </tr>\n",
       "    <tr>\n",
       "      <th>year</th>\n",
       "      <th>visit</th>\n",
       "      <th></th>\n",
       "      <th></th>\n",
       "    </tr>\n",
       "  </thead>\n",
       "  <tbody>\n",
       "    <tr>\n",
       "      <th rowspan=\"2\" valign=\"top\">2013</th>\n",
       "      <th>1</th>\n",
       "      <td>37.0</td>\n",
       "      <td>34.4</td>\n",
       "    </tr>\n",
       "    <tr>\n",
       "      <th>2</th>\n",
       "      <td>41.0</td>\n",
       "      <td>35.2</td>\n",
       "    </tr>\n",
       "  </tbody>\n",
       "</table>\n",
       "</div>"
      ]
     },
     "execution_count": 245,
     "metadata": {},
     "output_type": "execute_result"
    }
   ],
   "execution_count": 245
  },
  {
   "metadata": {
    "ExecuteTime": {
     "end_time": "2025-06-04T05:46:01.552859Z",
     "start_time": "2025-06-04T05:46:01.546846Z"
    }
   },
   "cell_type": "code",
   "source": "health_data.loc[:, ('Bob', 'HR')]",
   "id": "cdbdd1a9dc5880da",
   "outputs": [
    {
     "data": {
      "text/plain": [
       "year  visit\n",
       "2013  1        37.0\n",
       "      2        41.0\n",
       "2014  1        51.0\n",
       "      2        57.0\n",
       "Name: (Bob, HR), dtype: float64"
      ]
     },
     "execution_count": 246,
     "metadata": {},
     "output_type": "execute_result"
    }
   ],
   "execution_count": 246
  },
  {
   "metadata": {
    "ExecuteTime": {
     "end_time": "2025-06-04T05:46:33.179411Z",
     "start_time": "2025-06-04T05:46:33.172786Z"
    }
   },
   "cell_type": "code",
   "source": "health_data.loc[:, ('Sue', 'Temp')]",
   "id": "71409af06ae6d55b",
   "outputs": [
    {
     "data": {
      "text/plain": [
       "year  visit\n",
       "2013  1        36.7\n",
       "      2        37.4\n",
       "2014  1        35.8\n",
       "      2        36.3\n",
       "Name: (Sue, Temp), dtype: float64"
      ]
     },
     "execution_count": 247,
     "metadata": {},
     "output_type": "execute_result"
    }
   ],
   "execution_count": 247
  },
  {
   "metadata": {
    "ExecuteTime": {
     "end_time": "2025-06-04T05:47:25.901379Z",
     "start_time": "2025-06-04T05:47:25.897469Z"
    }
   },
   "cell_type": "code",
   "source": [
    "# wont work\n",
    "health_data.loc[(:, 1), (:, 'HR')]"
   ],
   "id": "2c6b83b5a88983ec",
   "outputs": [
    {
     "ename": "SyntaxError",
     "evalue": "invalid syntax (4280363760.py, line 2)",
     "output_type": "error",
     "traceback": [
      "\u001B[1;36m  Cell \u001B[1;32mIn[248], line 2\u001B[1;36m\u001B[0m\n\u001B[1;33m    health_data.loc[(:, 1), (:, 'HR')]\u001B[0m\n\u001B[1;37m                     ^\u001B[0m\n\u001B[1;31mSyntaxError\u001B[0m\u001B[1;31m:\u001B[0m invalid syntax\n"
     ]
    }
   ],
   "execution_count": 248
  },
  {
   "metadata": {
    "ExecuteTime": {
     "end_time": "2025-06-04T05:48:36.808111Z",
     "start_time": "2025-06-04T05:48:36.800314Z"
    }
   },
   "cell_type": "code",
   "source": [
    "idx = pd.IndexSlice\n",
    "health_data.loc[idx[:, 1], idx[:, 'HR']]"
   ],
   "id": "af5e267e25c9316c",
   "outputs": [
    {
     "data": {
      "text/plain": [
       "subject      Bob Guido   Sue\n",
       "type          HR    HR    HR\n",
       "year visit                  \n",
       "2013 1      37.0  40.0  27.0\n",
       "2014 1      51.0  44.0  39.0"
      ],
      "text/html": [
       "<div>\n",
       "<style scoped>\n",
       "    .dataframe tbody tr th:only-of-type {\n",
       "        vertical-align: middle;\n",
       "    }\n",
       "\n",
       "    .dataframe tbody tr th {\n",
       "        vertical-align: top;\n",
       "    }\n",
       "\n",
       "    .dataframe thead tr th {\n",
       "        text-align: left;\n",
       "    }\n",
       "\n",
       "    .dataframe thead tr:last-of-type th {\n",
       "        text-align: right;\n",
       "    }\n",
       "</style>\n",
       "<table border=\"1\" class=\"dataframe\">\n",
       "  <thead>\n",
       "    <tr>\n",
       "      <th></th>\n",
       "      <th>subject</th>\n",
       "      <th>Bob</th>\n",
       "      <th>Guido</th>\n",
       "      <th>Sue</th>\n",
       "    </tr>\n",
       "    <tr>\n",
       "      <th></th>\n",
       "      <th>type</th>\n",
       "      <th>HR</th>\n",
       "      <th>HR</th>\n",
       "      <th>HR</th>\n",
       "    </tr>\n",
       "    <tr>\n",
       "      <th>year</th>\n",
       "      <th>visit</th>\n",
       "      <th></th>\n",
       "      <th></th>\n",
       "      <th></th>\n",
       "    </tr>\n",
       "  </thead>\n",
       "  <tbody>\n",
       "    <tr>\n",
       "      <th>2013</th>\n",
       "      <th>1</th>\n",
       "      <td>37.0</td>\n",
       "      <td>40.0</td>\n",
       "      <td>27.0</td>\n",
       "    </tr>\n",
       "    <tr>\n",
       "      <th>2014</th>\n",
       "      <th>1</th>\n",
       "      <td>51.0</td>\n",
       "      <td>44.0</td>\n",
       "      <td>39.0</td>\n",
       "    </tr>\n",
       "  </tbody>\n",
       "</table>\n",
       "</div>"
      ]
     },
     "execution_count": 251,
     "metadata": {},
     "output_type": "execute_result"
    }
   ],
   "execution_count": 251
  },
  {
   "metadata": {},
   "cell_type": "markdown",
   "source": "## Rearrange Multi-Indices",
   "id": "315e33090a03467f"
  },
  {
   "metadata": {},
   "cell_type": "markdown",
   "source": [
    "### Sorted and unsorted indices\n",
    "\n",
    "*Many of the `MultiIndex` slicing operation will fail if the index is not sorted.*\n"
   ],
   "id": "73a2a454bb17d446"
  },
  {
   "metadata": {
    "ExecuteTime": {
     "end_time": "2025-06-05T04:29:57.631811Z",
     "start_time": "2025-06-05T04:29:57.615103Z"
    }
   },
   "cell_type": "code",
   "source": [
    "index = pd.MultiIndex.from_product([['a', 'c', 'b'],\n",
    "                                    [1, 2]])\n",
    "data = pd.Series(np.random.rand(6),\n",
    "                 index=index)\n",
    "data.index.names = ['char', 'int']\n",
    "data"
   ],
   "id": "6eea970a5173a535",
   "outputs": [
    {
     "data": {
      "text/plain": [
       "char  int\n",
       "a     1      0.393854\n",
       "      2      0.339998\n",
       "c     1      0.083220\n",
       "      2      0.869573\n",
       "b     1      0.281723\n",
       "      2      0.741689\n",
       "dtype: float64"
      ]
     },
     "execution_count": 257,
     "metadata": {},
     "output_type": "execute_result"
    }
   ],
   "execution_count": 257
  },
  {
   "metadata": {
    "ExecuteTime": {
     "end_time": "2025-06-05T04:29:59.401334Z",
     "start_time": "2025-06-05T04:29:59.394047Z"
    }
   },
   "cell_type": "code",
   "source": [
    "try:\n",
    "    data['a':'b']\n",
    "except KeyError as e:\n",
    "    print(type(e))\n",
    "    print(e)"
   ],
   "id": "faf00ed98b25c5c0",
   "outputs": [
    {
     "name": "stdout",
     "output_type": "stream",
     "text": [
      "<class 'pandas.errors.UnsortedIndexError'>\n",
      "'Key length (1) was greater than MultiIndex lexsort depth (0)'\n"
     ]
    }
   ],
   "execution_count": 258
  },
  {
   "metadata": {
    "ExecuteTime": {
     "end_time": "2025-06-05T04:30:04.631862Z",
     "start_time": "2025-06-05T04:30:04.598610Z"
    }
   },
   "cell_type": "code",
   "source": [
    "data = data.sort_index()\n",
    "data"
   ],
   "id": "a13e4b38e2fccfd8",
   "outputs": [
    {
     "data": {
      "text/plain": [
       "char  int\n",
       "a     1      0.393854\n",
       "      2      0.339998\n",
       "b     1      0.281723\n",
       "      2      0.741689\n",
       "c     1      0.083220\n",
       "      2      0.869573\n",
       "dtype: float64"
      ]
     },
     "execution_count": 259,
     "metadata": {},
     "output_type": "execute_result"
    }
   ],
   "execution_count": 259
  },
  {
   "metadata": {
    "ExecuteTime": {
     "end_time": "2025-06-05T04:30:24.554894Z",
     "start_time": "2025-06-05T04:30:24.542456Z"
    }
   },
   "cell_type": "code",
   "source": "data['a':'b']",
   "id": "56ed7bfc6690db7f",
   "outputs": [
    {
     "data": {
      "text/plain": [
       "char  int\n",
       "a     1      0.393854\n",
       "      2      0.339998\n",
       "b     1      0.281723\n",
       "      2      0.741689\n",
       "dtype: float64"
      ]
     },
     "execution_count": 260,
     "metadata": {},
     "output_type": "execute_result"
    }
   ],
   "execution_count": 260
  },
  {
   "metadata": {},
   "cell_type": "markdown",
   "source": "### Stacking and unstacking indices",
   "id": "e2ba154006c67de3"
  },
  {
   "metadata": {
    "ExecuteTime": {
     "end_time": "2025-06-05T04:30:50.052405Z",
     "start_time": "2025-06-05T04:30:50.033595Z"
    }
   },
   "cell_type": "code",
   "source": "pop.unstack(level=0)",
   "id": "cca683eb93b3c7ac",
   "outputs": [
    {
     "data": {
      "text/plain": [
       "state  California  New York     Texas\n",
       "year                                 \n",
       "2000     33871648  18976457  20851820\n",
       "2010     37253956  19378102  25145561"
      ],
      "text/html": [
       "<div>\n",
       "<style scoped>\n",
       "    .dataframe tbody tr th:only-of-type {\n",
       "        vertical-align: middle;\n",
       "    }\n",
       "\n",
       "    .dataframe tbody tr th {\n",
       "        vertical-align: top;\n",
       "    }\n",
       "\n",
       "    .dataframe thead th {\n",
       "        text-align: right;\n",
       "    }\n",
       "</style>\n",
       "<table border=\"1\" class=\"dataframe\">\n",
       "  <thead>\n",
       "    <tr style=\"text-align: right;\">\n",
       "      <th>state</th>\n",
       "      <th>California</th>\n",
       "      <th>New York</th>\n",
       "      <th>Texas</th>\n",
       "    </tr>\n",
       "    <tr>\n",
       "      <th>year</th>\n",
       "      <th></th>\n",
       "      <th></th>\n",
       "      <th></th>\n",
       "    </tr>\n",
       "  </thead>\n",
       "  <tbody>\n",
       "    <tr>\n",
       "      <th>2000</th>\n",
       "      <td>33871648</td>\n",
       "      <td>18976457</td>\n",
       "      <td>20851820</td>\n",
       "    </tr>\n",
       "    <tr>\n",
       "      <th>2010</th>\n",
       "      <td>37253956</td>\n",
       "      <td>19378102</td>\n",
       "      <td>25145561</td>\n",
       "    </tr>\n",
       "  </tbody>\n",
       "</table>\n",
       "</div>"
      ]
     },
     "execution_count": 261,
     "metadata": {},
     "output_type": "execute_result"
    }
   ],
   "execution_count": 261
  },
  {
   "metadata": {
    "ExecuteTime": {
     "end_time": "2025-06-05T04:31:06.649422Z",
     "start_time": "2025-06-05T04:31:06.634489Z"
    }
   },
   "cell_type": "code",
   "source": "pop.unstack(level=1)",
   "id": "37020d32051a4d3b",
   "outputs": [
    {
     "data": {
      "text/plain": [
       "year            2000      2010\n",
       "state                         \n",
       "California  33871648  37253956\n",
       "New York    18976457  19378102\n",
       "Texas       20851820  25145561"
      ],
      "text/html": [
       "<div>\n",
       "<style scoped>\n",
       "    .dataframe tbody tr th:only-of-type {\n",
       "        vertical-align: middle;\n",
       "    }\n",
       "\n",
       "    .dataframe tbody tr th {\n",
       "        vertical-align: top;\n",
       "    }\n",
       "\n",
       "    .dataframe thead th {\n",
       "        text-align: right;\n",
       "    }\n",
       "</style>\n",
       "<table border=\"1\" class=\"dataframe\">\n",
       "  <thead>\n",
       "    <tr style=\"text-align: right;\">\n",
       "      <th>year</th>\n",
       "      <th>2000</th>\n",
       "      <th>2010</th>\n",
       "    </tr>\n",
       "    <tr>\n",
       "      <th>state</th>\n",
       "      <th></th>\n",
       "      <th></th>\n",
       "    </tr>\n",
       "  </thead>\n",
       "  <tbody>\n",
       "    <tr>\n",
       "      <th>California</th>\n",
       "      <td>33871648</td>\n",
       "      <td>37253956</td>\n",
       "    </tr>\n",
       "    <tr>\n",
       "      <th>New York</th>\n",
       "      <td>18976457</td>\n",
       "      <td>19378102</td>\n",
       "    </tr>\n",
       "    <tr>\n",
       "      <th>Texas</th>\n",
       "      <td>20851820</td>\n",
       "      <td>25145561</td>\n",
       "    </tr>\n",
       "  </tbody>\n",
       "</table>\n",
       "</div>"
      ]
     },
     "execution_count": 262,
     "metadata": {},
     "output_type": "execute_result"
    }
   ],
   "execution_count": 262
  },
  {
   "metadata": {
    "ExecuteTime": {
     "end_time": "2025-06-05T04:31:25.948788Z",
     "start_time": "2025-06-05T04:31:25.933333Z"
    }
   },
   "cell_type": "code",
   "source": "pop.unstack().stack()",
   "id": "7fa0d231d01db7e7",
   "outputs": [
    {
     "data": {
      "text/plain": [
       "state       year\n",
       "California  2000    33871648\n",
       "            2010    37253956\n",
       "New York    2000    18976457\n",
       "            2010    19378102\n",
       "Texas       2000    20851820\n",
       "            2010    25145561\n",
       "dtype: int64"
      ]
     },
     "execution_count": 263,
     "metadata": {},
     "output_type": "execute_result"
    }
   ],
   "execution_count": 263
  },
  {
   "metadata": {},
   "cell_type": "markdown",
   "source": [
    "### Index setting and resetting\n",
    "\n",
    "Another way to rearrange hierarchical data is to to turn the index labels into columns; this can be accomplished with the `reset_index` method. Calling this on the population dictionary will result in a DataFrame with a *state* and *year* column holding the information that was formerly in the index."
   ],
   "id": "29770fdd2358318c"
  },
  {
   "metadata": {
    "ExecuteTime": {
     "end_time": "2025-06-05T04:34:11.789236Z",
     "start_time": "2025-06-05T04:34:11.755904Z"
    }
   },
   "cell_type": "code",
   "source": [
    "pop_flat = pop.reset_index(name='population')\n",
    "pop_flat"
   ],
   "id": "a45d75bbac5b65b5",
   "outputs": [
    {
     "data": {
      "text/plain": [
       "        state  year  population\n",
       "0  California  2000    33871648\n",
       "1  California  2010    37253956\n",
       "2    New York  2000    18976457\n",
       "3    New York  2010    19378102\n",
       "4       Texas  2000    20851820\n",
       "5       Texas  2010    25145561"
      ],
      "text/html": [
       "<div>\n",
       "<style scoped>\n",
       "    .dataframe tbody tr th:only-of-type {\n",
       "        vertical-align: middle;\n",
       "    }\n",
       "\n",
       "    .dataframe tbody tr th {\n",
       "        vertical-align: top;\n",
       "    }\n",
       "\n",
       "    .dataframe thead th {\n",
       "        text-align: right;\n",
       "    }\n",
       "</style>\n",
       "<table border=\"1\" class=\"dataframe\">\n",
       "  <thead>\n",
       "    <tr style=\"text-align: right;\">\n",
       "      <th></th>\n",
       "      <th>state</th>\n",
       "      <th>year</th>\n",
       "      <th>population</th>\n",
       "    </tr>\n",
       "  </thead>\n",
       "  <tbody>\n",
       "    <tr>\n",
       "      <th>0</th>\n",
       "      <td>California</td>\n",
       "      <td>2000</td>\n",
       "      <td>33871648</td>\n",
       "    </tr>\n",
       "    <tr>\n",
       "      <th>1</th>\n",
       "      <td>California</td>\n",
       "      <td>2010</td>\n",
       "      <td>37253956</td>\n",
       "    </tr>\n",
       "    <tr>\n",
       "      <th>2</th>\n",
       "      <td>New York</td>\n",
       "      <td>2000</td>\n",
       "      <td>18976457</td>\n",
       "    </tr>\n",
       "    <tr>\n",
       "      <th>3</th>\n",
       "      <td>New York</td>\n",
       "      <td>2010</td>\n",
       "      <td>19378102</td>\n",
       "    </tr>\n",
       "    <tr>\n",
       "      <th>4</th>\n",
       "      <td>Texas</td>\n",
       "      <td>2000</td>\n",
       "      <td>20851820</td>\n",
       "    </tr>\n",
       "    <tr>\n",
       "      <th>5</th>\n",
       "      <td>Texas</td>\n",
       "      <td>2010</td>\n",
       "      <td>25145561</td>\n",
       "    </tr>\n",
       "  </tbody>\n",
       "</table>\n",
       "</div>"
      ]
     },
     "execution_count": 264,
     "metadata": {},
     "output_type": "execute_result"
    }
   ],
   "execution_count": 264
  },
  {
   "metadata": {
    "ExecuteTime": {
     "end_time": "2025-06-05T04:36:03.332950Z",
     "start_time": "2025-06-05T04:36:03.297844Z"
    }
   },
   "cell_type": "code",
   "source": [
    "# returns a multiply indexed DataFrame\n",
    "pop_flat.set_index(['state', 'year'])"
   ],
   "id": "3d0b413a2008661b",
   "outputs": [
    {
     "data": {
      "text/plain": [
       "                 population\n",
       "state      year            \n",
       "California 2000    33871648\n",
       "           2010    37253956\n",
       "New York   2000    18976457\n",
       "           2010    19378102\n",
       "Texas      2000    20851820\n",
       "           2010    25145561"
      ],
      "text/html": [
       "<div>\n",
       "<style scoped>\n",
       "    .dataframe tbody tr th:only-of-type {\n",
       "        vertical-align: middle;\n",
       "    }\n",
       "\n",
       "    .dataframe tbody tr th {\n",
       "        vertical-align: top;\n",
       "    }\n",
       "\n",
       "    .dataframe thead th {\n",
       "        text-align: right;\n",
       "    }\n",
       "</style>\n",
       "<table border=\"1\" class=\"dataframe\">\n",
       "  <thead>\n",
       "    <tr style=\"text-align: right;\">\n",
       "      <th></th>\n",
       "      <th></th>\n",
       "      <th>population</th>\n",
       "    </tr>\n",
       "    <tr>\n",
       "      <th>state</th>\n",
       "      <th>year</th>\n",
       "      <th></th>\n",
       "    </tr>\n",
       "  </thead>\n",
       "  <tbody>\n",
       "    <tr>\n",
       "      <th rowspan=\"2\" valign=\"top\">California</th>\n",
       "      <th>2000</th>\n",
       "      <td>33871648</td>\n",
       "    </tr>\n",
       "    <tr>\n",
       "      <th>2010</th>\n",
       "      <td>37253956</td>\n",
       "    </tr>\n",
       "    <tr>\n",
       "      <th rowspan=\"2\" valign=\"top\">New York</th>\n",
       "      <th>2000</th>\n",
       "      <td>18976457</td>\n",
       "    </tr>\n",
       "    <tr>\n",
       "      <th>2010</th>\n",
       "      <td>19378102</td>\n",
       "    </tr>\n",
       "    <tr>\n",
       "      <th rowspan=\"2\" valign=\"top\">Texas</th>\n",
       "      <th>2000</th>\n",
       "      <td>20851820</td>\n",
       "    </tr>\n",
       "    <tr>\n",
       "      <th>2010</th>\n",
       "      <td>25145561</td>\n",
       "    </tr>\n",
       "  </tbody>\n",
       "</table>\n",
       "</div>"
      ]
     },
     "execution_count": 266,
     "metadata": {},
     "output_type": "execute_result"
    }
   ],
   "execution_count": 266
  },
  {
   "metadata": {},
   "cell_type": "markdown",
   "source": "## Data Aggregation on Multi-Indices",
   "id": "9e3e173d31a21aff"
  },
  {
   "metadata": {
    "ExecuteTime": {
     "end_time": "2025-06-05T04:38:00.518714Z",
     "start_time": "2025-06-05T04:38:00.492900Z"
    }
   },
   "cell_type": "code",
   "source": "health_data",
   "id": "d7b1a1fd312c91",
   "outputs": [
    {
     "data": {
      "text/plain": [
       "subject      Bob       Guido         Sue      \n",
       "type          HR  Temp    HR  Temp    HR  Temp\n",
       "year visit                                    \n",
       "2013 1      37.0  34.4  40.0  37.8  27.0  36.7\n",
       "     2      41.0  35.2  36.0  36.9  18.0  37.4\n",
       "2014 1      51.0  36.5  44.0  36.0  39.0  35.8\n",
       "     2      57.0  35.6  29.0  38.7  39.0  36.3"
      ],
      "text/html": [
       "<div>\n",
       "<style scoped>\n",
       "    .dataframe tbody tr th:only-of-type {\n",
       "        vertical-align: middle;\n",
       "    }\n",
       "\n",
       "    .dataframe tbody tr th {\n",
       "        vertical-align: top;\n",
       "    }\n",
       "\n",
       "    .dataframe thead tr th {\n",
       "        text-align: left;\n",
       "    }\n",
       "\n",
       "    .dataframe thead tr:last-of-type th {\n",
       "        text-align: right;\n",
       "    }\n",
       "</style>\n",
       "<table border=\"1\" class=\"dataframe\">\n",
       "  <thead>\n",
       "    <tr>\n",
       "      <th></th>\n",
       "      <th>subject</th>\n",
       "      <th colspan=\"2\" halign=\"left\">Bob</th>\n",
       "      <th colspan=\"2\" halign=\"left\">Guido</th>\n",
       "      <th colspan=\"2\" halign=\"left\">Sue</th>\n",
       "    </tr>\n",
       "    <tr>\n",
       "      <th></th>\n",
       "      <th>type</th>\n",
       "      <th>HR</th>\n",
       "      <th>Temp</th>\n",
       "      <th>HR</th>\n",
       "      <th>Temp</th>\n",
       "      <th>HR</th>\n",
       "      <th>Temp</th>\n",
       "    </tr>\n",
       "    <tr>\n",
       "      <th>year</th>\n",
       "      <th>visit</th>\n",
       "      <th></th>\n",
       "      <th></th>\n",
       "      <th></th>\n",
       "      <th></th>\n",
       "      <th></th>\n",
       "      <th></th>\n",
       "    </tr>\n",
       "  </thead>\n",
       "  <tbody>\n",
       "    <tr>\n",
       "      <th rowspan=\"2\" valign=\"top\">2013</th>\n",
       "      <th>1</th>\n",
       "      <td>37.0</td>\n",
       "      <td>34.4</td>\n",
       "      <td>40.0</td>\n",
       "      <td>37.8</td>\n",
       "      <td>27.0</td>\n",
       "      <td>36.7</td>\n",
       "    </tr>\n",
       "    <tr>\n",
       "      <th>2</th>\n",
       "      <td>41.0</td>\n",
       "      <td>35.2</td>\n",
       "      <td>36.0</td>\n",
       "      <td>36.9</td>\n",
       "      <td>18.0</td>\n",
       "      <td>37.4</td>\n",
       "    </tr>\n",
       "    <tr>\n",
       "      <th rowspan=\"2\" valign=\"top\">2014</th>\n",
       "      <th>1</th>\n",
       "      <td>51.0</td>\n",
       "      <td>36.5</td>\n",
       "      <td>44.0</td>\n",
       "      <td>36.0</td>\n",
       "      <td>39.0</td>\n",
       "      <td>35.8</td>\n",
       "    </tr>\n",
       "    <tr>\n",
       "      <th>2</th>\n",
       "      <td>57.0</td>\n",
       "      <td>35.6</td>\n",
       "      <td>29.0</td>\n",
       "      <td>38.7</td>\n",
       "      <td>39.0</td>\n",
       "      <td>36.3</td>\n",
       "    </tr>\n",
       "  </tbody>\n",
       "</table>\n",
       "</div>"
      ]
     },
     "execution_count": 267,
     "metadata": {},
     "output_type": "execute_result"
    }
   ],
   "execution_count": 267
  },
  {
   "metadata": {
    "ExecuteTime": {
     "end_time": "2025-06-05T04:41:11.149005Z",
     "start_time": "2025-06-05T04:41:11.134680Z"
    }
   },
   "cell_type": "code",
   "source": [
    "# average-out the measurements in the two visits each year\n",
    "data_mean = health_data.mean()\n",
    "data_mean"
   ],
   "id": "1d764b60e2810da7",
   "outputs": [
    {
     "data": {
      "text/plain": [
       "subject  type\n",
       "Bob      HR      46.500\n",
       "         Temp    35.425\n",
       "Guido    HR      37.250\n",
       "         Temp    37.350\n",
       "Sue      HR      30.750\n",
       "         Temp    36.550\n",
       "dtype: float64"
      ]
     },
     "execution_count": 274,
     "metadata": {},
     "output_type": "execute_result"
    }
   ],
   "execution_count": 274
  },
  {
   "metadata": {
    "ExecuteTime": {
     "end_time": "2025-06-05T04:41:59.608231Z",
     "start_time": "2025-06-05T04:41:59.598514Z"
    }
   },
   "cell_type": "code",
   "source": "data_mean.mean(axis=0)",
   "id": "76373acaef826a3f",
   "outputs": [
    {
     "data": {
      "text/plain": [
       "np.float64(37.30416666666667)"
      ]
     },
     "execution_count": 278,
     "metadata": {},
     "output_type": "execute_result"
    }
   ],
   "execution_count": 278
  },
  {
   "metadata": {},
   "cell_type": "code",
   "outputs": [],
   "execution_count": null,
   "source": "",
   "id": "9ffc90b9de101ea9"
  }
 ],
 "metadata": {
  "kernelspec": {
   "display_name": "Python 3",
   "language": "python",
   "name": "python3"
  },
  "language_info": {
   "codemirror_mode": {
    "name": "ipython",
    "version": 2
   },
   "file_extension": ".py",
   "mimetype": "text/x-python",
   "name": "python",
   "nbconvert_exporter": "python",
   "pygments_lexer": "ipython2",
   "version": "2.7.6"
  }
 },
 "nbformat": 4,
 "nbformat_minor": 5
}
